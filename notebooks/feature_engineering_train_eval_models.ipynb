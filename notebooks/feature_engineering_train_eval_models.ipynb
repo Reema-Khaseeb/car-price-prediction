{
 "cells": [
  {
   "cell_type": "code",
   "execution_count": 1,
   "metadata": {},
   "outputs": [],
   "source": [
    "# standard library imports\n",
    "import re\n",
    "import pickle\n",
    "\n",
    "# third-party library imports\n",
    "import numpy as np\n",
    "import pandas as pd\n",
    "import matplotlib.pyplot as plt\n",
    "import seaborn as sns\n",
    "\n",
    "# custom imports\n",
    "from pprint import pprint\n",
    "from sklearn.impute import KNNImputer\n",
    "from sklearn.model_selection import cross_val_score\n",
    "from sklearn.model_selection import train_test_split\n",
    "from category_encoders.one_hot import OneHotEncoder\n",
    "from sklearn.metrics import mean_squared_error, r2_score\n",
    "from sklearn.model_selection import RandomizedSearchCV\n",
    "from sklearn.preprocessing import StandardScaler\n",
    "from sklearn.preprocessing import PolynomialFeatures\n",
    "from sklearn.linear_model import LinearRegression\n",
    "from sklearn.linear_model import Ridge\n",
    "from sklearn.linear_model import Lasso\n",
    "from sklearn.linear_model import SGDRegressor\n",
    "from sklearn.linear_model import LogisticRegression\n",
    "from sklearn.neighbors import KNeighborsClassifier\n",
    "from sklearn.tree import DecisionTreeRegressor\n",
    "from sklearn.ensemble import GradientBoostingRegressor\n",
    "from sklearn.ensemble import RandomForestRegressor\n",
    "from sklearn.compose import ColumnTransformer\n",
    "from sklearn.pipeline import Pipeline\n",
    "from sklearn.preprocessing import PowerTransformer\n",
    "from statistics import mean"
   ]
  },
  {
   "cell_type": "code",
   "execution_count": 2,
   "metadata": {},
   "outputs": [],
   "source": [
    "dataset = pd.read_csv(\"../data/data_enriched.csv\")"
   ]
  },
  {
   "cell_type": "code",
   "execution_count": 3,
   "metadata": {},
   "outputs": [],
   "source": [
    "data_copy = dataset.copy()"
   ]
  },
  {
   "cell_type": "code",
   "execution_count": 4,
   "metadata": {},
   "outputs": [
    {
     "data": {
      "text/html": [
       "<div>\n",
       "<style scoped>\n",
       "    .dataframe tbody tr th:only-of-type {\n",
       "        vertical-align: middle;\n",
       "    }\n",
       "\n",
       "    .dataframe tbody tr th {\n",
       "        vertical-align: top;\n",
       "    }\n",
       "\n",
       "    .dataframe thead th {\n",
       "        text-align: right;\n",
       "    }\n",
       "</style>\n",
       "<table border=\"1\" class=\"dataframe\">\n",
       "  <thead>\n",
       "    <tr style=\"text-align: right;\">\n",
       "      <th></th>\n",
       "      <th>car_color</th>\n",
       "      <th>fuel_type</th>\n",
       "      <th>car_type</th>\n",
       "      <th>car_license</th>\n",
       "      <th>gear_type</th>\n",
       "      <th>windows</th>\n",
       "      <th>motor_power</th>\n",
       "      <th>speedometer</th>\n",
       "      <th>passengers_number</th>\n",
       "      <th>payment_method</th>\n",
       "      <th>car_state</th>\n",
       "      <th>ex_owners</th>\n",
       "      <th>additions</th>\n",
       "      <th>price</th>\n",
       "    </tr>\n",
       "  </thead>\n",
       "  <tbody>\n",
       "    <tr>\n",
       "      <th>0</th>\n",
       "      <td>أبيض عاجي</td>\n",
       "      <td>بنزين</td>\n",
       "      <td>خصوصي</td>\n",
       "      <td>فلسطينية</td>\n",
       "      <td>اوتوماتيك</td>\n",
       "      <td>الكتروني</td>\n",
       "      <td>2000</td>\n",
       "      <td>75000.0</td>\n",
       "      <td>5.0</td>\n",
       "      <td>نقدا فقط</td>\n",
       "      <td>للبيع فقط</td>\n",
       "      <td>1.0</td>\n",
       "      <td>\\n\\nمُكيّف\\nإغلاق مركزي\\nجهاز إنذار\\nمسجل CD\\n...</td>\n",
       "      <td>100000</td>\n",
       "    </tr>\n",
       "    <tr>\n",
       "      <th>1</th>\n",
       "      <td>سكني</td>\n",
       "      <td>ديزل</td>\n",
       "      <td>خصوصي</td>\n",
       "      <td>فلسطينية</td>\n",
       "      <td>نصف اوتوماتيك</td>\n",
       "      <td>الكتروني</td>\n",
       "      <td>2500</td>\n",
       "      <td>130000.0</td>\n",
       "      <td>8.0</td>\n",
       "      <td>إمكانية التقسيط</td>\n",
       "      <td>للبيع أو التبديل</td>\n",
       "      <td>2.0</td>\n",
       "      <td>\\n\\nمُكيّف\\nإغلاق مركزي\\nجهاز إنذار\\nمسجل CD\\n...</td>\n",
       "      <td>60000</td>\n",
       "    </tr>\n",
       "    <tr>\n",
       "      <th>2</th>\n",
       "      <td>سكني</td>\n",
       "      <td>بنزين</td>\n",
       "      <td>خصوصي</td>\n",
       "      <td>فلسطينية</td>\n",
       "      <td>اوتوماتيك</td>\n",
       "      <td>الكتروني</td>\n",
       "      <td>1600</td>\n",
       "      <td>NaN</td>\n",
       "      <td>NaN</td>\n",
       "      <td>نقدا فقط</td>\n",
       "      <td>للبيع فقط</td>\n",
       "      <td>NaN</td>\n",
       "      <td>\\n\\nمُكيّف\\nإغلاق مركزي\\nجهاز إنذار\\nمسجل CD\\n...</td>\n",
       "      <td>43500</td>\n",
       "    </tr>\n",
       "    <tr>\n",
       "      <th>3</th>\n",
       "      <td>بيج</td>\n",
       "      <td>بنزين</td>\n",
       "      <td>خصوصي</td>\n",
       "      <td>فلسطينية</td>\n",
       "      <td>عادي</td>\n",
       "      <td>يدوي</td>\n",
       "      <td>906</td>\n",
       "      <td>NaN</td>\n",
       "      <td>5.0</td>\n",
       "      <td>إمكانية التقسيط</td>\n",
       "      <td>للبيع فقط</td>\n",
       "      <td>0.0</td>\n",
       "      <td>\\n\\nمُكيّف\\nمسجل CD\\n\\n</td>\n",
       "      <td>5500</td>\n",
       "    </tr>\n",
       "    <tr>\n",
       "      <th>4</th>\n",
       "      <td>فضي</td>\n",
       "      <td>بنزين</td>\n",
       "      <td>خصوصي</td>\n",
       "      <td>فلسطينية</td>\n",
       "      <td>اوتوماتيك</td>\n",
       "      <td>الكتروني</td>\n",
       "      <td>1200</td>\n",
       "      <td>38000.0</td>\n",
       "      <td>5.0</td>\n",
       "      <td>نقدا فقط</td>\n",
       "      <td>للبيع فقط</td>\n",
       "      <td>NaN</td>\n",
       "      <td>\\n\\nمُكيّف\\nإغلاق مركزي\\nجهاز إنذار\\nجنطات مغن...</td>\n",
       "      <td>54000</td>\n",
       "    </tr>\n",
       "  </tbody>\n",
       "</table>\n",
       "</div>"
      ],
      "text/plain": [
       "    car_color fuel_type car_type car_license       gear_type    windows  \\\n",
       "0  أبيض عاجي     بنزين    خصوصي    فلسطينية       اوتوماتيك   الكتروني    \n",
       "1       سكني      ديزل    خصوصي    فلسطينية   نصف اوتوماتيك   الكتروني    \n",
       "2       سكني     بنزين    خصوصي    فلسطينية       اوتوماتيك   الكتروني    \n",
       "3        بيج     بنزين    خصوصي    فلسطينية            عادي       يدوي    \n",
       "4        فضي     بنزين    خصوصي    فلسطينية       اوتوماتيك   الكتروني    \n",
       "\n",
       "   motor_power  speedometer  passengers_number    payment_method  \\\n",
       "0         2000      75000.0                5.0         نقدا فقط    \n",
       "1         2500     130000.0                8.0  إمكانية التقسيط    \n",
       "2         1600          NaN                NaN         نقدا فقط    \n",
       "3          906          NaN                5.0  إمكانية التقسيط    \n",
       "4         1200      38000.0                5.0         نقدا فقط    \n",
       "\n",
       "           car_state  ex_owners  \\\n",
       "0         للبيع فقط         1.0   \n",
       "1  للبيع أو التبديل         2.0   \n",
       "2         للبيع فقط         NaN   \n",
       "3         للبيع فقط         0.0   \n",
       "4         للبيع فقط         NaN   \n",
       "\n",
       "                                           additions   price  \n",
       "0  \\n\\nمُكيّف\\nإغلاق مركزي\\nجهاز إنذار\\nمسجل CD\\n...  100000  \n",
       "1  \\n\\nمُكيّف\\nإغلاق مركزي\\nجهاز إنذار\\nمسجل CD\\n...   60000  \n",
       "2  \\n\\nمُكيّف\\nإغلاق مركزي\\nجهاز إنذار\\nمسجل CD\\n...   43500  \n",
       "3                            \\n\\nمُكيّف\\nمسجل CD\\n\\n    5500  \n",
       "4  \\n\\nمُكيّف\\nإغلاق مركزي\\nجهاز إنذار\\nجنطات مغن...   54000  "
      ]
     },
     "execution_count": 4,
     "metadata": {},
     "output_type": "execute_result"
    }
   ],
   "source": [
    "dataset.head()"
   ]
  },
  {
   "cell_type": "code",
   "execution_count": 5,
   "metadata": {},
   "outputs": [
    {
     "data": {
      "text/plain": [
       "(6864, 14)"
      ]
     },
     "execution_count": 5,
     "metadata": {},
     "output_type": "execute_result"
    }
   ],
   "source": [
    "dataset.shape"
   ]
  },
  {
   "cell_type": "markdown",
   "metadata": {},
   "source": [
    "## Feature Engineering"
   ]
  },
  {
   "attachments": {},
   "cell_type": "markdown",
   "metadata": {},
   "source": [
    "#### Feature Selection"
   ]
  },
  {
   "cell_type": "code",
   "execution_count": 6,
   "metadata": {},
   "outputs": [],
   "source": [
    "dataset.drop(['additions'], axis=1, inplace=True) "
   ]
  },
  {
   "cell_type": "markdown",
   "metadata": {},
   "source": [
    "### Handle outliers"
   ]
  },
  {
   "cell_type": "code",
   "execution_count": 7,
   "metadata": {},
   "outputs": [],
   "source": [
    "def handle_outliers(data, feature):\n",
    "    \"\"\"handle outliers\n",
    "\n",
    "    Args:\n",
    "        data (DataFrame): dataset\n",
    "        feature (Series): feature with outliers needed to be handled\n",
    "\n",
    "    Returns:\n",
    "        DataFrame: dataset after removing outliers\n",
    "    \"\"\"\n",
    "    upper_lim = data[feature].quantile(.999)\n",
    "    lower_lim = data[feature].quantile(.0000001)\n",
    "\n",
    "    return data[(data[feature] < upper_lim) & (data[feature] > lower_lim)]"
   ]
  },
  {
   "cell_type": "code",
   "execution_count": 8,
   "metadata": {},
   "outputs": [],
   "source": [
    "dataset = handle_outliers(dataset, 'speedometer')"
   ]
  },
  {
   "cell_type": "code",
   "execution_count": 9,
   "metadata": {},
   "outputs": [
    {
     "data": {
      "text/plain": [
       "(4357, 13)"
      ]
     },
     "execution_count": 9,
     "metadata": {},
     "output_type": "execute_result"
    }
   ],
   "source": [
    "dataset.shape"
   ]
  },
  {
   "attachments": {},
   "cell_type": "markdown",
   "metadata": {},
   "source": [
    "#### Split data into features and target variable"
   ]
  },
  {
   "cell_type": "code",
   "execution_count": 10,
   "metadata": {},
   "outputs": [],
   "source": [
    "X = dataset.drop(columns = 'price')\n",
    "y = dataset['price'] "
   ]
  },
  {
   "attachments": {},
   "cell_type": "markdown",
   "metadata": {},
   "source": [
    "#### Feature Preprocessing Transformation\n",
    "###### transform features applying ColumnTransformer() pipeline"
   ]
  },
  {
   "cell_type": "code",
   "execution_count": 11,
   "metadata": {},
   "outputs": [],
   "source": [
    "# get categorical features\n",
    "categorical_features = dataset.select_dtypes(['object']).columns.to_list()"
   ]
  },
  {
   "cell_type": "code",
   "execution_count": 12,
   "metadata": {},
   "outputs": [],
   "source": [
    "# get numeric features\n",
    "numeric_features = X.select_dtypes('number').columns.to_list()"
   ]
  },
  {
   "cell_type": "code",
   "execution_count": 13,
   "metadata": {},
   "outputs": [],
   "source": [
    "# Utilize Pipeline to perform different preprocessing steps to numerical columns of the data\n",
    "num_pipeline = Pipeline([\n",
    "    # Handle missing data using KNNImputer\n",
    "    ('imputer', KNNImputer(n_neighbors=3)),\n",
    "    # Perform feature scaling on numeric attributes using log transformation\n",
    "    ('log_transformer', PowerTransformer()),\n",
    "    ])"
   ]
  },
  {
   "cell_type": "code",
   "execution_count": 14,
   "metadata": {},
   "outputs": [],
   "source": [
    "# Apply different preprocessing steps to different columns of the data\n",
    "transformer = ColumnTransformer(\n",
    "    transformers = [  \n",
    "        # Perform One-Hot encoding on the categorical attributes\n",
    "        ('categorical', OneHotEncoder(), categorical_features),\n",
    "        # Perform the numerical pipeline on numeric attributes\n",
    "        ('numerical', num_pipeline, numeric_features),\n",
    "    ],\n",
    "    remainder='passthrough'\n",
    "    )"
   ]
  },
  {
   "cell_type": "code",
   "execution_count": 15,
   "metadata": {},
   "outputs": [
    {
     "name": "stderr",
     "output_type": "stream",
     "text": [
      "c:\\Users\\DELL\\Study\\ML2 2022\\ML2 Assignment1 Car Price Prediction\\car-price-prediction\\venv_car_price_pred\\lib\\site-packages\\category_encoders\\one_hot.py:145: FutureWarning: iteritems is deprecated and will be removed in a future version. Use .items instead.\n",
      "  for cat_name, class_ in values.iteritems():\n",
      "c:\\Users\\DELL\\Study\\ML2 2022\\ML2 Assignment1 Car Price Prediction\\car-price-prediction\\venv_car_price_pred\\lib\\site-packages\\category_encoders\\one_hot.py:145: FutureWarning: iteritems is deprecated and will be removed in a future version. Use .items instead.\n",
      "  for cat_name, class_ in values.iteritems():\n",
      "c:\\Users\\DELL\\Study\\ML2 2022\\ML2 Assignment1 Car Price Prediction\\car-price-prediction\\venv_car_price_pred\\lib\\site-packages\\category_encoders\\one_hot.py:145: FutureWarning: iteritems is deprecated and will be removed in a future version. Use .items instead.\n",
      "  for cat_name, class_ in values.iteritems():\n",
      "c:\\Users\\DELL\\Study\\ML2 2022\\ML2 Assignment1 Car Price Prediction\\car-price-prediction\\venv_car_price_pred\\lib\\site-packages\\category_encoders\\one_hot.py:145: FutureWarning: iteritems is deprecated and will be removed in a future version. Use .items instead.\n",
      "  for cat_name, class_ in values.iteritems():\n",
      "c:\\Users\\DELL\\Study\\ML2 2022\\ML2 Assignment1 Car Price Prediction\\car-price-prediction\\venv_car_price_pred\\lib\\site-packages\\category_encoders\\one_hot.py:145: FutureWarning: iteritems is deprecated and will be removed in a future version. Use .items instead.\n",
      "  for cat_name, class_ in values.iteritems():\n",
      "c:\\Users\\DELL\\Study\\ML2 2022\\ML2 Assignment1 Car Price Prediction\\car-price-prediction\\venv_car_price_pred\\lib\\site-packages\\category_encoders\\one_hot.py:145: FutureWarning: iteritems is deprecated and will be removed in a future version. Use .items instead.\n",
      "  for cat_name, class_ in values.iteritems():\n",
      "c:\\Users\\DELL\\Study\\ML2 2022\\ML2 Assignment1 Car Price Prediction\\car-price-prediction\\venv_car_price_pred\\lib\\site-packages\\category_encoders\\one_hot.py:145: FutureWarning: iteritems is deprecated and will be removed in a future version. Use .items instead.\n",
      "  for cat_name, class_ in values.iteritems():\n",
      "c:\\Users\\DELL\\Study\\ML2 2022\\ML2 Assignment1 Car Price Prediction\\car-price-prediction\\venv_car_price_pred\\lib\\site-packages\\category_encoders\\one_hot.py:145: FutureWarning: iteritems is deprecated and will be removed in a future version. Use .items instead.\n",
      "  for cat_name, class_ in values.iteritems():\n"
     ]
    }
   ],
   "source": [
    "# Transform dataset to feed the ML Algorithm\n",
    "X_transformed = transformer.fit_transform(X)"
   ]
  },
  {
   "cell_type": "code",
   "execution_count": 16,
   "metadata": {},
   "outputs": [
    {
     "data": {
      "text/plain": [
       "array([[ 1.        ,  0.        ,  0.        , ...,  0.21054285,\n",
       "        -0.17134673, -0.49311222],\n",
       "       [ 0.        ,  1.        ,  0.        , ...,  0.4387408 ,\n",
       "         2.47390984,  0.26810668],\n",
       "       [ 0.        ,  0.        ,  1.        , ..., -0.06096995,\n",
       "        -0.17134673, -0.49311222],\n",
       "       ...,\n",
       "       [ 0.        ,  0.        ,  1.        , ...,  0.04724654,\n",
       "        -0.17134673, -1.78947274],\n",
       "       [ 0.        ,  0.        ,  0.        , ..., -2.00076915,\n",
       "         1.71416546,  0.26810668],\n",
       "       [ 0.        ,  0.        ,  0.        , ...,  2.39795379,\n",
       "         2.47390984,  1.57439135]])"
      ]
     },
     "execution_count": 16,
     "metadata": {},
     "output_type": "execute_result"
    }
   ],
   "source": [
    "X_transformed"
   ]
  },
  {
   "attachments": {},
   "cell_type": "markdown",
   "metadata": {},
   "source": [
    "#### Define models to train/test the data on"
   ]
  },
  {
   "cell_type": "code",
   "execution_count": 17,
   "metadata": {},
   "outputs": [],
   "source": [
    "models = {'ordinary_least_squares_model': {'model': LinearRegression(), \n",
    "                  'description': 'orinary least square'\n",
    "                  },\n",
    "        'stochastic_gradient_descent_1000_iterations': {'model': SGDRegressor(),\n",
    "                  'description': 'gradient descent with 1000 iteration'\n",
    "                  },\n",
    "        'stochastic_gradient_descent_10_iterations': {'model': SGDRegressor(max_iter=10),\n",
    "                  'description': 'gradient descent with 10 iteration'\n",
    "                  },\n",
    "        'polynomial_degree_2': {'model': LinearRegression(),\n",
    "                  'degree': 2,\n",
    "                  'description': 'Polynomial with 2 degree'\n",
    "                  },\n",
    "        'polynomial_degree_2_ridge': {'model': Ridge(),\n",
    "                  'degree': 2,\n",
    "                  'description': 'orinary least square'\n",
    "                  },\n",
    "        'polynomial_degree_2_lasso': {'model': Lasso(),\n",
    "                  'degree': 2,\n",
    "                  'description': 'orinary least square'\n",
    "                  },\n",
    "        '3nn': {'model': KNeighborsClassifier(n_neighbors=3),\n",
    "                  'description': 'KNN with k=3'\n",
    "                  },\n",
    "        'decision_tree': {'model': DecisionTreeRegressor(),\n",
    "                  'description': 'Decision Tree Regressor'\n",
    "                  },\n",
    "        \"random_forest_regressor\": {\"model\": RandomForestRegressor(),\n",
    "                  \"description\":\"Random Forest Regressor\"\n",
    "                  },\n",
    "        \"random_forest_regressor_n_estimators_15\": {\"model\": RandomForestRegressor(n_estimators = 15),\n",
    "                  \"description\":\"Random Forest Regressor with n_estimators hyperparameter = 15\"\n",
    "                  },\n",
    "        'gradient_boosting_regressor': {'model': GradientBoostingRegressor(),\n",
    "                  'description': 'Gradient Boosting Regressor'\n",
    "                  },\n",
    "        'gradient_boosting_regressor_n_estimators_15': {'model': GradientBoostingRegressor(n_estimators = 15),\n",
    "                  'description': 'Gradient Boosting Regressor with n_estimators hyperparameter = 15'\n",
    "                  }\n",
    "  }"
   ]
  },
  {
   "cell_type": "markdown",
   "metadata": {},
   "source": [
    "#### Define funcitons needed to train, predict, and evaluate the data"
   ]
  },
  {
   "cell_type": "code",
   "execution_count": 18,
   "metadata": {},
   "outputs": [],
   "source": [
    "def train_plynomial_model(model, degree, X_train, y_train):\n",
    "    \"\"\"train polynomial model with the given degree\n",
    "\n",
    "    Args:\n",
    "        model (sklearn model): model to fit polynomial degree on to become a polynomial model\n",
    "        degree (int): degree of polynomial model\n",
    "        X_train (ndarray): features\n",
    "        y_train (ndarray): target variable\n",
    "    \"\"\"\n",
    "    poly = PolynomialFeatures(degree)\n",
    "    poly_x_train = poly.fit_transform(X_train)\n",
    "    model.fit(poly_x_train, y_train)"
   ]
  },
  {
   "cell_type": "code",
   "execution_count": 19,
   "metadata": {},
   "outputs": [],
   "source": [
    "def train_model(models, X_train, y_train):\n",
    "    \"\"\" train models by fitting each model on training dataset\n",
    "\n",
    "    Args:\n",
    "        models (Dict): dictionary of models to be evaluated\n",
    "        X_train (ndarray): features\n",
    "        y_train (ndarray): target variable\n",
    "\n",
    "    Returns:\n",
    "        Dict: models dictionary adjusted after fitting each model with training data\n",
    "    \"\"\"\n",
    "    # go over all models\n",
    "    for model_id in models:\n",
    "        # train if polynomial\n",
    "        if models[model_id].get(\"degree\"):\n",
    "            train_plynomial_model(models[model_id]['model'],\\\n",
    "                                  models[model_id]['degree'],\\\n",
    "                                  X_train,\\\n",
    "                                  y_train)\n",
    "            \n",
    "        else:  \n",
    "            models[model_id]['model'].fit(X_train, y_train)\n",
    "        #print(models[model_id]['model'].coef_)\n",
    "        #print(models[model_id]['model'].intercept_)\n",
    "        \n",
    "    # return the new dictionary\n",
    "    return models"
   ]
  },
  {
   "cell_type": "code",
   "execution_count": 20,
   "metadata": {},
   "outputs": [],
   "source": [
    "def predict_plynomial_model(model, degree, X_test):\n",
    "    \"\"\" predict polynomial model with specific degree\n",
    "\n",
    "    Args:\n",
    "        model (sklearn model): model to fit polynomial degree on to become a polynomial model\n",
    "        degree (int): degree of polynomial model\n",
    "        X_test (ndarray): features\n",
    "\n",
    "    Returns:\n",
    "        ndarray: polynomial predicted values for X_test data\n",
    "    \"\"\"\n",
    "    poly = PolynomialFeatures(degree)\n",
    "    poly_x_test = poly.fit_transform(X_test)   \n",
    "    return model.predict(poly_x_test)"
   ]
  },
  {
   "cell_type": "code",
   "execution_count": 21,
   "metadata": {},
   "outputs": [],
   "source": [
    "def eval_models(models, X_test, y_test, train_or_test):\n",
    "    \"\"\" Evaluate the data despite it's training set or test set using r2 and RMSE evaluation metrics \n",
    "    and add the score for each model to the dictionary\n",
    "\n",
    "    Args:\n",
    "        models (Dict): dictionary of models to be evaluated\n",
    "        X_test (ndarray): features\n",
    "        y_test (ndarray): target variable\n",
    "        train_or_test (str): whether the data is a training set or testing set\n",
    "\n",
    "    Returns:\n",
    "        Dict: models dictionary adjusted with added evaluation score\n",
    "    \"\"\"\n",
    "    # go over all models\n",
    "    for model_id in models:\n",
    "        # predict models\n",
    "\n",
    "        # in case the model have a \"degree\", then it's a polynomial model. Call the funciton that predict the polynomial model\n",
    "        if models[model_id].get(\"degree\"):\n",
    "            y_predict= predict_plynomial_model(models[model_id]['model'],\\\n",
    "                                  models[model_id]['degree'],\\\n",
    "                                  X_test)\n",
    "            \n",
    "        else: \n",
    "            y_predict = models[model_id]['model'].predict(X_test)\n",
    "\n",
    "        # evaluate models using 'Root Mean Square Error' evaluation metric\n",
    "        rmse = mean_squared_error(y_test, y_predict, squared=False)\n",
    "        models[model_id][f'{train_or_test}_RMSE'] = rmse\n",
    "        \n",
    "        # evaluate models dataset using 'R square' evaluation metric\n",
    "        models[model_id][f'{train_or_test}_R2_score'] = r2_score(y_test, y_predict)\n",
    "\n",
    "    # return models dictionary adjusted attached with evaluation metric\n",
    "    return models"
   ]
  },
  {
   "cell_type": "markdown",
   "metadata": {},
   "source": [
    "Split the data"
   ]
  },
  {
   "cell_type": "code",
   "execution_count": 22,
   "metadata": {},
   "outputs": [],
   "source": [
    "X_train, X_test, y_train, y_test = train_test_split(\n",
    "                            X_transformed, y,\n",
    "                            test_size=.25, random_state=42\n",
    "                            )"
   ]
  },
  {
   "cell_type": "code",
   "execution_count": 23,
   "metadata": {},
   "outputs": [
    {
     "data": {
      "text/plain": [
       "(3267,)"
      ]
     },
     "execution_count": 23,
     "metadata": {},
     "output_type": "execute_result"
    }
   ],
   "source": [
    "y_train.shape"
   ]
  },
  {
   "cell_type": "code",
   "execution_count": 24,
   "metadata": {},
   "outputs": [
    {
     "data": {
      "text/plain": [
       "(1090,)"
      ]
     },
     "execution_count": 24,
     "metadata": {},
     "output_type": "execute_result"
    }
   ],
   "source": [
    "y_test.shape"
   ]
  },
  {
   "cell_type": "code",
   "execution_count": 25,
   "metadata": {},
   "outputs": [
    {
     "name": "stderr",
     "output_type": "stream",
     "text": [
      "c:\\Users\\DELL\\Study\\ML2 2022\\ML2 Assignment1 Car Price Prediction\\car-price-prediction\\venv_car_price_pred\\lib\\site-packages\\sklearn\\linear_model\\_stochastic_gradient.py:1527: ConvergenceWarning: Maximum number of iteration reached before convergence. Consider increasing max_iter to improve the fit.\n",
      "  warnings.warn(\n",
      "c:\\Users\\DELL\\Study\\ML2 2022\\ML2 Assignment1 Car Price Prediction\\car-price-prediction\\venv_car_price_pred\\lib\\site-packages\\sklearn\\linear_model\\_coordinate_descent.py:648: ConvergenceWarning: Objective did not converge. You might want to increase the number of iterations, check the scale of the features or consider increasing regularisation. Duality gap: 1.255e+12, tolerance: 1.110e+09\n",
      "  model = cd_fast.enet_coordinate_descent(\n"
     ]
    },
    {
     "data": {
      "text/plain": [
       "{'ordinary_least_squares_model': {'model': LinearRegression(),\n",
       "  'description': 'orinary least square'},\n",
       " 'stochastic_gradient_descent_1000_iterations': {'model': SGDRegressor(),\n",
       "  'description': 'gradient descent with 1000 iteration'},\n",
       " 'stochastic_gradient_descent_10_iterations': {'model': SGDRegressor(max_iter=10),\n",
       "  'description': 'gradient descent with 10 iteration'},\n",
       " 'polynomial_degree_2': {'model': LinearRegression(),\n",
       "  'degree': 2,\n",
       "  'description': 'Polynomial with 2 degree'},\n",
       " 'polynomial_degree_2_ridge': {'model': Ridge(),\n",
       "  'degree': 2,\n",
       "  'description': 'orinary least square'},\n",
       " 'polynomial_degree_2_lasso': {'model': Lasso(),\n",
       "  'degree': 2,\n",
       "  'description': 'orinary least square'},\n",
       " '3nn': {'model': KNeighborsClassifier(n_neighbors=3),\n",
       "  'description': 'KNN with k=3'},\n",
       " 'decision_tree': {'model': DecisionTreeRegressor(),\n",
       "  'description': 'Decision Tree Regressor'},\n",
       " 'random_forest_regressor': {'model': RandomForestRegressor(),\n",
       "  'description': 'Random Forest Regressor'},\n",
       " 'random_forest_regressor_n_estimators_15': {'model': RandomForestRegressor(n_estimators=15),\n",
       "  'description': 'Random Forest Regressor with n_estimators hyperparameter = 15'},\n",
       " 'gradient_boosting_regressor': {'model': GradientBoostingRegressor(),\n",
       "  'description': 'Gradient Boosting Regressor'},\n",
       " 'gradient_boosting_regressor_n_estimators_15': {'model': GradientBoostingRegressor(n_estimators=15),\n",
       "  'description': 'Gradient Boosting Regressor with n_estimators hyperparameter = 15'}}"
      ]
     },
     "execution_count": 25,
     "metadata": {},
     "output_type": "execute_result"
    }
   ],
   "source": [
    "train_model(models, X_train, y_train)"
   ]
  },
  {
   "cell_type": "code",
   "execution_count": 26,
   "metadata": {},
   "outputs": [
    {
     "data": {
      "text/plain": [
       "{'ordinary_least_squares_model': {'model': LinearRegression(),\n",
       "  'description': 'orinary least square',\n",
       "  'test_RMSE': 53607.979826906536,\n",
       "  'test_R2_score': 0.21054474722831862},\n",
       " 'stochastic_gradient_descent_1000_iterations': {'model': SGDRegressor(),\n",
       "  'description': 'gradient descent with 1000 iteration',\n",
       "  'test_RMSE': 53656.06994505185,\n",
       "  'test_R2_score': 0.20912771845270584},\n",
       " 'stochastic_gradient_descent_10_iterations': {'model': SGDRegressor(max_iter=10),\n",
       "  'description': 'gradient descent with 10 iteration',\n",
       "  'test_RMSE': 53624.47601059299,\n",
       "  'test_R2_score': 0.21005881201438736},\n",
       " 'polynomial_degree_2': {'model': LinearRegression(),\n",
       "  'degree': 2,\n",
       "  'description': 'Polynomial with 2 degree',\n",
       "  'test_RMSE': 3049744749431086.0,\n",
       "  'test_R2_score': -2.555027743838248e+21},\n",
       " 'polynomial_degree_2_ridge': {'model': Ridge(),\n",
       "  'degree': 2,\n",
       "  'description': 'orinary least square',\n",
       "  'test_RMSE': 55051.40658450076,\n",
       "  'test_R2_score': 0.16745929697242412},\n",
       " 'polynomial_degree_2_lasso': {'model': Lasso(),\n",
       "  'degree': 2,\n",
       "  'description': 'orinary least square',\n",
       "  'test_RMSE': 57187.975480082394,\n",
       "  'test_R2_score': 0.1015827534119551},\n",
       " '3nn': {'model': KNeighborsClassifier(n_neighbors=3),\n",
       "  'description': 'KNN with k=3',\n",
       "  'test_RMSE': 58289.078079859864,\n",
       "  'test_R2_score': 0.06665327360079953},\n",
       " 'decision_tree': {'model': DecisionTreeRegressor(),\n",
       "  'description': 'Decision Tree Regressor',\n",
       "  'test_RMSE': 73138.88437445194,\n",
       "  'test_R2_score': -0.46948547877061486},\n",
       " 'random_forest_regressor': {'model': RandomForestRegressor(),\n",
       "  'description': 'Random Forest Regressor',\n",
       "  'test_RMSE': 53939.371635110496,\n",
       "  'test_R2_score': 0.20075412882209687},\n",
       " 'random_forest_regressor_n_estimators_15': {'model': RandomForestRegressor(n_estimators=15),\n",
       "  'description': 'Random Forest Regressor with n_estimators hyperparameter = 15',\n",
       "  'test_RMSE': 53965.742276933954,\n",
       "  'test_R2_score': 0.19997244456890362},\n",
       " 'gradient_boosting_regressor': {'model': GradientBoostingRegressor(),\n",
       "  'description': 'Gradient Boosting Regressor',\n",
       "  'test_RMSE': 50348.78538475642,\n",
       "  'test_R2_score': 0.303619451293753},\n",
       " 'gradient_boosting_regressor_n_estimators_15': {'model': GradientBoostingRegressor(n_estimators=15),\n",
       "  'description': 'Gradient Boosting Regressor with n_estimators hyperparameter = 15',\n",
       "  'test_RMSE': 51932.05888169616,\n",
       "  'test_R2_score': 0.2591339097370764}}"
      ]
     },
     "execution_count": 26,
     "metadata": {},
     "output_type": "execute_result"
    }
   ],
   "source": [
    "eval_models(models, X_test, y_test, 'test')"
   ]
  },
  {
   "cell_type": "code",
   "execution_count": 27,
   "metadata": {},
   "outputs": [
    {
     "data": {
      "text/plain": [
       "{'ordinary_least_squares_model': {'model': LinearRegression(),\n",
       "  'description': 'orinary least square',\n",
       "  'test_RMSE': 53607.979826906536,\n",
       "  'test_R2_score': 0.21054474722831862,\n",
       "  'train_RMSE': 49712.59057086342,\n",
       "  'train_R2_score': 0.27241796462933976},\n",
       " 'stochastic_gradient_descent_1000_iterations': {'model': SGDRegressor(),\n",
       "  'description': 'gradient descent with 1000 iteration',\n",
       "  'test_RMSE': 53656.06994505185,\n",
       "  'test_R2_score': 0.20912771845270584,\n",
       "  'train_RMSE': 49867.26197664983,\n",
       "  'train_R2_score': 0.26788345124001056},\n",
       " 'stochastic_gradient_descent_10_iterations': {'model': SGDRegressor(max_iter=10),\n",
       "  'description': 'gradient descent with 10 iteration',\n",
       "  'test_RMSE': 53624.47601059299,\n",
       "  'test_R2_score': 0.21005881201438736,\n",
       "  'train_RMSE': 50081.44186464872,\n",
       "  'train_R2_score': 0.26158106477848886},\n",
       " 'polynomial_degree_2': {'model': LinearRegression(),\n",
       "  'degree': 2,\n",
       "  'description': 'Polynomial with 2 degree',\n",
       "  'test_RMSE': 3049744749431086.0,\n",
       "  'test_R2_score': -2.555027743838248e+21,\n",
       "  'train_RMSE': 43746.09140935512,\n",
       "  'train_R2_score': 0.436585928916417},\n",
       " 'polynomial_degree_2_ridge': {'model': Ridge(),\n",
       "  'degree': 2,\n",
       "  'description': 'orinary least square',\n",
       "  'test_RMSE': 55051.40658450076,\n",
       "  'test_R2_score': 0.16745929697242412,\n",
       "  'train_RMSE': 44124.044292682804,\n",
       "  'train_R2_score': 0.42680842188609913},\n",
       " 'polynomial_degree_2_lasso': {'model': Lasso(),\n",
       "  'degree': 2,\n",
       "  'description': 'orinary least square',\n",
       "  'test_RMSE': 57187.975480082394,\n",
       "  'test_R2_score': 0.1015827534119551,\n",
       "  'train_RMSE': 43729.91159640472,\n",
       "  'train_R2_score': 0.4370026175024152},\n",
       " '3nn': {'model': KNeighborsClassifier(n_neighbors=3),\n",
       "  'description': 'KNN with k=3',\n",
       "  'test_RMSE': 58289.078079859864,\n",
       "  'test_R2_score': 0.06665327360079953,\n",
       "  'train_RMSE': 53509.014306508936,\n",
       "  'train_R2_score': 0.1570475471716185},\n",
       " 'decision_tree': {'model': DecisionTreeRegressor(),\n",
       "  'description': 'Decision Tree Regressor',\n",
       "  'test_RMSE': 73138.88437445194,\n",
       "  'test_R2_score': -0.46948547877061486,\n",
       "  'train_RMSE': 1796.3905416031985,\n",
       "  'train_R2_score': 0.999049940737469},\n",
       " 'random_forest_regressor': {'model': RandomForestRegressor(),\n",
       "  'description': 'Random Forest Regressor',\n",
       "  'test_RMSE': 53939.371635110496,\n",
       "  'test_R2_score': 0.20075412882209687,\n",
       "  'train_RMSE': 17943.90450884698,\n",
       "  'train_R2_score': 0.9052055140579659},\n",
       " 'random_forest_regressor_n_estimators_15': {'model': RandomForestRegressor(n_estimators=15),\n",
       "  'description': 'Random Forest Regressor with n_estimators hyperparameter = 15',\n",
       "  'test_RMSE': 53965.742276933954,\n",
       "  'test_R2_score': 0.19997244456890362,\n",
       "  'train_RMSE': 21277.219266837485,\n",
       "  'train_R2_score': 0.8667157246311167},\n",
       " 'gradient_boosting_regressor': {'model': GradientBoostingRegressor(),\n",
       "  'description': 'Gradient Boosting Regressor',\n",
       "  'test_RMSE': 50348.78538475642,\n",
       "  'test_R2_score': 0.303619451293753,\n",
       "  'train_RMSE': 40806.2296408654,\n",
       "  'train_R2_score': 0.5097674818960344},\n",
       " 'gradient_boosting_regressor_n_estimators_15': {'model': GradientBoostingRegressor(n_estimators=15),\n",
       "  'description': 'Gradient Boosting Regressor with n_estimators hyperparameter = 15',\n",
       "  'test_RMSE': 51932.05888169616,\n",
       "  'test_R2_score': 0.2591339097370764,\n",
       "  'train_RMSE': 48324.46882966296,\n",
       "  'train_R2_score': 0.31248313644349823}}"
      ]
     },
     "execution_count": 27,
     "metadata": {},
     "output_type": "execute_result"
    }
   ],
   "source": [
    "eval_models(models, X_train, y_train, 'train')"
   ]
  },
  {
   "cell_type": "code",
   "execution_count": 28,
   "metadata": {},
   "outputs": [
    {
     "data": {
      "text/html": [
       "<div>\n",
       "<style scoped>\n",
       "    .dataframe tbody tr th:only-of-type {\n",
       "        vertical-align: middle;\n",
       "    }\n",
       "\n",
       "    .dataframe tbody tr th {\n",
       "        vertical-align: top;\n",
       "    }\n",
       "\n",
       "    .dataframe thead th {\n",
       "        text-align: right;\n",
       "    }\n",
       "</style>\n",
       "<table border=\"1\" class=\"dataframe\">\n",
       "  <thead>\n",
       "    <tr style=\"text-align: right;\">\n",
       "      <th></th>\n",
       "      <th>model</th>\n",
       "      <th>description</th>\n",
       "      <th>test_RMSE</th>\n",
       "      <th>test_R2_score</th>\n",
       "      <th>train_RMSE</th>\n",
       "      <th>train_R2_score</th>\n",
       "      <th>degree</th>\n",
       "    </tr>\n",
       "  </thead>\n",
       "  <tbody>\n",
       "    <tr>\n",
       "      <th>ordinary_least_squares_model</th>\n",
       "      <td>LinearRegression()</td>\n",
       "      <td>orinary least square</td>\n",
       "      <td>5.360798e+04</td>\n",
       "      <td>2.105447e-01</td>\n",
       "      <td>49712.590571</td>\n",
       "      <td>0.272418</td>\n",
       "      <td>NaN</td>\n",
       "    </tr>\n",
       "    <tr>\n",
       "      <th>stochastic_gradient_descent_1000_iterations</th>\n",
       "      <td>SGDRegressor()</td>\n",
       "      <td>gradient descent with 1000 iteration</td>\n",
       "      <td>5.365607e+04</td>\n",
       "      <td>2.091277e-01</td>\n",
       "      <td>49867.261977</td>\n",
       "      <td>0.267883</td>\n",
       "      <td>NaN</td>\n",
       "    </tr>\n",
       "    <tr>\n",
       "      <th>stochastic_gradient_descent_10_iterations</th>\n",
       "      <td>SGDRegressor(max_iter=10)</td>\n",
       "      <td>gradient descent with 10 iteration</td>\n",
       "      <td>5.362448e+04</td>\n",
       "      <td>2.100588e-01</td>\n",
       "      <td>50081.441865</td>\n",
       "      <td>0.261581</td>\n",
       "      <td>NaN</td>\n",
       "    </tr>\n",
       "    <tr>\n",
       "      <th>polynomial_degree_2</th>\n",
       "      <td>LinearRegression()</td>\n",
       "      <td>Polynomial with 2 degree</td>\n",
       "      <td>3.049745e+15</td>\n",
       "      <td>-2.555028e+21</td>\n",
       "      <td>43746.091409</td>\n",
       "      <td>0.436586</td>\n",
       "      <td>2.0</td>\n",
       "    </tr>\n",
       "    <tr>\n",
       "      <th>polynomial_degree_2_ridge</th>\n",
       "      <td>Ridge()</td>\n",
       "      <td>orinary least square</td>\n",
       "      <td>5.505141e+04</td>\n",
       "      <td>1.674593e-01</td>\n",
       "      <td>44124.044293</td>\n",
       "      <td>0.426808</td>\n",
       "      <td>2.0</td>\n",
       "    </tr>\n",
       "    <tr>\n",
       "      <th>polynomial_degree_2_lasso</th>\n",
       "      <td>Lasso()</td>\n",
       "      <td>orinary least square</td>\n",
       "      <td>5.718798e+04</td>\n",
       "      <td>1.015828e-01</td>\n",
       "      <td>43729.911596</td>\n",
       "      <td>0.437003</td>\n",
       "      <td>2.0</td>\n",
       "    </tr>\n",
       "    <tr>\n",
       "      <th>3nn</th>\n",
       "      <td>KNeighborsClassifier(n_neighbors=3)</td>\n",
       "      <td>KNN with k=3</td>\n",
       "      <td>5.828908e+04</td>\n",
       "      <td>6.665327e-02</td>\n",
       "      <td>53509.014307</td>\n",
       "      <td>0.157048</td>\n",
       "      <td>NaN</td>\n",
       "    </tr>\n",
       "    <tr>\n",
       "      <th>decision_tree</th>\n",
       "      <td>DecisionTreeRegressor()</td>\n",
       "      <td>Decision Tree Regressor</td>\n",
       "      <td>7.313888e+04</td>\n",
       "      <td>-4.694855e-01</td>\n",
       "      <td>1796.390542</td>\n",
       "      <td>0.999050</td>\n",
       "      <td>NaN</td>\n",
       "    </tr>\n",
       "    <tr>\n",
       "      <th>random_forest_regressor</th>\n",
       "      <td>(DecisionTreeRegressor(max_features=1.0, rando...</td>\n",
       "      <td>Random Forest Regressor</td>\n",
       "      <td>5.393937e+04</td>\n",
       "      <td>2.007541e-01</td>\n",
       "      <td>17943.904509</td>\n",
       "      <td>0.905206</td>\n",
       "      <td>NaN</td>\n",
       "    </tr>\n",
       "    <tr>\n",
       "      <th>random_forest_regressor_n_estimators_15</th>\n",
       "      <td>(DecisionTreeRegressor(max_features=1.0, rando...</td>\n",
       "      <td>Random Forest Regressor with n_estimators hype...</td>\n",
       "      <td>5.396574e+04</td>\n",
       "      <td>1.999724e-01</td>\n",
       "      <td>21277.219267</td>\n",
       "      <td>0.866716</td>\n",
       "      <td>NaN</td>\n",
       "    </tr>\n",
       "    <tr>\n",
       "      <th>gradient_boosting_regressor</th>\n",
       "      <td>([DecisionTreeRegressor(criterion='friedman_ms...</td>\n",
       "      <td>Gradient Boosting Regressor</td>\n",
       "      <td>5.034879e+04</td>\n",
       "      <td>3.036195e-01</td>\n",
       "      <td>40806.229641</td>\n",
       "      <td>0.509767</td>\n",
       "      <td>NaN</td>\n",
       "    </tr>\n",
       "    <tr>\n",
       "      <th>gradient_boosting_regressor_n_estimators_15</th>\n",
       "      <td>([DecisionTreeRegressor(criterion='friedman_ms...</td>\n",
       "      <td>Gradient Boosting Regressor with n_estimators ...</td>\n",
       "      <td>5.193206e+04</td>\n",
       "      <td>2.591339e-01</td>\n",
       "      <td>48324.468830</td>\n",
       "      <td>0.312483</td>\n",
       "      <td>NaN</td>\n",
       "    </tr>\n",
       "  </tbody>\n",
       "</table>\n",
       "</div>"
      ],
      "text/plain": [
       "                                                                                         model  \\\n",
       "ordinary_least_squares_model                                                LinearRegression()   \n",
       "stochastic_gradient_descent_1000_iterations                                     SGDRegressor()   \n",
       "stochastic_gradient_descent_10_iterations                            SGDRegressor(max_iter=10)   \n",
       "polynomial_degree_2                                                         LinearRegression()   \n",
       "polynomial_degree_2_ridge                                                              Ridge()   \n",
       "polynomial_degree_2_lasso                                                              Lasso()   \n",
       "3nn                                                        KNeighborsClassifier(n_neighbors=3)   \n",
       "decision_tree                                                          DecisionTreeRegressor()   \n",
       "random_forest_regressor                      (DecisionTreeRegressor(max_features=1.0, rando...   \n",
       "random_forest_regressor_n_estimators_15      (DecisionTreeRegressor(max_features=1.0, rando...   \n",
       "gradient_boosting_regressor                  ([DecisionTreeRegressor(criterion='friedman_ms...   \n",
       "gradient_boosting_regressor_n_estimators_15  ([DecisionTreeRegressor(criterion='friedman_ms...   \n",
       "\n",
       "                                                                                   description  \\\n",
       "ordinary_least_squares_model                                              orinary least square   \n",
       "stochastic_gradient_descent_1000_iterations               gradient descent with 1000 iteration   \n",
       "stochastic_gradient_descent_10_iterations                   gradient descent with 10 iteration   \n",
       "polynomial_degree_2                                                   Polynomial with 2 degree   \n",
       "polynomial_degree_2_ridge                                                 orinary least square   \n",
       "polynomial_degree_2_lasso                                                 orinary least square   \n",
       "3nn                                                                               KNN with k=3   \n",
       "decision_tree                                                          Decision Tree Regressor   \n",
       "random_forest_regressor                                                Random Forest Regressor   \n",
       "random_forest_regressor_n_estimators_15      Random Forest Regressor with n_estimators hype...   \n",
       "gradient_boosting_regressor                                        Gradient Boosting Regressor   \n",
       "gradient_boosting_regressor_n_estimators_15  Gradient Boosting Regressor with n_estimators ...   \n",
       "\n",
       "                                                test_RMSE  test_R2_score  \\\n",
       "ordinary_least_squares_model                 5.360798e+04   2.105447e-01   \n",
       "stochastic_gradient_descent_1000_iterations  5.365607e+04   2.091277e-01   \n",
       "stochastic_gradient_descent_10_iterations    5.362448e+04   2.100588e-01   \n",
       "polynomial_degree_2                          3.049745e+15  -2.555028e+21   \n",
       "polynomial_degree_2_ridge                    5.505141e+04   1.674593e-01   \n",
       "polynomial_degree_2_lasso                    5.718798e+04   1.015828e-01   \n",
       "3nn                                          5.828908e+04   6.665327e-02   \n",
       "decision_tree                                7.313888e+04  -4.694855e-01   \n",
       "random_forest_regressor                      5.393937e+04   2.007541e-01   \n",
       "random_forest_regressor_n_estimators_15      5.396574e+04   1.999724e-01   \n",
       "gradient_boosting_regressor                  5.034879e+04   3.036195e-01   \n",
       "gradient_boosting_regressor_n_estimators_15  5.193206e+04   2.591339e-01   \n",
       "\n",
       "                                               train_RMSE  train_R2_score  \\\n",
       "ordinary_least_squares_model                 49712.590571        0.272418   \n",
       "stochastic_gradient_descent_1000_iterations  49867.261977        0.267883   \n",
       "stochastic_gradient_descent_10_iterations    50081.441865        0.261581   \n",
       "polynomial_degree_2                          43746.091409        0.436586   \n",
       "polynomial_degree_2_ridge                    44124.044293        0.426808   \n",
       "polynomial_degree_2_lasso                    43729.911596        0.437003   \n",
       "3nn                                          53509.014307        0.157048   \n",
       "decision_tree                                 1796.390542        0.999050   \n",
       "random_forest_regressor                      17943.904509        0.905206   \n",
       "random_forest_regressor_n_estimators_15      21277.219267        0.866716   \n",
       "gradient_boosting_regressor                  40806.229641        0.509767   \n",
       "gradient_boosting_regressor_n_estimators_15  48324.468830        0.312483   \n",
       "\n",
       "                                             degree  \n",
       "ordinary_least_squares_model                    NaN  \n",
       "stochastic_gradient_descent_1000_iterations     NaN  \n",
       "stochastic_gradient_descent_10_iterations       NaN  \n",
       "polynomial_degree_2                             2.0  \n",
       "polynomial_degree_2_ridge                       2.0  \n",
       "polynomial_degree_2_lasso                       2.0  \n",
       "3nn                                             NaN  \n",
       "decision_tree                                   NaN  \n",
       "random_forest_regressor                         NaN  \n",
       "random_forest_regressor_n_estimators_15         NaN  \n",
       "gradient_boosting_regressor                     NaN  \n",
       "gradient_boosting_regressor_n_estimators_15     NaN  "
      ]
     },
     "execution_count": 28,
     "metadata": {},
     "output_type": "execute_result"
    }
   ],
   "source": [
    "# Observe scores in a neat way\n",
    "pd.DataFrame.from_dict(models,orient='index')"
   ]
  },
  {
   "cell_type": "code",
   "execution_count": 29,
   "metadata": {},
   "outputs": [],
   "source": [
    "def models_evaluation_test_train(models):\n",
    "    \"\"\"Present Model name, R2 train score, and R2 test score for each model neatly\n",
    "\n",
    "    Args:\n",
    "        models (Dict): dictionary of models trained and evaluated, along with \n",
    "                a description for each model and its train score and test score\n",
    "    \"\"\"\n",
    "    for model in models:\n",
    "        print(model)\n",
    "        print(f\"train_R2_score = {models[model]['train_R2_score']}\")\n",
    "        print(f\"test_R2_score = {models[model]['test_R2_score']}\")\n",
    "        print('-' * 100)\n",
    "        "
   ]
  },
  {
   "cell_type": "code",
   "execution_count": 30,
   "metadata": {},
   "outputs": [
    {
     "name": "stdout",
     "output_type": "stream",
     "text": [
      "ordinary_least_squares_model\n",
      "train_R2_score = 0.27241796462933976\n",
      "test_R2_score = 0.21054474722831862\n",
      "----------------------------------------------------------------------------------------------------\n",
      "stochastic_gradient_descent_1000_iterations\n",
      "train_R2_score = 0.26788345124001056\n",
      "test_R2_score = 0.20912771845270584\n",
      "----------------------------------------------------------------------------------------------------\n",
      "stochastic_gradient_descent_10_iterations\n",
      "train_R2_score = 0.26158106477848886\n",
      "test_R2_score = 0.21005881201438736\n",
      "----------------------------------------------------------------------------------------------------\n",
      "polynomial_degree_2\n",
      "train_R2_score = 0.436585928916417\n",
      "test_R2_score = -2.555027743838248e+21\n",
      "----------------------------------------------------------------------------------------------------\n",
      "polynomial_degree_2_ridge\n",
      "train_R2_score = 0.42680842188609913\n",
      "test_R2_score = 0.16745929697242412\n",
      "----------------------------------------------------------------------------------------------------\n",
      "polynomial_degree_2_lasso\n",
      "train_R2_score = 0.4370026175024152\n",
      "test_R2_score = 0.1015827534119551\n",
      "----------------------------------------------------------------------------------------------------\n",
      "3nn\n",
      "train_R2_score = 0.1570475471716185\n",
      "test_R2_score = 0.06665327360079953\n",
      "----------------------------------------------------------------------------------------------------\n",
      "decision_tree\n",
      "train_R2_score = 0.999049940737469\n",
      "test_R2_score = -0.46948547877061486\n",
      "----------------------------------------------------------------------------------------------------\n",
      "random_forest_regressor\n",
      "train_R2_score = 0.9052055140579659\n",
      "test_R2_score = 0.20075412882209687\n",
      "----------------------------------------------------------------------------------------------------\n",
      "random_forest_regressor_n_estimators_15\n",
      "train_R2_score = 0.8667157246311167\n",
      "test_R2_score = 0.19997244456890362\n",
      "----------------------------------------------------------------------------------------------------\n",
      "gradient_boosting_regressor\n",
      "train_R2_score = 0.5097674818960344\n",
      "test_R2_score = 0.303619451293753\n",
      "----------------------------------------------------------------------------------------------------\n",
      "gradient_boosting_regressor_n_estimators_15\n",
      "train_R2_score = 0.31248313644349823\n",
      "test_R2_score = 0.2591339097370764\n",
      "----------------------------------------------------------------------------------------------------\n"
     ]
    }
   ],
   "source": [
    "models_evaluation_test_train(models)"
   ]
  },
  {
   "attachments": {},
   "cell_type": "markdown",
   "metadata": {},
   "source": [
    "* Observe overfitting in Decision Tree\n",
    "* GradientBoostingRegressor() scored the highest. Then tune its hyperparameters to get better score"
   ]
  },
  {
   "attachments": {},
   "cell_type": "markdown",
   "metadata": {},
   "source": [
    "### Hyper Parameter Tuning"
   ]
  },
  {
   "attachments": {},
   "cell_type": "markdown",
   "metadata": {},
   "source": [
    "##### Show GradientBoostingRegressor() parameters to choose which to tune "
   ]
  },
  {
   "cell_type": "code",
   "execution_count": 31,
   "metadata": {},
   "outputs": [
    {
     "data": {
      "text/plain": [
       "{'alpha': 0.9,\n",
       " 'ccp_alpha': 0.0,\n",
       " 'criterion': 'friedman_mse',\n",
       " 'init': None,\n",
       " 'learning_rate': 0.1,\n",
       " 'loss': 'squared_error',\n",
       " 'max_depth': 3,\n",
       " 'max_features': None,\n",
       " 'max_leaf_nodes': None,\n",
       " 'min_impurity_decrease': 0.0,\n",
       " 'min_samples_leaf': 1,\n",
       " 'min_samples_split': 2,\n",
       " 'min_weight_fraction_leaf': 0.0,\n",
       " 'n_estimators': 100,\n",
       " 'n_iter_no_change': None,\n",
       " 'random_state': 42,\n",
       " 'subsample': 1.0,\n",
       " 'tol': 0.0001,\n",
       " 'validation_fraction': 0.1,\n",
       " 'verbose': 0,\n",
       " 'warm_start': False}"
      ]
     },
     "execution_count": 31,
     "metadata": {},
     "output_type": "execute_result"
    }
   ],
   "source": [
    "gradient_boosting = GradientBoostingRegressor(random_state=42)\n",
    "gradient_boosting.get_params()"
   ]
  },
  {
   "attachments": {},
   "cell_type": "markdown",
   "metadata": {},
   "source": [
    "#### Define parameter distribution  for GBT\n",
    "##### Set up the parameter distribution for the random search"
   ]
  },
  {
   "cell_type": "code",
   "execution_count": 32,
   "metadata": {},
   "outputs": [
    {
     "name": "stdout",
     "output_type": "stream",
     "text": [
      "{'learning_rate': [0.01, 0.1],\n",
      " 'max_depth': [5, 12, 20, 28, 35, 43, 51, 58, 66, 74, None],\n",
      " 'min_samples_leaf': [2, 4, 7],\n",
      " 'min_samples_split': [5, 10, 16],\n",
      " 'n_estimators': [100, 200, 300, 400, 500]}\n"
     ]
    }
   ],
   "source": [
    "# Number of trees in Gradient Boosting Trees \n",
    "n_estimators = [int(x) for x in np.linspace(start = 100, stop = 500, num = 5)]\n",
    "# Maximum number of levels in tree\n",
    "max_depth = [int(x) for x in np.linspace(5, 74, num = 10)]\n",
    "max_depth.append(None)\n",
    "# Minimum number of samples required to split a node\n",
    "min_samples_split = [5, 10, 16]\n",
    "# Minimum number of samples required at each leaf node\n",
    "min_samples_leaf = [2, 4, 7]\n",
    "# Method of selecting samples for training each tree\n",
    "learning_rate = [0.01, 0.1]\n",
    "\n",
    "# Create the distribution of the hyperparameters (param_distribs)\n",
    "parameter_distribution = {'n_estimators': n_estimators,\n",
    "               'max_depth': max_depth,\n",
    "               'min_samples_split': min_samples_split,\n",
    "               'min_samples_leaf': min_samples_leaf,\n",
    "               'learning_rate': learning_rate}\n",
    "pprint(parameter_distribution)"
   ]
  },
  {
   "attachments": {},
   "cell_type": "markdown",
   "metadata": {},
   "source": [
    "#### Create the random search object with desired options for best hyperparameters"
   ]
  },
  {
   "attachments": {},
   "cell_type": "markdown",
   "metadata": {},
   "source": [
    "* 5 fold cross validation\n",
    "* Search across 10 different combinations\n",
    "* Use all available cores\n",
    "* R Squared evaluation metric"
   ]
  },
  {
   "cell_type": "code",
   "execution_count": 33,
   "metadata": {},
   "outputs": [],
   "source": [
    "gbt_random_search = RandomizedSearchCV(\n",
    "    estimator=GradientBoostingRegressor(), # the base model\n",
    "    param_distributions=parameter_distribution, # the distribution of the hyperparameters \n",
    "    n_iter=10,  # Number of parameter combinations to try\n",
    "    cv=5,  # Number of folds for cross-validation\n",
    "    scoring='r2',  # Evaluation metric\n",
    "    verbose=2,  # print some logs while evaluating the different combinations\n",
    "    random_state=42,  # Random seed for reproducibility\n",
    "    n_jobs = 1 # use all cores in the machine to train (parallel)\n",
    ")"
   ]
  },
  {
   "attachments": {},
   "cell_type": "markdown",
   "metadata": {},
   "source": [
    "##### Fit the random search object to the training data"
   ]
  },
  {
   "cell_type": "code",
   "execution_count": 34,
   "metadata": {},
   "outputs": [
    {
     "name": "stdout",
     "output_type": "stream",
     "text": [
      "Fitting 5 folds for each of 10 candidates, totalling 50 fits\n",
      "[CV] END learning_rate=0.01, max_depth=35, min_samples_leaf=7, min_samples_split=5, n_estimators=400; total time=   5.8s\n",
      "[CV] END learning_rate=0.01, max_depth=35, min_samples_leaf=7, min_samples_split=5, n_estimators=400; total time=   6.1s\n",
      "[CV] END learning_rate=0.01, max_depth=35, min_samples_leaf=7, min_samples_split=5, n_estimators=400; total time=   5.6s\n",
      "[CV] END learning_rate=0.01, max_depth=35, min_samples_leaf=7, min_samples_split=5, n_estimators=400; total time=   6.0s\n",
      "[CV] END learning_rate=0.01, max_depth=35, min_samples_leaf=7, min_samples_split=5, n_estimators=400; total time=   5.4s\n",
      "[CV] END learning_rate=0.01, max_depth=58, min_samples_leaf=4, min_samples_split=5, n_estimators=200; total time=   2.4s\n",
      "[CV] END learning_rate=0.01, max_depth=58, min_samples_leaf=4, min_samples_split=5, n_estimators=200; total time=   2.4s\n",
      "[CV] END learning_rate=0.01, max_depth=58, min_samples_leaf=4, min_samples_split=5, n_estimators=200; total time=   2.4s\n",
      "[CV] END learning_rate=0.01, max_depth=58, min_samples_leaf=4, min_samples_split=5, n_estimators=200; total time=   2.6s\n",
      "[CV] END learning_rate=0.01, max_depth=58, min_samples_leaf=4, min_samples_split=5, n_estimators=200; total time=   2.5s\n",
      "[CV] END learning_rate=0.1, max_depth=5, min_samples_leaf=2, min_samples_split=10, n_estimators=200; total time=   0.8s\n",
      "[CV] END learning_rate=0.1, max_depth=5, min_samples_leaf=2, min_samples_split=10, n_estimators=200; total time=   0.8s\n",
      "[CV] END learning_rate=0.1, max_depth=5, min_samples_leaf=2, min_samples_split=10, n_estimators=200; total time=   0.9s\n",
      "[CV] END learning_rate=0.1, max_depth=5, min_samples_leaf=2, min_samples_split=10, n_estimators=200; total time=   0.8s\n",
      "[CV] END learning_rate=0.1, max_depth=5, min_samples_leaf=2, min_samples_split=10, n_estimators=200; total time=   0.8s\n",
      "[CV] END learning_rate=0.01, max_depth=51, min_samples_leaf=7, min_samples_split=10, n_estimators=500; total time=   7.1s\n",
      "[CV] END learning_rate=0.01, max_depth=51, min_samples_leaf=7, min_samples_split=10, n_estimators=500; total time=   7.0s\n",
      "[CV] END learning_rate=0.01, max_depth=51, min_samples_leaf=7, min_samples_split=10, n_estimators=500; total time=   6.7s\n",
      "[CV] END learning_rate=0.01, max_depth=51, min_samples_leaf=7, min_samples_split=10, n_estimators=500; total time=   6.6s\n",
      "[CV] END learning_rate=0.01, max_depth=51, min_samples_leaf=7, min_samples_split=10, n_estimators=500; total time=   6.7s\n",
      "[CV] END learning_rate=0.01, max_depth=12, min_samples_leaf=7, min_samples_split=16, n_estimators=400; total time=   3.7s\n",
      "[CV] END learning_rate=0.01, max_depth=12, min_samples_leaf=7, min_samples_split=16, n_estimators=400; total time=   3.6s\n",
      "[CV] END learning_rate=0.01, max_depth=12, min_samples_leaf=7, min_samples_split=16, n_estimators=400; total time=   3.6s\n",
      "[CV] END learning_rate=0.01, max_depth=12, min_samples_leaf=7, min_samples_split=16, n_estimators=400; total time=   3.6s\n",
      "[CV] END learning_rate=0.01, max_depth=12, min_samples_leaf=7, min_samples_split=16, n_estimators=400; total time=   3.7s\n",
      "[CV] END learning_rate=0.1, max_depth=5, min_samples_leaf=7, min_samples_split=16, n_estimators=100; total time=   0.4s\n",
      "[CV] END learning_rate=0.1, max_depth=5, min_samples_leaf=7, min_samples_split=16, n_estimators=100; total time=   0.4s\n",
      "[CV] END learning_rate=0.1, max_depth=5, min_samples_leaf=7, min_samples_split=16, n_estimators=100; total time=   0.4s\n",
      "[CV] END learning_rate=0.1, max_depth=5, min_samples_leaf=7, min_samples_split=16, n_estimators=100; total time=   0.4s\n",
      "[CV] END learning_rate=0.1, max_depth=5, min_samples_leaf=7, min_samples_split=16, n_estimators=100; total time=   0.4s\n",
      "[CV] END learning_rate=0.01, max_depth=51, min_samples_leaf=2, min_samples_split=16, n_estimators=100; total time=   1.0s\n",
      "[CV] END learning_rate=0.01, max_depth=51, min_samples_leaf=2, min_samples_split=16, n_estimators=100; total time=   1.0s\n",
      "[CV] END learning_rate=0.01, max_depth=51, min_samples_leaf=2, min_samples_split=16, n_estimators=100; total time=   1.0s\n",
      "[CV] END learning_rate=0.01, max_depth=51, min_samples_leaf=2, min_samples_split=16, n_estimators=100; total time=   1.0s\n",
      "[CV] END learning_rate=0.01, max_depth=51, min_samples_leaf=2, min_samples_split=16, n_estimators=100; total time=   1.0s\n",
      "[CV] END learning_rate=0.01, max_depth=20, min_samples_leaf=4, min_samples_split=5, n_estimators=300; total time=   3.7s\n",
      "[CV] END learning_rate=0.01, max_depth=20, min_samples_leaf=4, min_samples_split=5, n_estimators=300; total time=   3.6s\n",
      "[CV] END learning_rate=0.01, max_depth=20, min_samples_leaf=4, min_samples_split=5, n_estimators=300; total time=   3.5s\n",
      "[CV] END learning_rate=0.01, max_depth=20, min_samples_leaf=4, min_samples_split=5, n_estimators=300; total time=   3.6s\n",
      "[CV] END learning_rate=0.01, max_depth=20, min_samples_leaf=4, min_samples_split=5, n_estimators=300; total time=   3.7s\n",
      "[CV] END learning_rate=0.01, max_depth=12, min_samples_leaf=2, min_samples_split=16, n_estimators=500; total time=   4.7s\n",
      "[CV] END learning_rate=0.01, max_depth=12, min_samples_leaf=2, min_samples_split=16, n_estimators=500; total time=   4.7s\n",
      "[CV] END learning_rate=0.01, max_depth=12, min_samples_leaf=2, min_samples_split=16, n_estimators=500; total time=   4.7s\n",
      "[CV] END learning_rate=0.01, max_depth=12, min_samples_leaf=2, min_samples_split=16, n_estimators=500; total time=   4.7s\n",
      "[CV] END learning_rate=0.01, max_depth=12, min_samples_leaf=2, min_samples_split=16, n_estimators=500; total time=   4.8s\n",
      "[CV] END learning_rate=0.1, max_depth=5, min_samples_leaf=2, min_samples_split=16, n_estimators=200; total time=   0.9s\n",
      "[CV] END learning_rate=0.1, max_depth=5, min_samples_leaf=2, min_samples_split=16, n_estimators=200; total time=   0.9s\n",
      "[CV] END learning_rate=0.1, max_depth=5, min_samples_leaf=2, min_samples_split=16, n_estimators=200; total time=   0.8s\n",
      "[CV] END learning_rate=0.1, max_depth=5, min_samples_leaf=2, min_samples_split=16, n_estimators=200; total time=   0.8s\n",
      "[CV] END learning_rate=0.1, max_depth=5, min_samples_leaf=2, min_samples_split=16, n_estimators=200; total time=   0.8s\n"
     ]
    },
    {
     "data": {
      "text/html": [
       "<style>#sk-container-id-1 {color: black;background-color: white;}#sk-container-id-1 pre{padding: 0;}#sk-container-id-1 div.sk-toggleable {background-color: white;}#sk-container-id-1 label.sk-toggleable__label {cursor: pointer;display: block;width: 100%;margin-bottom: 0;padding: 0.3em;box-sizing: border-box;text-align: center;}#sk-container-id-1 label.sk-toggleable__label-arrow:before {content: \"▸\";float: left;margin-right: 0.25em;color: #696969;}#sk-container-id-1 label.sk-toggleable__label-arrow:hover:before {color: black;}#sk-container-id-1 div.sk-estimator:hover label.sk-toggleable__label-arrow:before {color: black;}#sk-container-id-1 div.sk-toggleable__content {max-height: 0;max-width: 0;overflow: hidden;text-align: left;background-color: #f0f8ff;}#sk-container-id-1 div.sk-toggleable__content pre {margin: 0.2em;color: black;border-radius: 0.25em;background-color: #f0f8ff;}#sk-container-id-1 input.sk-toggleable__control:checked~div.sk-toggleable__content {max-height: 200px;max-width: 100%;overflow: auto;}#sk-container-id-1 input.sk-toggleable__control:checked~label.sk-toggleable__label-arrow:before {content: \"▾\";}#sk-container-id-1 div.sk-estimator input.sk-toggleable__control:checked~label.sk-toggleable__label {background-color: #d4ebff;}#sk-container-id-1 div.sk-label input.sk-toggleable__control:checked~label.sk-toggleable__label {background-color: #d4ebff;}#sk-container-id-1 input.sk-hidden--visually {border: 0;clip: rect(1px 1px 1px 1px);clip: rect(1px, 1px, 1px, 1px);height: 1px;margin: -1px;overflow: hidden;padding: 0;position: absolute;width: 1px;}#sk-container-id-1 div.sk-estimator {font-family: monospace;background-color: #f0f8ff;border: 1px dotted black;border-radius: 0.25em;box-sizing: border-box;margin-bottom: 0.5em;}#sk-container-id-1 div.sk-estimator:hover {background-color: #d4ebff;}#sk-container-id-1 div.sk-parallel-item::after {content: \"\";width: 100%;border-bottom: 1px solid gray;flex-grow: 1;}#sk-container-id-1 div.sk-label:hover label.sk-toggleable__label {background-color: #d4ebff;}#sk-container-id-1 div.sk-serial::before {content: \"\";position: absolute;border-left: 1px solid gray;box-sizing: border-box;top: 0;bottom: 0;left: 50%;z-index: 0;}#sk-container-id-1 div.sk-serial {display: flex;flex-direction: column;align-items: center;background-color: white;padding-right: 0.2em;padding-left: 0.2em;position: relative;}#sk-container-id-1 div.sk-item {position: relative;z-index: 1;}#sk-container-id-1 div.sk-parallel {display: flex;align-items: stretch;justify-content: center;background-color: white;position: relative;}#sk-container-id-1 div.sk-item::before, #sk-container-id-1 div.sk-parallel-item::before {content: \"\";position: absolute;border-left: 1px solid gray;box-sizing: border-box;top: 0;bottom: 0;left: 50%;z-index: -1;}#sk-container-id-1 div.sk-parallel-item {display: flex;flex-direction: column;z-index: 1;position: relative;background-color: white;}#sk-container-id-1 div.sk-parallel-item:first-child::after {align-self: flex-end;width: 50%;}#sk-container-id-1 div.sk-parallel-item:last-child::after {align-self: flex-start;width: 50%;}#sk-container-id-1 div.sk-parallel-item:only-child::after {width: 0;}#sk-container-id-1 div.sk-dashed-wrapped {border: 1px dashed gray;margin: 0 0.4em 0.5em 0.4em;box-sizing: border-box;padding-bottom: 0.4em;background-color: white;}#sk-container-id-1 div.sk-label label {font-family: monospace;font-weight: bold;display: inline-block;line-height: 1.2em;}#sk-container-id-1 div.sk-label-container {text-align: center;}#sk-container-id-1 div.sk-container {/* jupyter's `normalize.less` sets `[hidden] { display: none; }` but bootstrap.min.css set `[hidden] { display: none !important; }` so we also need the `!important` here to be able to override the default hidden behavior on the sphinx rendered scikit-learn.org. See: https://github.com/scikit-learn/scikit-learn/issues/21755 */display: inline-block !important;position: relative;}#sk-container-id-1 div.sk-text-repr-fallback {display: none;}</style><div id=\"sk-container-id-1\" class=\"sk-top-container\"><div class=\"sk-text-repr-fallback\"><pre>RandomizedSearchCV(cv=5, estimator=GradientBoostingRegressor(), n_jobs=1,\n",
       "                   param_distributions={&#x27;learning_rate&#x27;: [0.01, 0.1],\n",
       "                                        &#x27;max_depth&#x27;: [5, 12, 20, 28, 35, 43, 51,\n",
       "                                                      58, 66, 74, None],\n",
       "                                        &#x27;min_samples_leaf&#x27;: [2, 4, 7],\n",
       "                                        &#x27;min_samples_split&#x27;: [5, 10, 16],\n",
       "                                        &#x27;n_estimators&#x27;: [100, 200, 300, 400,\n",
       "                                                         500]},\n",
       "                   random_state=42, scoring=&#x27;r2&#x27;, verbose=2)</pre><b>In a Jupyter environment, please rerun this cell to show the HTML representation or trust the notebook. <br />On GitHub, the HTML representation is unable to render, please try loading this page with nbviewer.org.</b></div><div class=\"sk-container\" hidden><div class=\"sk-item sk-dashed-wrapped\"><div class=\"sk-label-container\"><div class=\"sk-label sk-toggleable\"><input class=\"sk-toggleable__control sk-hidden--visually\" id=\"sk-estimator-id-1\" type=\"checkbox\" ><label for=\"sk-estimator-id-1\" class=\"sk-toggleable__label sk-toggleable__label-arrow\">RandomizedSearchCV</label><div class=\"sk-toggleable__content\"><pre>RandomizedSearchCV(cv=5, estimator=GradientBoostingRegressor(), n_jobs=1,\n",
       "                   param_distributions={&#x27;learning_rate&#x27;: [0.01, 0.1],\n",
       "                                        &#x27;max_depth&#x27;: [5, 12, 20, 28, 35, 43, 51,\n",
       "                                                      58, 66, 74, None],\n",
       "                                        &#x27;min_samples_leaf&#x27;: [2, 4, 7],\n",
       "                                        &#x27;min_samples_split&#x27;: [5, 10, 16],\n",
       "                                        &#x27;n_estimators&#x27;: [100, 200, 300, 400,\n",
       "                                                         500]},\n",
       "                   random_state=42, scoring=&#x27;r2&#x27;, verbose=2)</pre></div></div></div><div class=\"sk-parallel\"><div class=\"sk-parallel-item\"><div class=\"sk-item\"><div class=\"sk-label-container\"><div class=\"sk-label sk-toggleable\"><input class=\"sk-toggleable__control sk-hidden--visually\" id=\"sk-estimator-id-2\" type=\"checkbox\" ><label for=\"sk-estimator-id-2\" class=\"sk-toggleable__label sk-toggleable__label-arrow\">estimator: GradientBoostingRegressor</label><div class=\"sk-toggleable__content\"><pre>GradientBoostingRegressor()</pre></div></div></div><div class=\"sk-serial\"><div class=\"sk-item\"><div class=\"sk-estimator sk-toggleable\"><input class=\"sk-toggleable__control sk-hidden--visually\" id=\"sk-estimator-id-3\" type=\"checkbox\" ><label for=\"sk-estimator-id-3\" class=\"sk-toggleable__label sk-toggleable__label-arrow\">GradientBoostingRegressor</label><div class=\"sk-toggleable__content\"><pre>GradientBoostingRegressor()</pre></div></div></div></div></div></div></div></div></div></div>"
      ],
      "text/plain": [
       "RandomizedSearchCV(cv=5, estimator=GradientBoostingRegressor(), n_jobs=1,\n",
       "                   param_distributions={'learning_rate': [0.01, 0.1],\n",
       "                                        'max_depth': [5, 12, 20, 28, 35, 43, 51,\n",
       "                                                      58, 66, 74, None],\n",
       "                                        'min_samples_leaf': [2, 4, 7],\n",
       "                                        'min_samples_split': [5, 10, 16],\n",
       "                                        'n_estimators': [100, 200, 300, 400,\n",
       "                                                         500]},\n",
       "                   random_state=42, scoring='r2', verbose=2)"
      ]
     },
     "execution_count": 34,
     "metadata": {},
     "output_type": "execute_result"
    }
   ],
   "source": [
    "gbt_random_search.fit(X_train, y_train)"
   ]
  },
  {
   "cell_type": "code",
   "execution_count": 72,
   "metadata": {},
   "outputs": [],
   "source": [
    "pickle.dump(gbt_random_search,\n",
    "            open('../pkls/gbt_random_search_fit_train_data.pkl',\n",
    "            'wb'))"
   ]
  },
  {
   "cell_type": "code",
   "execution_count": 36,
   "metadata": {},
   "outputs": [
    {
     "data": {
      "text/plain": [
       "{'n_estimators': 100,\n",
       " 'min_samples_split': 16,\n",
       " 'min_samples_leaf': 7,\n",
       " 'max_depth': 5,\n",
       " 'learning_rate': 0.1}"
      ]
     },
     "execution_count": 36,
     "metadata": {},
     "output_type": "execute_result"
    }
   ],
   "source": [
    "# Get the best hyperparameters from the search\n",
    "gbt_best_params = gbt_random_search.best_params_\n",
    "gbt_best_params"
   ]
  },
  {
   "cell_type": "code",
   "execution_count": 37,
   "metadata": {},
   "outputs": [
    {
     "data": {
      "text/plain": [
       "0.3413969691618899"
      ]
     },
     "execution_count": 37,
     "metadata": {},
     "output_type": "execute_result"
    }
   ],
   "source": [
    "# Get the best score from the random search\n",
    "gbt_random_search.best_score_"
   ]
  },
  {
   "cell_type": "code",
   "execution_count": 38,
   "metadata": {},
   "outputs": [],
   "source": [
    "cross_validation_scores = {}"
   ]
  },
  {
   "cell_type": "code",
   "execution_count": 39,
   "metadata": {},
   "outputs": [],
   "source": [
    "cross_validation_scores['Best score for RandomSearch on GradientBoostingRegressor() model = '] = gbt_random_search.best_score_"
   ]
  },
  {
   "attachments": {},
   "cell_type": "markdown",
   "metadata": {},
   "source": [
    "#### Get the model with the best hyper parameters and observe its score"
   ]
  },
  {
   "cell_type": "code",
   "execution_count": 40,
   "metadata": {},
   "outputs": [
    {
     "data": {
      "text/html": [
       "<style>#sk-container-id-2 {color: black;background-color: white;}#sk-container-id-2 pre{padding: 0;}#sk-container-id-2 div.sk-toggleable {background-color: white;}#sk-container-id-2 label.sk-toggleable__label {cursor: pointer;display: block;width: 100%;margin-bottom: 0;padding: 0.3em;box-sizing: border-box;text-align: center;}#sk-container-id-2 label.sk-toggleable__label-arrow:before {content: \"▸\";float: left;margin-right: 0.25em;color: #696969;}#sk-container-id-2 label.sk-toggleable__label-arrow:hover:before {color: black;}#sk-container-id-2 div.sk-estimator:hover label.sk-toggleable__label-arrow:before {color: black;}#sk-container-id-2 div.sk-toggleable__content {max-height: 0;max-width: 0;overflow: hidden;text-align: left;background-color: #f0f8ff;}#sk-container-id-2 div.sk-toggleable__content pre {margin: 0.2em;color: black;border-radius: 0.25em;background-color: #f0f8ff;}#sk-container-id-2 input.sk-toggleable__control:checked~div.sk-toggleable__content {max-height: 200px;max-width: 100%;overflow: auto;}#sk-container-id-2 input.sk-toggleable__control:checked~label.sk-toggleable__label-arrow:before {content: \"▾\";}#sk-container-id-2 div.sk-estimator input.sk-toggleable__control:checked~label.sk-toggleable__label {background-color: #d4ebff;}#sk-container-id-2 div.sk-label input.sk-toggleable__control:checked~label.sk-toggleable__label {background-color: #d4ebff;}#sk-container-id-2 input.sk-hidden--visually {border: 0;clip: rect(1px 1px 1px 1px);clip: rect(1px, 1px, 1px, 1px);height: 1px;margin: -1px;overflow: hidden;padding: 0;position: absolute;width: 1px;}#sk-container-id-2 div.sk-estimator {font-family: monospace;background-color: #f0f8ff;border: 1px dotted black;border-radius: 0.25em;box-sizing: border-box;margin-bottom: 0.5em;}#sk-container-id-2 div.sk-estimator:hover {background-color: #d4ebff;}#sk-container-id-2 div.sk-parallel-item::after {content: \"\";width: 100%;border-bottom: 1px solid gray;flex-grow: 1;}#sk-container-id-2 div.sk-label:hover label.sk-toggleable__label {background-color: #d4ebff;}#sk-container-id-2 div.sk-serial::before {content: \"\";position: absolute;border-left: 1px solid gray;box-sizing: border-box;top: 0;bottom: 0;left: 50%;z-index: 0;}#sk-container-id-2 div.sk-serial {display: flex;flex-direction: column;align-items: center;background-color: white;padding-right: 0.2em;padding-left: 0.2em;position: relative;}#sk-container-id-2 div.sk-item {position: relative;z-index: 1;}#sk-container-id-2 div.sk-parallel {display: flex;align-items: stretch;justify-content: center;background-color: white;position: relative;}#sk-container-id-2 div.sk-item::before, #sk-container-id-2 div.sk-parallel-item::before {content: \"\";position: absolute;border-left: 1px solid gray;box-sizing: border-box;top: 0;bottom: 0;left: 50%;z-index: -1;}#sk-container-id-2 div.sk-parallel-item {display: flex;flex-direction: column;z-index: 1;position: relative;background-color: white;}#sk-container-id-2 div.sk-parallel-item:first-child::after {align-self: flex-end;width: 50%;}#sk-container-id-2 div.sk-parallel-item:last-child::after {align-self: flex-start;width: 50%;}#sk-container-id-2 div.sk-parallel-item:only-child::after {width: 0;}#sk-container-id-2 div.sk-dashed-wrapped {border: 1px dashed gray;margin: 0 0.4em 0.5em 0.4em;box-sizing: border-box;padding-bottom: 0.4em;background-color: white;}#sk-container-id-2 div.sk-label label {font-family: monospace;font-weight: bold;display: inline-block;line-height: 1.2em;}#sk-container-id-2 div.sk-label-container {text-align: center;}#sk-container-id-2 div.sk-container {/* jupyter's `normalize.less` sets `[hidden] { display: none; }` but bootstrap.min.css set `[hidden] { display: none !important; }` so we also need the `!important` here to be able to override the default hidden behavior on the sphinx rendered scikit-learn.org. See: https://github.com/scikit-learn/scikit-learn/issues/21755 */display: inline-block !important;position: relative;}#sk-container-id-2 div.sk-text-repr-fallback {display: none;}</style><div id=\"sk-container-id-2\" class=\"sk-top-container\"><div class=\"sk-text-repr-fallback\"><pre>GradientBoostingRegressor(max_depth=5, min_samples_leaf=7, min_samples_split=16)</pre><b>In a Jupyter environment, please rerun this cell to show the HTML representation or trust the notebook. <br />On GitHub, the HTML representation is unable to render, please try loading this page with nbviewer.org.</b></div><div class=\"sk-container\" hidden><div class=\"sk-item\"><div class=\"sk-estimator sk-toggleable\"><input class=\"sk-toggleable__control sk-hidden--visually\" id=\"sk-estimator-id-4\" type=\"checkbox\" checked><label for=\"sk-estimator-id-4\" class=\"sk-toggleable__label sk-toggleable__label-arrow\">GradientBoostingRegressor</label><div class=\"sk-toggleable__content\"><pre>GradientBoostingRegressor(max_depth=5, min_samples_leaf=7, min_samples_split=16)</pre></div></div></div></div></div>"
      ],
      "text/plain": [
       "GradientBoostingRegressor(max_depth=5, min_samples_leaf=7, min_samples_split=16)"
      ]
     },
     "execution_count": 40,
     "metadata": {},
     "output_type": "execute_result"
    }
   ],
   "source": [
    "best_gbt_model = gbt_random_search.best_estimator_\n",
    "best_gbt_model"
   ]
  },
  {
   "cell_type": "code",
   "execution_count": 41,
   "metadata": {},
   "outputs": [
    {
     "data": {
      "text/plain": [
       "0.3189285305460693"
      ]
     },
     "execution_count": 41,
     "metadata": {},
     "output_type": "execute_result"
    }
   ],
   "source": [
    "best_gbt_model.score(X_test, y_test)"
   ]
  },
  {
   "attachments": {},
   "cell_type": "markdown",
   "metadata": {},
   "source": [
    "* gbt_random_search scored higher than best_gbt_model"
   ]
  },
  {
   "cell_type": "code",
   "execution_count": 42,
   "metadata": {},
   "outputs": [],
   "source": [
    "cross_validation_scores['test score for {best_estimator_} resulted from RandomSearch on GradientBoostingRegressor() model = '] = best_gbt_model.score(X_test, y_test)"
   ]
  },
  {
   "attachments": {},
   "cell_type": "markdown",
   "metadata": {},
   "source": [
    "#### Feature Importances"
   ]
  },
  {
   "cell_type": "code",
   "execution_count": 85,
   "metadata": {},
   "outputs": [],
   "source": [
    "feature_importances = gbt_random_search.best_estimator_.feature_importances_"
   ]
  },
  {
   "cell_type": "code",
   "execution_count": 86,
   "metadata": {},
   "outputs": [],
   "source": [
    "attributes = list(dataset.columns)[:-1]"
   ]
  },
  {
   "cell_type": "code",
   "execution_count": 87,
   "metadata": {},
   "outputs": [
    {
     "data": {
      "text/plain": [
       "[(0.016295561748311243, 'motor_power'),\n",
       " (0.012452004980502265, 'gear_type'),\n",
       " (0.009420573451149068, 'fuel_type'),\n",
       " (0.0057867895087982905, 'passengers_number'),\n",
       " (0.004559635664699894, 'car_state'),\n",
       " (0.004517095733415468, 'car_type'),\n",
       " (0.0022111437610064016, 'car_color'),\n",
       " (0.0012186634838928705, 'payment_method'),\n",
       " (0.00038917304247664745, 'car_license'),\n",
       " (0.00030539455584554696, 'windows'),\n",
       " (0.0002859813194118216, 'ex_owners'),\n",
       " (0.00017194851024866876, 'speedometer')]"
      ]
     },
     "execution_count": 87,
     "metadata": {},
     "output_type": "execute_result"
    }
   ],
   "source": [
    "sorted(zip(feature_importances, attributes), reverse=True)"
   ]
  },
  {
   "attachments": {},
   "cell_type": "markdown",
   "metadata": {},
   "source": [
    "* Observe that 'motor_power' scored the highest\n",
    "* and 'speedometer' scored the lowest"
   ]
  },
  {
   "attachments": {},
   "cell_type": "markdown",
   "metadata": {},
   "source": [
    "#### Use the best hyperparameters to create a new model to make predictions"
   ]
  },
  {
   "cell_type": "code",
   "execution_count": 43,
   "metadata": {},
   "outputs": [],
   "source": [
    "best_model_gbt = GradientBoostingRegressor(**gbt_best_params)"
   ]
  },
  {
   "attachments": {},
   "cell_type": "markdown",
   "metadata": {},
   "source": [
    "#### Create model pipeline to utilize it in microservice for prediction"
   ]
  },
  {
   "cell_type": "code",
   "execution_count": 44,
   "metadata": {},
   "outputs": [],
   "source": [
    "pipeline = Pipeline(\n",
    "    steps = [\n",
    "        (\"transformer\", transformer),\n",
    "        (\"model\", best_model_gbt)\n",
    "    ]\n",
    ")"
   ]
  },
  {
   "cell_type": "code",
   "execution_count": 45,
   "metadata": {},
   "outputs": [
    {
     "name": "stderr",
     "output_type": "stream",
     "text": [
      "c:\\Users\\DELL\\Study\\ML2 2022\\ML2 Assignment1 Car Price Prediction\\car-price-prediction\\venv_car_price_pred\\lib\\site-packages\\category_encoders\\one_hot.py:145: FutureWarning: iteritems is deprecated and will be removed in a future version. Use .items instead.\n",
      "  for cat_name, class_ in values.iteritems():\n",
      "c:\\Users\\DELL\\Study\\ML2 2022\\ML2 Assignment1 Car Price Prediction\\car-price-prediction\\venv_car_price_pred\\lib\\site-packages\\category_encoders\\one_hot.py:145: FutureWarning: iteritems is deprecated and will be removed in a future version. Use .items instead.\n",
      "  for cat_name, class_ in values.iteritems():\n",
      "c:\\Users\\DELL\\Study\\ML2 2022\\ML2 Assignment1 Car Price Prediction\\car-price-prediction\\venv_car_price_pred\\lib\\site-packages\\category_encoders\\one_hot.py:145: FutureWarning: iteritems is deprecated and will be removed in a future version. Use .items instead.\n",
      "  for cat_name, class_ in values.iteritems():\n",
      "c:\\Users\\DELL\\Study\\ML2 2022\\ML2 Assignment1 Car Price Prediction\\car-price-prediction\\venv_car_price_pred\\lib\\site-packages\\category_encoders\\one_hot.py:145: FutureWarning: iteritems is deprecated and will be removed in a future version. Use .items instead.\n",
      "  for cat_name, class_ in values.iteritems():\n",
      "c:\\Users\\DELL\\Study\\ML2 2022\\ML2 Assignment1 Car Price Prediction\\car-price-prediction\\venv_car_price_pred\\lib\\site-packages\\category_encoders\\one_hot.py:145: FutureWarning: iteritems is deprecated and will be removed in a future version. Use .items instead.\n",
      "  for cat_name, class_ in values.iteritems():\n",
      "c:\\Users\\DELL\\Study\\ML2 2022\\ML2 Assignment1 Car Price Prediction\\car-price-prediction\\venv_car_price_pred\\lib\\site-packages\\category_encoders\\one_hot.py:145: FutureWarning: iteritems is deprecated and will be removed in a future version. Use .items instead.\n",
      "  for cat_name, class_ in values.iteritems():\n",
      "c:\\Users\\DELL\\Study\\ML2 2022\\ML2 Assignment1 Car Price Prediction\\car-price-prediction\\venv_car_price_pred\\lib\\site-packages\\category_encoders\\one_hot.py:145: FutureWarning: iteritems is deprecated and will be removed in a future version. Use .items instead.\n",
      "  for cat_name, class_ in values.iteritems():\n",
      "c:\\Users\\DELL\\Study\\ML2 2022\\ML2 Assignment1 Car Price Prediction\\car-price-prediction\\venv_car_price_pred\\lib\\site-packages\\category_encoders\\one_hot.py:145: FutureWarning: iteritems is deprecated and will be removed in a future version. Use .items instead.\n",
      "  for cat_name, class_ in values.iteritems():\n"
     ]
    },
    {
     "data": {
      "text/html": [
       "<style>#sk-container-id-3 {color: black;background-color: white;}#sk-container-id-3 pre{padding: 0;}#sk-container-id-3 div.sk-toggleable {background-color: white;}#sk-container-id-3 label.sk-toggleable__label {cursor: pointer;display: block;width: 100%;margin-bottom: 0;padding: 0.3em;box-sizing: border-box;text-align: center;}#sk-container-id-3 label.sk-toggleable__label-arrow:before {content: \"▸\";float: left;margin-right: 0.25em;color: #696969;}#sk-container-id-3 label.sk-toggleable__label-arrow:hover:before {color: black;}#sk-container-id-3 div.sk-estimator:hover label.sk-toggleable__label-arrow:before {color: black;}#sk-container-id-3 div.sk-toggleable__content {max-height: 0;max-width: 0;overflow: hidden;text-align: left;background-color: #f0f8ff;}#sk-container-id-3 div.sk-toggleable__content pre {margin: 0.2em;color: black;border-radius: 0.25em;background-color: #f0f8ff;}#sk-container-id-3 input.sk-toggleable__control:checked~div.sk-toggleable__content {max-height: 200px;max-width: 100%;overflow: auto;}#sk-container-id-3 input.sk-toggleable__control:checked~label.sk-toggleable__label-arrow:before {content: \"▾\";}#sk-container-id-3 div.sk-estimator input.sk-toggleable__control:checked~label.sk-toggleable__label {background-color: #d4ebff;}#sk-container-id-3 div.sk-label input.sk-toggleable__control:checked~label.sk-toggleable__label {background-color: #d4ebff;}#sk-container-id-3 input.sk-hidden--visually {border: 0;clip: rect(1px 1px 1px 1px);clip: rect(1px, 1px, 1px, 1px);height: 1px;margin: -1px;overflow: hidden;padding: 0;position: absolute;width: 1px;}#sk-container-id-3 div.sk-estimator {font-family: monospace;background-color: #f0f8ff;border: 1px dotted black;border-radius: 0.25em;box-sizing: border-box;margin-bottom: 0.5em;}#sk-container-id-3 div.sk-estimator:hover {background-color: #d4ebff;}#sk-container-id-3 div.sk-parallel-item::after {content: \"\";width: 100%;border-bottom: 1px solid gray;flex-grow: 1;}#sk-container-id-3 div.sk-label:hover label.sk-toggleable__label {background-color: #d4ebff;}#sk-container-id-3 div.sk-serial::before {content: \"\";position: absolute;border-left: 1px solid gray;box-sizing: border-box;top: 0;bottom: 0;left: 50%;z-index: 0;}#sk-container-id-3 div.sk-serial {display: flex;flex-direction: column;align-items: center;background-color: white;padding-right: 0.2em;padding-left: 0.2em;position: relative;}#sk-container-id-3 div.sk-item {position: relative;z-index: 1;}#sk-container-id-3 div.sk-parallel {display: flex;align-items: stretch;justify-content: center;background-color: white;position: relative;}#sk-container-id-3 div.sk-item::before, #sk-container-id-3 div.sk-parallel-item::before {content: \"\";position: absolute;border-left: 1px solid gray;box-sizing: border-box;top: 0;bottom: 0;left: 50%;z-index: -1;}#sk-container-id-3 div.sk-parallel-item {display: flex;flex-direction: column;z-index: 1;position: relative;background-color: white;}#sk-container-id-3 div.sk-parallel-item:first-child::after {align-self: flex-end;width: 50%;}#sk-container-id-3 div.sk-parallel-item:last-child::after {align-self: flex-start;width: 50%;}#sk-container-id-3 div.sk-parallel-item:only-child::after {width: 0;}#sk-container-id-3 div.sk-dashed-wrapped {border: 1px dashed gray;margin: 0 0.4em 0.5em 0.4em;box-sizing: border-box;padding-bottom: 0.4em;background-color: white;}#sk-container-id-3 div.sk-label label {font-family: monospace;font-weight: bold;display: inline-block;line-height: 1.2em;}#sk-container-id-3 div.sk-label-container {text-align: center;}#sk-container-id-3 div.sk-container {/* jupyter's `normalize.less` sets `[hidden] { display: none; }` but bootstrap.min.css set `[hidden] { display: none !important; }` so we also need the `!important` here to be able to override the default hidden behavior on the sphinx rendered scikit-learn.org. See: https://github.com/scikit-learn/scikit-learn/issues/21755 */display: inline-block !important;position: relative;}#sk-container-id-3 div.sk-text-repr-fallback {display: none;}</style><div id=\"sk-container-id-3\" class=\"sk-top-container\"><div class=\"sk-text-repr-fallback\"><pre>Pipeline(steps=[(&#x27;transformer&#x27;,\n",
       "                 ColumnTransformer(remainder=&#x27;passthrough&#x27;,\n",
       "                                   transformers=[(&#x27;categorical&#x27;,\n",
       "                                                  OneHotEncoder(),\n",
       "                                                  [&#x27;car_color&#x27;, &#x27;fuel_type&#x27;,\n",
       "                                                   &#x27;car_type&#x27;, &#x27;car_license&#x27;,\n",
       "                                                   &#x27;gear_type&#x27;, &#x27;windows&#x27;,\n",
       "                                                   &#x27;payment_method&#x27;,\n",
       "                                                   &#x27;car_state&#x27;]),\n",
       "                                                 (&#x27;numerical&#x27;,\n",
       "                                                  Pipeline(steps=[(&#x27;imputer&#x27;,\n",
       "                                                                   KNNImputer(n_neighbors=3)),\n",
       "                                                                  (&#x27;log_transformer&#x27;,\n",
       "                                                                   PowerTransformer())]),\n",
       "                                                  [&#x27;motor_power&#x27;, &#x27;speedometer&#x27;,\n",
       "                                                   &#x27;passengers_number&#x27;,\n",
       "                                                   &#x27;ex_owners&#x27;])])),\n",
       "                (&#x27;model&#x27;,\n",
       "                 GradientBoostingRegressor(max_depth=5, min_samples_leaf=7,\n",
       "                                           min_samples_split=16))])</pre><b>In a Jupyter environment, please rerun this cell to show the HTML representation or trust the notebook. <br />On GitHub, the HTML representation is unable to render, please try loading this page with nbviewer.org.</b></div><div class=\"sk-container\" hidden><div class=\"sk-item sk-dashed-wrapped\"><div class=\"sk-label-container\"><div class=\"sk-label sk-toggleable\"><input class=\"sk-toggleable__control sk-hidden--visually\" id=\"sk-estimator-id-5\" type=\"checkbox\" ><label for=\"sk-estimator-id-5\" class=\"sk-toggleable__label sk-toggleable__label-arrow\">Pipeline</label><div class=\"sk-toggleable__content\"><pre>Pipeline(steps=[(&#x27;transformer&#x27;,\n",
       "                 ColumnTransformer(remainder=&#x27;passthrough&#x27;,\n",
       "                                   transformers=[(&#x27;categorical&#x27;,\n",
       "                                                  OneHotEncoder(),\n",
       "                                                  [&#x27;car_color&#x27;, &#x27;fuel_type&#x27;,\n",
       "                                                   &#x27;car_type&#x27;, &#x27;car_license&#x27;,\n",
       "                                                   &#x27;gear_type&#x27;, &#x27;windows&#x27;,\n",
       "                                                   &#x27;payment_method&#x27;,\n",
       "                                                   &#x27;car_state&#x27;]),\n",
       "                                                 (&#x27;numerical&#x27;,\n",
       "                                                  Pipeline(steps=[(&#x27;imputer&#x27;,\n",
       "                                                                   KNNImputer(n_neighbors=3)),\n",
       "                                                                  (&#x27;log_transformer&#x27;,\n",
       "                                                                   PowerTransformer())]),\n",
       "                                                  [&#x27;motor_power&#x27;, &#x27;speedometer&#x27;,\n",
       "                                                   &#x27;passengers_number&#x27;,\n",
       "                                                   &#x27;ex_owners&#x27;])])),\n",
       "                (&#x27;model&#x27;,\n",
       "                 GradientBoostingRegressor(max_depth=5, min_samples_leaf=7,\n",
       "                                           min_samples_split=16))])</pre></div></div></div><div class=\"sk-serial\"><div class=\"sk-item sk-dashed-wrapped\"><div class=\"sk-label-container\"><div class=\"sk-label sk-toggleable\"><input class=\"sk-toggleable__control sk-hidden--visually\" id=\"sk-estimator-id-6\" type=\"checkbox\" ><label for=\"sk-estimator-id-6\" class=\"sk-toggleable__label sk-toggleable__label-arrow\">transformer: ColumnTransformer</label><div class=\"sk-toggleable__content\"><pre>ColumnTransformer(remainder=&#x27;passthrough&#x27;,\n",
       "                  transformers=[(&#x27;categorical&#x27;, OneHotEncoder(),\n",
       "                                 [&#x27;car_color&#x27;, &#x27;fuel_type&#x27;, &#x27;car_type&#x27;,\n",
       "                                  &#x27;car_license&#x27;, &#x27;gear_type&#x27;, &#x27;windows&#x27;,\n",
       "                                  &#x27;payment_method&#x27;, &#x27;car_state&#x27;]),\n",
       "                                (&#x27;numerical&#x27;,\n",
       "                                 Pipeline(steps=[(&#x27;imputer&#x27;,\n",
       "                                                  KNNImputer(n_neighbors=3)),\n",
       "                                                 (&#x27;log_transformer&#x27;,\n",
       "                                                  PowerTransformer())]),\n",
       "                                 [&#x27;motor_power&#x27;, &#x27;speedometer&#x27;,\n",
       "                                  &#x27;passengers_number&#x27;, &#x27;ex_owners&#x27;])])</pre></div></div></div><div class=\"sk-parallel\"><div class=\"sk-parallel-item\"><div class=\"sk-item\"><div class=\"sk-label-container\"><div class=\"sk-label sk-toggleable\"><input class=\"sk-toggleable__control sk-hidden--visually\" id=\"sk-estimator-id-7\" type=\"checkbox\" ><label for=\"sk-estimator-id-7\" class=\"sk-toggleable__label sk-toggleable__label-arrow\">categorical</label><div class=\"sk-toggleable__content\"><pre>[&#x27;car_color&#x27;, &#x27;fuel_type&#x27;, &#x27;car_type&#x27;, &#x27;car_license&#x27;, &#x27;gear_type&#x27;, &#x27;windows&#x27;, &#x27;payment_method&#x27;, &#x27;car_state&#x27;]</pre></div></div></div><div class=\"sk-serial\"><div class=\"sk-item\"><div class=\"sk-estimator sk-toggleable\"><input class=\"sk-toggleable__control sk-hidden--visually\" id=\"sk-estimator-id-8\" type=\"checkbox\" ><label for=\"sk-estimator-id-8\" class=\"sk-toggleable__label sk-toggleable__label-arrow\">OneHotEncoder</label><div class=\"sk-toggleable__content\"><pre>OneHotEncoder()</pre></div></div></div></div></div></div><div class=\"sk-parallel-item\"><div class=\"sk-item\"><div class=\"sk-label-container\"><div class=\"sk-label sk-toggleable\"><input class=\"sk-toggleable__control sk-hidden--visually\" id=\"sk-estimator-id-9\" type=\"checkbox\" ><label for=\"sk-estimator-id-9\" class=\"sk-toggleable__label sk-toggleable__label-arrow\">numerical</label><div class=\"sk-toggleable__content\"><pre>[&#x27;motor_power&#x27;, &#x27;speedometer&#x27;, &#x27;passengers_number&#x27;, &#x27;ex_owners&#x27;]</pre></div></div></div><div class=\"sk-serial\"><div class=\"sk-item\"><div class=\"sk-serial\"><div class=\"sk-item\"><div class=\"sk-estimator sk-toggleable\"><input class=\"sk-toggleable__control sk-hidden--visually\" id=\"sk-estimator-id-10\" type=\"checkbox\" ><label for=\"sk-estimator-id-10\" class=\"sk-toggleable__label sk-toggleable__label-arrow\">KNNImputer</label><div class=\"sk-toggleable__content\"><pre>KNNImputer(n_neighbors=3)</pre></div></div></div><div class=\"sk-item\"><div class=\"sk-estimator sk-toggleable\"><input class=\"sk-toggleable__control sk-hidden--visually\" id=\"sk-estimator-id-11\" type=\"checkbox\" ><label for=\"sk-estimator-id-11\" class=\"sk-toggleable__label sk-toggleable__label-arrow\">PowerTransformer</label><div class=\"sk-toggleable__content\"><pre>PowerTransformer()</pre></div></div></div></div></div></div></div></div><div class=\"sk-parallel-item\"><div class=\"sk-item\"><div class=\"sk-label-container\"><div class=\"sk-label sk-toggleable\"><input class=\"sk-toggleable__control sk-hidden--visually\" id=\"sk-estimator-id-12\" type=\"checkbox\" ><label for=\"sk-estimator-id-12\" class=\"sk-toggleable__label sk-toggleable__label-arrow\">remainder</label><div class=\"sk-toggleable__content\"><pre>[]</pre></div></div></div><div class=\"sk-serial\"><div class=\"sk-item\"><div class=\"sk-estimator sk-toggleable\"><input class=\"sk-toggleable__control sk-hidden--visually\" id=\"sk-estimator-id-13\" type=\"checkbox\" ><label for=\"sk-estimator-id-13\" class=\"sk-toggleable__label sk-toggleable__label-arrow\">passthrough</label><div class=\"sk-toggleable__content\"><pre>passthrough</pre></div></div></div></div></div></div></div></div><div class=\"sk-item\"><div class=\"sk-estimator sk-toggleable\"><input class=\"sk-toggleable__control sk-hidden--visually\" id=\"sk-estimator-id-14\" type=\"checkbox\" ><label for=\"sk-estimator-id-14\" class=\"sk-toggleable__label sk-toggleable__label-arrow\">GradientBoostingRegressor</label><div class=\"sk-toggleable__content\"><pre>GradientBoostingRegressor(max_depth=5, min_samples_leaf=7, min_samples_split=16)</pre></div></div></div></div></div></div></div>"
      ],
      "text/plain": [
       "Pipeline(steps=[('transformer',\n",
       "                 ColumnTransformer(remainder='passthrough',\n",
       "                                   transformers=[('categorical',\n",
       "                                                  OneHotEncoder(),\n",
       "                                                  ['car_color', 'fuel_type',\n",
       "                                                   'car_type', 'car_license',\n",
       "                                                   'gear_type', 'windows',\n",
       "                                                   'payment_method',\n",
       "                                                   'car_state']),\n",
       "                                                 ('numerical',\n",
       "                                                  Pipeline(steps=[('imputer',\n",
       "                                                                   KNNImputer(n_neighbors=3)),\n",
       "                                                                  ('log_transformer',\n",
       "                                                                   PowerTransformer())]),\n",
       "                                                  ['motor_power', 'speedometer',\n",
       "                                                   'passengers_number',\n",
       "                                                   'ex_owners'])])),\n",
       "                ('model',\n",
       "                 GradientBoostingRegressor(max_depth=5, min_samples_leaf=7,\n",
       "                                           min_samples_split=16))])"
      ]
     },
     "execution_count": 45,
     "metadata": {},
     "output_type": "execute_result"
    }
   ],
   "source": [
    "# fit the pipeline on the whole dataset\n",
    "pipeline.fit(X, y) "
   ]
  },
  {
   "cell_type": "code",
   "execution_count": 71,
   "metadata": {},
   "outputs": [],
   "source": [
    "pickle.dump(pipeline,\n",
    "            open('../pkls/best_model_gbt_random_search.pkl',\n",
    "            'wb'))"
   ]
  },
  {
   "attachments": {},
   "cell_type": "markdown",
   "metadata": {},
   "source": [
    "### Cross Validation"
   ]
  },
  {
   "attachments": {},
   "cell_type": "markdown",
   "metadata": {},
   "source": [
    "##### Cross Validaiton on GradientBoostingRegressor() with best hyperparameters resulted from Random Search hyperparameters tuning"
   ]
  },
  {
   "cell_type": "code",
   "execution_count": 47,
   "metadata": {},
   "outputs": [],
   "source": [
    "scores_best_model_gbt_cv = cross_val_score(best_model_gbt, X_transformed, y, cv=10, scoring='r2')"
   ]
  },
  {
   "cell_type": "code",
   "execution_count": 48,
   "metadata": {},
   "outputs": [
    {
     "name": "stdout",
     "output_type": "stream",
     "text": [
      "0.35456951474838494\n",
      "0.611569301864878\n"
     ]
    }
   ],
   "source": [
    "print(scores_best_model_gbt_cv.mean())\n",
    "print(scores_best_model_gbt_cv.max())"
   ]
  },
  {
   "cell_type": "code",
   "execution_count": 49,
   "metadata": {},
   "outputs": [],
   "source": [
    "cross_validation_scores['mean score for Gradient Boosting with best hyperparameters \\\n",
    "    resulted from Random Search = '] = scores_best_model_gbt_cv.mean()\n",
    "cross_validation_scores['max score for Gradient Boosting with best hyperparameters \\\n",
    "    resulted from Random Search = '] = scores_best_model_gbt_cv.max()"
   ]
  },
  {
   "attachments": {},
   "cell_type": "markdown",
   "metadata": {},
   "source": [
    "##### Cross Validaiton on base GradientBoostingRegressor() without choosing hyperparameters"
   ]
  },
  {
   "cell_type": "code",
   "execution_count": 50,
   "metadata": {},
   "outputs": [],
   "source": [
    "base_gbt = GradientBoostingRegressor(random_state = 42)"
   ]
  },
  {
   "cell_type": "code",
   "execution_count": 51,
   "metadata": {},
   "outputs": [],
   "source": [
    "# it will return the 10 testing r2 scores as a numpy array\n",
    "scores_base_gbt = cross_val_score(base_gbt, X_transformed, y, cv=10, scoring='r2')"
   ]
  },
  {
   "cell_type": "code",
   "execution_count": 52,
   "metadata": {},
   "outputs": [
    {
     "name": "stdout",
     "output_type": "stream",
     "text": [
      "0.32901734787635684\n",
      "0.5646669707841343\n"
     ]
    }
   ],
   "source": [
    "# use average as an estimate of out-of-sample score\n",
    "print(scores_base_gbt.mean())\n",
    "print(scores_base_gbt.max())"
   ]
  },
  {
   "cell_type": "code",
   "execution_count": 53,
   "metadata": {},
   "outputs": [],
   "source": [
    "cross_validation_scores['mean score 10 folds cross validation Base Gradient \\\n",
    "    Boosting without Hyperparameters = '] = scores_base_gbt.mean()\n",
    "cross_validation_scores['max score 10 folds cross validation Base Gradient \\\n",
    "    Boosting without Hyperparameters = '] = scores_base_gbt.max()"
   ]
  },
  {
   "cell_type": "code",
   "execution_count": 54,
   "metadata": {},
   "outputs": [],
   "source": [
    "def get_cross_validation_scores_given_hyperparameter(hyperparameter_values):\n",
    "    \"\"\"Apply cross validation on different values of a hyperparameter and observe their mean score\n",
    "\n",
    "    Args:\n",
    "        hyperparameter_values (list): various values of a hyperparameter \n",
    "\n",
    "    Returns:\n",
    "        list: list of mean scores for applying cross validation on each value of the hyperparameter\n",
    "    \"\"\"\n",
    "    # empty list to store scores\n",
    "    n_scores = []\n",
    "\n",
    "    # 1. loop through reasonable values of hyperparameter_values\n",
    "    for hyperparameter_value in hyperparameter_values:\n",
    "        # 2. run GradientBoostingRegressor with hyperparameter_value\n",
    "        gbt = GradientBoostingRegressor(n_estimators = hyperparameter_value, random_state = 42)\n",
    "        # 3. obtain cross_val_score for GradientBoostingRegressor with hyperparameter_value\n",
    "        scores = cross_val_score(gbt, X_transformed, y, cv=10, scoring='r2')\n",
    "        # 4. append mean of scores for hyperparameter_value to n_scores list\n",
    "        n_scores.append(scores.mean())\n",
    "    \n",
    "    return n_scores"
   ]
  },
  {
   "cell_type": "code",
   "execution_count": 55,
   "metadata": {},
   "outputs": [],
   "source": [
    "def plot_cross_validation_scores(x_axis_hyperparameter, n_scores, x_label):\n",
    "    \"\"\"plot how score changes as we vary in x-axis, \n",
    "    plot each value of the hyperparameter (x-axis) versus the cross-validated r2 score (y-axis)\n",
    "\n",
    "    Args:\n",
    "        x_axis_hyperparameter (list): list of different values of the hyperparameter\n",
    "        n_scores (list): list of cross-validation scores for each value of the hyperparameter\n",
    "        x_label (str): description of the x-axis to label\n",
    "    \"\"\"\n",
    "    plt.plot(x_axis_hyperparameter, n_scores)\n",
    "    plt.xlabel(f'Value of {x_label}')\n",
    "    plt.ylabel('Cross-validated score')"
   ]
  },
  {
   "attachments": {},
   "cell_type": "markdown",
   "metadata": {},
   "source": [
    "#### Cross validation on different values of {n_estimators} hyperparameter"
   ]
  },
  {
   "cell_type": "code",
   "execution_count": 56,
   "metadata": {},
   "outputs": [],
   "source": [
    "n_estimators = [int(x) for x in np.linspace(start = 100, stop = 500, num = 5)]\n",
    "\n",
    "n_scores_for_n_estimators_hyperparameter = get_cross_validation_scores_given_hyperparameter(n_estimators)"
   ]
  },
  {
   "cell_type": "code",
   "execution_count": 57,
   "metadata": {},
   "outputs": [
    {
     "data": {
      "image/png": "[encoded data removed]",
      "text/plain": [
       "<Figure size 640x480 with 1 Axes>"
      ]
     },
     "metadata": {},
     "output_type": "display_data"
    }
   ],
   "source": [
    "plot_cross_validation_scores(\n",
    "    n_estimators, \n",
    "    n_scores_for_n_estimators_hyperparameter, \n",
    "    'n for n_estimators')"
   ]
  },
  {
   "cell_type": "code",
   "execution_count": 58,
   "metadata": {},
   "outputs": [
    {
     "name": "stdout",
     "output_type": "stream",
     "text": [
      "Highest score =  0.32901734787635684\n",
      "Avg score =  0.29941603842795744\n"
     ]
    }
   ],
   "source": [
    "print('Highest score = ', max(n_scores_for_n_estimators_hyperparameter))\n",
    "print('Avg score = ', mean(n_scores_for_n_estimators_hyperparameter))"
   ]
  },
  {
   "cell_type": "code",
   "execution_count": 59,
   "metadata": {},
   "outputs": [],
   "source": [
    "cross_validation_scores['mean score 10 folds cross validation Gradient Boosting with 5 different\\\n",
    "     values of mean cross validation for 5 different values of estimators hyperparameter = '] = \\\n",
    "     mean(n_scores_for_n_estimators_hyperparameter)\n",
    "cross_validation_scores['max score 10 folds cross validation Gradient Boosting with 5 different \\\n",
    "    values of mean cross validation for 5 different values of estimators hyperparameter = '] = \\\n",
    "    max(n_scores_for_n_estimators_hyperparameter)"
   ]
  },
  {
   "attachments": {},
   "cell_type": "markdown",
   "metadata": {},
   "source": [
    "#### Cross Validation with another different values of n_estimators"
   ]
  },
  {
   "cell_type": "code",
   "execution_count": 60,
   "metadata": {},
   "outputs": [],
   "source": [
    "# Number of trees in Gradient Boosting Trees \n",
    "n_estimators = [10,20,50,100,200,300,400]\n",
    "\n",
    "n_scores_for_n_estimators_hyperparameter = get_cross_validation_scores_given_hyperparameter(n_estimators)"
   ]
  },
  {
   "cell_type": "code",
   "execution_count": 61,
   "metadata": {},
   "outputs": [
    {
     "data": {
      "image/png": "[encoded data removed]",
      "text/plain": [
       "<Figure size 640x480 with 1 Axes>"
      ]
     },
     "metadata": {},
     "output_type": "display_data"
    }
   ],
   "source": [
    "plot_cross_validation_scores(\n",
    "    n_estimators, \n",
    "    n_scores_for_n_estimators_hyperparameter, \n",
    "    'n for n_estimators')"
   ]
  },
  {
   "cell_type": "code",
   "execution_count": 62,
   "metadata": {},
   "outputs": [
    {
     "name": "stdout",
     "output_type": "stream",
     "text": [
      "Highest score =  0.32901734787635684\n",
      "Avg score =  0.292835645623801\n"
     ]
    }
   ],
   "source": [
    "print('Highest score = ', max(n_scores_for_n_estimators_hyperparameter))\n",
    "print('Avg score = ', mean(n_scores_for_n_estimators_hyperparameter))"
   ]
  },
  {
   "cell_type": "code",
   "execution_count": 63,
   "metadata": {},
   "outputs": [],
   "source": [
    "cross_validation_scores['mean score 10 folds cross validation Gradient Boosting with 7 different \\\n",
    "    values of mean cross validation for 7 different values of estimators hyperparameter = '] = \\\n",
    "        mean(n_scores_for_n_estimators_hyperparameter)\n",
    "cross_validation_scores['max score 10 folds cross validation Gradient Boosting with 7 different \\\n",
    "    values of mean cross validation for 7 different values of estimators hyperparameter = '] = \\\n",
    "        max(n_scores_for_n_estimators_hyperparameter)"
   ]
  },
  {
   "attachments": {},
   "cell_type": "markdown",
   "metadata": {},
   "source": [
    "#### Cross Validation with different values of max_depth hyperparameter"
   ]
  },
  {
   "cell_type": "code",
   "execution_count": 64,
   "metadata": {},
   "outputs": [],
   "source": [
    "# maximum depth in Gradient Boosting Trees \n",
    "max_depth = [int(x) for x in np.linspace(5, 74, num = 10)]\n",
    "\n",
    "n_scores_for_max_depth_hyperparameter = get_cross_validation_scores_given_hyperparameter(max_depth)"
   ]
  },
  {
   "cell_type": "code",
   "execution_count": 65,
   "metadata": {},
   "outputs": [
    {
     "data": {
      "text/plain": [
       "[0.14700345052267488,\n",
       " 0.2391531684593354,\n",
       " 0.2889987313819401,\n",
       " 0.3100182249817379,\n",
       " 0.31822806872930326,\n",
       " 0.323630493355918,\n",
       " 0.3280364207705121,\n",
       " 0.3296322344385708,\n",
       " 0.3331381796281741,\n",
       " 0.3326348363302203]"
      ]
     },
     "execution_count": 65,
     "metadata": {},
     "output_type": "execute_result"
    }
   ],
   "source": [
    "n_scores_for_max_depth_hyperparameter"
   ]
  },
  {
   "cell_type": "code",
   "execution_count": 66,
   "metadata": {},
   "outputs": [
    {
     "name": "stdout",
     "output_type": "stream",
     "text": [
      "Highest score =  0.3331381796281741\n",
      "Avg score =  0.29504738085983867\n"
     ]
    }
   ],
   "source": [
    "print('Highest score = ', max(n_scores_for_max_depth_hyperparameter))\n",
    "print('Avg score = ', mean(n_scores_for_max_depth_hyperparameter))"
   ]
  },
  {
   "cell_type": "code",
   "execution_count": 67,
   "metadata": {},
   "outputs": [],
   "source": [
    "cross_validation_scores['mean score 10 folds cross validation Gradient Boosting with 10 different \\\n",
    "    values of mean cross validation for 10 different values of max_depth hyperparameter = '] = \\\n",
    "        mean(n_scores_for_max_depth_hyperparameter)\n",
    "cross_validation_scores['max score 10 folds cross validation Gradient Boosting with 10 different \\\n",
    "    values of mean cross validation for 10 different values of max_depth hyperparameter = '] = \\\n",
    "        max(n_scores_for_max_depth_hyperparameter)"
   ]
  },
  {
   "cell_type": "code",
   "execution_count": 68,
   "metadata": {},
   "outputs": [
    {
     "data": {
      "image/png": "[encoded data removed]",
      "text/plain": [
       "<Figure size 640x480 with 1 Axes>"
      ]
     },
     "metadata": {},
     "output_type": "display_data"
    }
   ],
   "source": [
    "plot_cross_validation_scores(\n",
    "    max_depth, \n",
    "    n_scores_for_max_depth_hyperparameter, \n",
    "    'max_depth for each tree')"
   ]
  },
  {
   "cell_type": "code",
   "execution_count": 70,
   "metadata": {},
   "outputs": [
    {
     "name": "stdout",
     "output_type": "stream",
     "text": [
      "0.3413969691618899 \t= Best score for RandomSearch on GradientBoostingRegressor() model = \n",
      "0.3189285305460693 \t= test score for {best_estimator_} resulted from RandomSearch on GradientBoostingRegressor() model = \n",
      "0.35456951474838494 \t= mean score for Gradient Boosting with best hyperparameters     resulted from Random Search = \n",
      "0.611569301864878 \t= max score for Gradient Boosting with best hyperparameters     resulted from Random Search = \n",
      "0.32901734787635684 \t= mean score 10 folds cross validation Base Gradient     Boosting without Hyperparameters = \n",
      "0.5646669707841343 \t= max score 10 folds cross validation Base Gradient     Boosting without Hyperparameters = \n",
      "0.29941603842795744 \t= mean score 10 folds cross validation Gradient Boosting with 5 different     values of mean cross validation for 5 different values of estimators hyperparameter = \n",
      "0.32901734787635684 \t= max score 10 folds cross validation Gradient Boosting with 5 different     values of mean cross validation for 5 different values of estimators hyperparameter = \n",
      "0.292835645623801 \t= mean score 10 folds cross validation Gradient Boosting with 7 different     values of mean cross validation for 7 different values of estimators hyperparameter = \n",
      "0.32901734787635684 \t= max score 10 folds cross validation Gradient Boosting with 7 different     values of mean cross validation for 7 different values of estimators hyperparameter = \n",
      "0.29504738085983867 \t= mean score 10 folds cross validation Gradient Boosting with 10 different     values of mean cross validation for 10 different values of max_depth hyperparameter = \n",
      "0.3331381796281741 \t= max score 10 folds cross validation Gradient Boosting with 10 different     values of mean cross validation for 10 different values of max_depth hyperparameter = \n"
     ]
    }
   ],
   "source": [
    "# Observe resulted mean scores of cross vallidation from different hyperparameters values\n",
    "for description, score in cross_validation_scores.items():\n",
    "    print(f'{score}\\t{description}')\n"
   ]
  },
  {
   "attachments": {},
   "cell_type": "markdown",
   "metadata": {},
   "source": [
    "* Observe that the lowest score = mean score 10 folds cross validation Gradient Boosting with 7 different values of mean cross validation for 7 different values of estimators hyperparameter\n",
    "* Obeserve that (mean cross validation score for Gradient Boosting with best hyperparameters resulted from Random Search ) is the highest"
   ]
  }
 ],
 "metadata": {
  "kernelspec": {
   "display_name": "Python 3 (ipykernel)",
   "language": "python",
   "name": "python3"
  },
  "language_info": {
   "codemirror_mode": {
    "name": "ipython",
    "version": 3
   },
   "file_extension": ".py",
   "mimetype": "text/x-python",
   "name": "python",
   "nbconvert_exporter": "python",
   "pygments_lexer": "ipython3",
   "version": "3.10.9"
  },
  "vscode": {
   "interpreter": {
    "hash": "35593e51b4ce14723bf766f164ae734becbb9dd9e36b261e438ccc9705ab8552"
   }
  }
 },
 "nbformat": 4,
 "nbformat_minor": 2
}

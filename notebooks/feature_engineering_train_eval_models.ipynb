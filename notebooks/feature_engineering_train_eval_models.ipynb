{
 "cells": [
  {
   "cell_type": "code",
   "execution_count": 150,
   "metadata": {},
   "outputs": [],
   "source": [
    "# standard library imports\n",
    "import re\n",
    "import pickle\n",
    "\n",
    "# third-party library imports\n",
    "import numpy as np\n",
    "import pandas as pd\n",
    "import matplotlib.pyplot as plt\n",
    "import seaborn as sns\n",
    "\n",
    "# custom imports\n",
    "from pprint import pprint\n",
    "from sklearn.impute import KNNImputer\n",
    "from sklearn.model_selection import cross_val_score\n",
    "from sklearn.model_selection import train_test_split\n",
    "from category_encoders.one_hot import OneHotEncoder\n",
    "from sklearn.metrics import mean_squared_error, r2_score\n",
    "from sklearn.model_selection import RandomizedSearchCV\n",
    "from sklearn.preprocessing import StandardScaler\n",
    "from sklearn.preprocessing import PolynomialFeatures\n",
    "from sklearn.linear_model import LinearRegression\n",
    "from sklearn.linear_model import Ridge\n",
    "from sklearn.linear_model import Lasso\n",
    "from sklearn.linear_model import SGDRegressor\n",
    "from sklearn.linear_model import LogisticRegression\n",
    "from sklearn.neighbors import KNeighborsClassifier\n",
    "from sklearn.tree import DecisionTreeRegressor\n",
    "from sklearn.ensemble import GradientBoostingRegressor\n",
    "from sklearn.ensemble import RandomForestRegressor\n",
    "from sklearn.compose import ColumnTransformer\n",
    "from sklearn.pipeline import Pipeline\n",
    "from sklearn.preprocessing import PowerTransformer\n",
    "from statistics import mean"
   ]
  },
  {
   "cell_type": "code",
   "execution_count": 152,
   "metadata": {},
   "outputs": [],
   "source": [
    "dataset = pd.read_csv(\"../data/data_enriched.csv\")"
   ]
  },
  {
   "cell_type": "code",
   "execution_count": 153,
   "metadata": {},
   "outputs": [
    {
     "data": {
      "text/html": [
       "<div>\n",
       "<style scoped>\n",
       "    .dataframe tbody tr th:only-of-type {\n",
       "        vertical-align: middle;\n",
       "    }\n",
       "\n",
       "    .dataframe tbody tr th {\n",
       "        vertical-align: top;\n",
       "    }\n",
       "\n",
       "    .dataframe thead th {\n",
       "        text-align: right;\n",
       "    }\n",
       "</style>\n",
       "<table border=\"1\" class=\"dataframe\">\n",
       "  <thead>\n",
       "    <tr style=\"text-align: right;\">\n",
       "      <th></th>\n",
       "      <th>car_color</th>\n",
       "      <th>fuel_type</th>\n",
       "      <th>car_type</th>\n",
       "      <th>car_license</th>\n",
       "      <th>gear_type</th>\n",
       "      <th>windows</th>\n",
       "      <th>motor_power</th>\n",
       "      <th>speedometer</th>\n",
       "      <th>passengers_number</th>\n",
       "      <th>payment_method</th>\n",
       "      <th>car_state</th>\n",
       "      <th>ex_owners</th>\n",
       "      <th>additions</th>\n",
       "      <th>price</th>\n",
       "    </tr>\n",
       "  </thead>\n",
       "  <tbody>\n",
       "    <tr>\n",
       "      <th>0</th>\n",
       "      <td>أبيض عاجي</td>\n",
       "      <td>بنزين</td>\n",
       "      <td>خصوصي</td>\n",
       "      <td>فلسطينية</td>\n",
       "      <td>اوتوماتيك</td>\n",
       "      <td>الكتروني</td>\n",
       "      <td>2000</td>\n",
       "      <td>75000</td>\n",
       "      <td>5.0</td>\n",
       "      <td>نقدا فقط</td>\n",
       "      <td>للبيع فقط</td>\n",
       "      <td>1.0</td>\n",
       "      <td>\\n\\nمُكيّف\\nإغلاق مركزي\\nجهاز إنذار\\nمسجل CD\\n...</td>\n",
       "      <td>100000</td>\n",
       "    </tr>\n",
       "    <tr>\n",
       "      <th>1</th>\n",
       "      <td>سكني</td>\n",
       "      <td>ديزل</td>\n",
       "      <td>خصوصي</td>\n",
       "      <td>فلسطينية</td>\n",
       "      <td>نصف اوتوماتيك</td>\n",
       "      <td>الكتروني</td>\n",
       "      <td>2500</td>\n",
       "      <td>130000</td>\n",
       "      <td>8.0</td>\n",
       "      <td>إمكانية التقسيط</td>\n",
       "      <td>للبيع أو التبديل</td>\n",
       "      <td>2.0</td>\n",
       "      <td>\\n\\nمُكيّف\\nإغلاق مركزي\\nجهاز إنذار\\nمسجل CD\\n...</td>\n",
       "      <td>60000</td>\n",
       "    </tr>\n",
       "    <tr>\n",
       "      <th>2</th>\n",
       "      <td>سكني</td>\n",
       "      <td>بنزين</td>\n",
       "      <td>خصوصي</td>\n",
       "      <td>فلسطينية</td>\n",
       "      <td>اوتوماتيك</td>\n",
       "      <td>الكتروني</td>\n",
       "      <td>1600</td>\n",
       "      <td>NaN</td>\n",
       "      <td>NaN</td>\n",
       "      <td>نقدا فقط</td>\n",
       "      <td>للبيع فقط</td>\n",
       "      <td>NaN</td>\n",
       "      <td>\\n\\nمُكيّف\\nإغلاق مركزي\\nجهاز إنذار\\nمسجل CD\\n...</td>\n",
       "      <td>43500</td>\n",
       "    </tr>\n",
       "    <tr>\n",
       "      <th>3</th>\n",
       "      <td>بيج</td>\n",
       "      <td>بنزين</td>\n",
       "      <td>خصوصي</td>\n",
       "      <td>فلسطينية</td>\n",
       "      <td>عادي</td>\n",
       "      <td>يدوي</td>\n",
       "      <td>906</td>\n",
       "      <td>NaN</td>\n",
       "      <td>5.0</td>\n",
       "      <td>إمكانية التقسيط</td>\n",
       "      <td>للبيع فقط</td>\n",
       "      <td>0.0</td>\n",
       "      <td>\\n\\nمُكيّف\\nمسجل CD\\n\\n</td>\n",
       "      <td>5500</td>\n",
       "    </tr>\n",
       "    <tr>\n",
       "      <th>4</th>\n",
       "      <td>فضي</td>\n",
       "      <td>بنزين</td>\n",
       "      <td>خصوصي</td>\n",
       "      <td>فلسطينية</td>\n",
       "      <td>اوتوماتيك</td>\n",
       "      <td>الكتروني</td>\n",
       "      <td>1200</td>\n",
       "      <td>38000</td>\n",
       "      <td>5.0</td>\n",
       "      <td>نقدا فقط</td>\n",
       "      <td>للبيع فقط</td>\n",
       "      <td>NaN</td>\n",
       "      <td>\\n\\nمُكيّف\\nإغلاق مركزي\\nجهاز إنذار\\nجنطات مغن...</td>\n",
       "      <td>54000</td>\n",
       "    </tr>\n",
       "  </tbody>\n",
       "</table>\n",
       "</div>"
      ],
      "text/plain": [
       "    car_color fuel_type car_type car_license       gear_type    windows  \\\n",
       "0  أبيض عاجي     بنزين    خصوصي    فلسطينية       اوتوماتيك   الكتروني    \n",
       "1       سكني      ديزل    خصوصي    فلسطينية   نصف اوتوماتيك   الكتروني    \n",
       "2       سكني     بنزين    خصوصي    فلسطينية       اوتوماتيك   الكتروني    \n",
       "3        بيج     بنزين    خصوصي    فلسطينية            عادي       يدوي    \n",
       "4        فضي     بنزين    خصوصي    فلسطينية       اوتوماتيك   الكتروني    \n",
       "\n",
       "   motor_power speedometer  passengers_number    payment_method  \\\n",
       "0         2000       75000                5.0         نقدا فقط    \n",
       "1         2500      130000                8.0  إمكانية التقسيط    \n",
       "2         1600         NaN                NaN         نقدا فقط    \n",
       "3          906         NaN                5.0  إمكانية التقسيط    \n",
       "4         1200       38000                5.0         نقدا فقط    \n",
       "\n",
       "           car_state  ex_owners  \\\n",
       "0         للبيع فقط         1.0   \n",
       "1  للبيع أو التبديل         2.0   \n",
       "2         للبيع فقط         NaN   \n",
       "3         للبيع فقط         0.0   \n",
       "4         للبيع فقط         NaN   \n",
       "\n",
       "                                           additions   price  \n",
       "0  \\n\\nمُكيّف\\nإغلاق مركزي\\nجهاز إنذار\\nمسجل CD\\n...  100000  \n",
       "1  \\n\\nمُكيّف\\nإغلاق مركزي\\nجهاز إنذار\\nمسجل CD\\n...   60000  \n",
       "2  \\n\\nمُكيّف\\nإغلاق مركزي\\nجهاز إنذار\\nمسجل CD\\n...   43500  \n",
       "3                            \\n\\nمُكيّف\\nمسجل CD\\n\\n    5500  \n",
       "4  \\n\\nمُكيّف\\nإغلاق مركزي\\nجهاز إنذار\\nجنطات مغن...   54000  "
      ]
     },
     "execution_count": 153,
     "metadata": {},
     "output_type": "execute_result"
    }
   ],
   "source": [
    "dataset.head()"
   ]
  },
  {
   "cell_type": "code",
   "execution_count": 154,
   "metadata": {},
   "outputs": [
    {
     "data": {
      "text/plain": [
       "(6864, 14)"
      ]
     },
     "execution_count": 154,
     "metadata": {},
     "output_type": "execute_result"
    }
   ],
   "source": [
    "dataset.shape"
   ]
  },
  {
   "cell_type": "markdown",
   "metadata": {},
   "source": [
    "## Feature Engineering"
   ]
  },
  {
   "cell_type": "markdown",
   "metadata": {},
   "source": [
    "### Handle outliers"
   ]
  },
  {
   "cell_type": "code",
   "execution_count": 288,
   "metadata": {},
   "outputs": [
    {
     "data": {
      "text/plain": [
       "pandas.core.series.Series"
      ]
     },
     "execution_count": 288,
     "metadata": {},
     "output_type": "execute_result"
    }
   ],
   "source": [
    "type(dataset['speedometer'])"
   ]
  },
  {
   "cell_type": "code",
   "execution_count": 159,
   "metadata": {},
   "outputs": [],
   "source": [
    "def handle_outliers(data, feature):\n",
    "    \"\"\"handle outliers\n",
    "\n",
    "    Args:\n",
    "        data (DataFrame): dataset\n",
    "        feature (Series): feature with outliers needed to be handled\n",
    "\n",
    "    Returns:\n",
    "        DataFrame: dataset after removing outliers\n",
    "    \"\"\"\n",
    "    upper_lim = data[feature].quantile(.999)\n",
    "    lower_lim = data[feature].quantile(.0000001)\n",
    "\n",
    "    return data[(data[feature] < upper_lim) & (data[feature] > lower_lim)]"
   ]
  },
  {
   "cell_type": "code",
   "execution_count": null,
   "metadata": {},
   "outputs": [],
   "source": [
    "dataset = handle_outliers(dataset, 'speedometer')"
   ]
  },
  {
   "cell_type": "code",
   "execution_count": 142,
   "metadata": {},
   "outputs": [
    {
     "data": {
      "text/plain": [
       "(6864, 14)"
      ]
     },
     "execution_count": 142,
     "metadata": {},
     "output_type": "execute_result"
    }
   ],
   "source": [
    "dataset.shape"
   ]
  },
  {
   "cell_type": "markdown",
   "metadata": {},
   "source": [
    "### Handle missing data"
   ]
  },
  {
   "cell_type": "code",
   "execution_count": null,
   "metadata": {},
   "outputs": [],
   "source": [
    "def get_list_columns_names_with_missing_values(data):\n",
    "    \"\"\" get list of columns names (headers) that detected having missing values\n",
    "\n",
    "    Args:\n",
    "        data (DataFrame): dataset\n",
    "\n",
    "    Returns:\n",
    "        List: list of columns names (headers) that detected having missing values\n",
    "    \"\"\"\n",
    "    return data.columns[data.isna().any()].tolist()"
   ]
  },
  {
   "cell_type": "code",
   "execution_count": 156,
   "metadata": {},
   "outputs": [],
   "source": [
    "def handle_missing_data(data):\n",
    "    \"\"\"handle missing data using KNNImputer\n",
    "\n",
    "    Args:\n",
    "        data (DataFrame): dataset\n",
    "    \"\"\"\n",
    "    nan_columns = get_list_columns_names_with_missing_values(data)\n",
    "    if nan_columns:\n",
    "        model = KNNImputer(n_neighbors=3)\n",
    "        after_imputation = model.fit_transform(data[nan_columns])\n",
    "        for indx, feature in enumerate(nan_columns):\n",
    "            data[feature] = after_imputation[:,indx].round().astype(int)\n"
   ]
  },
  {
   "cell_type": "code",
   "execution_count": 157,
   "metadata": {},
   "outputs": [],
   "source": [
    "handle_missing_data(dataset)"
   ]
  },
  {
   "attachments": {},
   "cell_type": "markdown",
   "metadata": {},
   "source": [
    "#### Feature Selection"
   ]
  },
  {
   "cell_type": "code",
   "execution_count": 160,
   "metadata": {},
   "outputs": [],
   "source": [
    "dataset.drop(['additions'], axis=1, inplace=True) "
   ]
  },
  {
   "attachments": {},
   "cell_type": "markdown",
   "metadata": {},
   "source": [
    "#### Define models to train/test the data on"
   ]
  },
  {
   "cell_type": "code",
   "execution_count": 85,
   "metadata": {},
   "outputs": [],
   "source": [
    "models = {'ols': {'model': LinearRegression(), \n",
    "                  'description': 'orinary least square'\n",
    "                  },\n",
    "        'sgd1': {'model': SGDRegressor(),\n",
    "                  'description': 'gradient descent with 1000 iteration'\n",
    "                  },\n",
    "        'sgd2': {'model': SGDRegressor(max_iter=10),\n",
    "                  'description': 'gradient descent with 10 iteration'\n",
    "                  },\n",
    "        'ply2': {'model': LinearRegression(),\n",
    "                  'degree': 2,\n",
    "                  'description': 'Polynomial with 2 degree'\n",
    "                  },\n",
    "        'ply2_ridge': {'model': Ridge(),\n",
    "                  'degree': 2,\n",
    "                  'description': 'orinary least square'\n",
    "                  },\n",
    "        'ply2_lasso': {'model': Lasso(),\n",
    "                  'degree': 2,\n",
    "                  'description': 'orinary least square'\n",
    "                  },\n",
    "        '3nn': {'model': KNeighborsClassifier(n_neighbors=3),\n",
    "                  'description': 'KNN with k=3'\n",
    "                  },\n",
    "        'DT': {'model': DecisionTreeRegressor(),\n",
    "                  'description': 'Decision Tree Regressor'\n",
    "                  },\n",
    "        \"rfr\": {\"model\": RandomForestRegressor(n_estimators = 15),\n",
    "                  \"description\":\"Random Forest Regressor\"\n",
    "                  },\n",
    "        'GBR': {'model': GradientBoostingRegressor(),\n",
    "                  'description': 'Gradient Boosting Regressor'\n",
    "                  }\n",
    "  }"
   ]
  },
  {
   "cell_type": "markdown",
   "metadata": {},
   "source": [
    "#### Define funcitons needed to train, predict, and evaluate the data"
   ]
  },
  {
   "cell_type": "code",
   "execution_count": 75,
   "metadata": {},
   "outputs": [],
   "source": [
    "def train_plynomial_model(model, degree, X_train, y_train):\n",
    "    \"\"\"train polynomial model with the given degree\n",
    "\n",
    "    Args:\n",
    "        model (sklearn model): model to fit polynomial degree on to become a polynomial model\n",
    "        degree (int): degree of polynomial model\n",
    "        X_train (ndarray): features\n",
    "        y_train (ndarray): target variable\n",
    "    \"\"\"\n",
    "    poly = PolynomialFeatures(degree)\n",
    "    poly_x_train = poly.fit_transform(X_train)\n",
    "    model.fit(poly_x_train, y_train)"
   ]
  },
  {
   "cell_type": "code",
   "execution_count": 76,
   "metadata": {},
   "outputs": [],
   "source": [
    "def train_model(models, X_train, y_train):\n",
    "    \"\"\" train models by fitting each model on training dataset\n",
    "\n",
    "    Args:\n",
    "        models (Dict): dictionary of models to be evaluated\n",
    "        X_train (ndarray): features\n",
    "        y_train (ndarray): target variable\n",
    "\n",
    "    Returns:\n",
    "        Dict: models dictionary adjusted after fitting each model with training data\n",
    "    \"\"\"\n",
    "    # go over all models\n",
    "    for model_id in models:\n",
    "        # train if polynomial\n",
    "        print(models[model_id])\n",
    "        if models[model_id].get(\"degree\"):\n",
    "            train_plynomial_model(models[model_id]['model'],\\\n",
    "                                  models[model_id]['degree'],\\\n",
    "                                  X_train,\\\n",
    "                                  y_train)\n",
    "            \n",
    "        else:  \n",
    "            models[model_id]['model'].fit(X_train, y_train)\n",
    "        #print(models[model_id]['model'].coef_)\n",
    "        #print(models[model_id]['model'].intercept_)\n",
    "        \n",
    "    # return the new dictionary\n",
    "    return models"
   ]
  },
  {
   "cell_type": "code",
   "execution_count": 77,
   "metadata": {},
   "outputs": [],
   "source": [
    "def predict_plynomial_model(model, degree, X_test):\n",
    "    \"\"\" predict polynomial model with specific degree\n",
    "\n",
    "    Args:\n",
    "        model (sklearn model): model to fit polynomial degree on to become a polynomial model\n",
    "        degree (int): degree of polynomial model\n",
    "        X_test (ndarray): features\n",
    "\n",
    "    Returns:\n",
    "        ndarray: polynomial predicted values for X_test data\n",
    "    \"\"\"\n",
    "    poly = PolynomialFeatures(degree)\n",
    "    poly_x_test = poly.fit_transform(X_test)   \n",
    "    return model.predict(poly_x_test)"
   ]
  },
  {
   "cell_type": "code",
   "execution_count": 86,
   "metadata": {},
   "outputs": [],
   "source": [
    "def eval_models(models, X_test, y_test, train_test):\n",
    "    \"\"\" Evaluate the data despite it's training set or test set using r2 and RMSE evaluation metrics \n",
    "    and add the score for each model to the dictionary\n",
    "\n",
    "    Args:\n",
    "        models (Dict): dictionary of models to be evaluated\n",
    "        X_test (ndarray): features\n",
    "        y_test (ndarray): target variable\n",
    "        train_test (str): whether the data is a training set or testing set\n",
    "\n",
    "    Returns:\n",
    "        Dict: models dictionary adjusted with added evaluation score\n",
    "    \"\"\"\n",
    "    # go over all models\n",
    "    for model_id in models:\n",
    "        # predict them\n",
    "        if models[model_id].get(\"degree\"): #if not (models[model_id].get(\"degree\") is None):\n",
    "            y_predict= predict_plynomial_model(models[model_id]['model'],\\\n",
    "                                  models[model_id]['degree'],\\\n",
    "                                  X_test)\n",
    "            \n",
    "        else: \n",
    "            y_predict = models[model_id]['model'].predict(X_test)\n",
    "\n",
    "        # evaluate models using 'RMSE' evaluation metric\n",
    "        rmse = mean_squared_error(y_test, y_predict, squared=False) # np.sqrt(mean_squared_error())\n",
    "\n",
    "        if train_test == 'train':\n",
    "            models[model_id][\"train_RMSE\"] = rmse\n",
    "            \n",
    "            # evaluate models using 'R square' evaluation metric\n",
    "            models[model_id][\"train_R2_score\"] = r2_score(y_test, y_predict)\n",
    "        \n",
    "        else:\n",
    "            models[model_id][\"test_RMSE\"] = rmse\n",
    "            \n",
    "            # evaluate models using 'R square' evaluation metric\n",
    "            models[model_id][\"test_R2_score\"] = r2_score(y_test, y_predict)\n",
    "\n",
    "    # return models dictionary adjusted attached with evaluation metric\n",
    "    return models"
   ]
  },
  {
   "attachments": {},
   "cell_type": "markdown",
   "metadata": {},
   "source": [
    "#### Split data into features and target variable"
   ]
  },
  {
   "cell_type": "code",
   "execution_count": null,
   "metadata": {},
   "outputs": [],
   "source": [
    "X = dataset.drop(columns = 'price')\n",
    "y = dataset['price'] "
   ]
  },
  {
   "cell_type": "code",
   "execution_count": null,
   "metadata": {},
   "outputs": [],
   "source": [
    "# get categorical features\n",
    "categorical_features = dataset.select_dtypes(['object']).columns.to_list()"
   ]
  },
  {
   "cell_type": "code",
   "execution_count": null,
   "metadata": {},
   "outputs": [],
   "source": [
    "# get numeric features\n",
    "numeric_features = X.select_dtypes('number').columns.to_list()"
   ]
  },
  {
   "attachments": {},
   "cell_type": "markdown",
   "metadata": {},
   "source": [
    "#### Feature Preprocessing Transformation\n",
    "###### transform features applying ColumnTransformer() pipeline"
   ]
  },
  {
   "cell_type": "code",
   "execution_count": null,
   "metadata": {},
   "outputs": [],
   "source": [
    "# Apply different preprocessing steps to different columns of the data\n",
    "transformer = ColumnTransformer(\n",
    "    transformers = [  \n",
    "        # encode categorical features using OneHotEncoder()\n",
    "        ('categorical', OneHotEncoder(), categorical_features),\n",
    "        # feature scaling on numeric features using log transformation\n",
    "        ('numerical', PowerTransformer(), numeric_features),\n",
    "    ],\n",
    "    remainder='passthrough'\n",
    "    )"
   ]
  },
  {
   "cell_type": "code",
   "execution_count": null,
   "metadata": {},
   "outputs": [
    {
     "name": "stderr",
     "output_type": "stream",
     "text": [
      "c:\\Users\\DELL\\Study\\ML2 2022\\ML2 Assignment1 Car Price Prediction\\car-price-prediction\\venv_car_price_pred\\lib\\site-packages\\category_encoders\\one_hot.py:145: FutureWarning: iteritems is deprecated and will be removed in a future version. Use .items instead.\n",
      "  for cat_name, class_ in values.iteritems():\n",
      "c:\\Users\\DELL\\Study\\ML2 2022\\ML2 Assignment1 Car Price Prediction\\car-price-prediction\\venv_car_price_pred\\lib\\site-packages\\category_encoders\\one_hot.py:145: FutureWarning: iteritems is deprecated and will be removed in a future version. Use .items instead.\n",
      "  for cat_name, class_ in values.iteritems():\n",
      "c:\\Users\\DELL\\Study\\ML2 2022\\ML2 Assignment1 Car Price Prediction\\car-price-prediction\\venv_car_price_pred\\lib\\site-packages\\category_encoders\\one_hot.py:145: FutureWarning: iteritems is deprecated and will be removed in a future version. Use .items instead.\n",
      "  for cat_name, class_ in values.iteritems():\n",
      "c:\\Users\\DELL\\Study\\ML2 2022\\ML2 Assignment1 Car Price Prediction\\car-price-prediction\\venv_car_price_pred\\lib\\site-packages\\category_encoders\\one_hot.py:145: FutureWarning: iteritems is deprecated and will be removed in a future version. Use .items instead.\n",
      "  for cat_name, class_ in values.iteritems():\n",
      "c:\\Users\\DELL\\Study\\ML2 2022\\ML2 Assignment1 Car Price Prediction\\car-price-prediction\\venv_car_price_pred\\lib\\site-packages\\category_encoders\\one_hot.py:145: FutureWarning: iteritems is deprecated and will be removed in a future version. Use .items instead.\n",
      "  for cat_name, class_ in values.iteritems():\n",
      "c:\\Users\\DELL\\Study\\ML2 2022\\ML2 Assignment1 Car Price Prediction\\car-price-prediction\\venv_car_price_pred\\lib\\site-packages\\category_encoders\\one_hot.py:145: FutureWarning: iteritems is deprecated and will be removed in a future version. Use .items instead.\n",
      "  for cat_name, class_ in values.iteritems():\n",
      "c:\\Users\\DELL\\Study\\ML2 2022\\ML2 Assignment1 Car Price Prediction\\car-price-prediction\\venv_car_price_pred\\lib\\site-packages\\category_encoders\\one_hot.py:145: FutureWarning: iteritems is deprecated and will be removed in a future version. Use .items instead.\n",
      "  for cat_name, class_ in values.iteritems():\n",
      "c:\\Users\\DELL\\Study\\ML2 2022\\ML2 Assignment1 Car Price Prediction\\car-price-prediction\\venv_car_price_pred\\lib\\site-packages\\category_encoders\\one_hot.py:145: FutureWarning: iteritems is deprecated and will be removed in a future version. Use .items instead.\n",
      "  for cat_name, class_ in values.iteritems():\n"
     ]
    }
   ],
   "source": [
    "# transform the features\n",
    "X_transformed = transformer.fit_transform(X)"
   ]
  },
  {
   "cell_type": "markdown",
   "metadata": {},
   "source": [
    "Split the data"
   ]
  },
  {
   "cell_type": "code",
   "execution_count": null,
   "metadata": {},
   "outputs": [],
   "source": [
    "X_train, X_test, y_train, y_test = train_test_split(\n",
    "                            X_transformed, y,\n",
    "                            test_size=.25, random_state=42\n",
    "                            )"
   ]
  },
  {
   "cell_type": "code",
   "execution_count": null,
   "metadata": {},
   "outputs": [
    {
     "data": {
      "text/plain": [
       "(5148,)"
      ]
     },
     "metadata": {},
     "output_type": "display_data"
    }
   ],
   "source": [
    "y_train.shape"
   ]
  },
  {
   "cell_type": "code",
   "execution_count": null,
   "metadata": {},
   "outputs": [
    {
     "data": {
      "text/plain": [
       "(1716,)"
      ]
     },
     "metadata": {},
     "output_type": "display_data"
    }
   ],
   "source": [
    "y_test.shape"
   ]
  },
  {
   "cell_type": "code",
   "execution_count": 88,
   "metadata": {},
   "outputs": [
    {
     "name": "stdout",
     "output_type": "stream",
     "text": [
      "{'model': LinearRegression(), 'description': 'orinary least square'}\n",
      "{'model': SGDRegressor(), 'description': 'gradient descent with 1000 iteration'}\n",
      "{'model': SGDRegressor(max_iter=10), 'description': 'gradient descent with 10 iteration'}\n",
      "{'model': LinearRegression(), 'degree': 2, 'description': 'Polynomial with 2 degree'}\n"
     ]
    },
    {
     "name": "stderr",
     "output_type": "stream",
     "text": [
      "c:\\Users\\DELL\\Study\\ML2 2022\\ML2 Assignment1 Car Price Prediction\\car-price-prediction\\venv_car_price_pred\\lib\\site-packages\\sklearn\\linear_model\\_stochastic_gradient.py:1527: ConvergenceWarning: Maximum number of iteration reached before convergence. Consider increasing max_iter to improve the fit.\n",
      "  warnings.warn(\n"
     ]
    },
    {
     "name": "stdout",
     "output_type": "stream",
     "text": [
      "{'model': Ridge(), 'degree': 2, 'description': 'orinary least square'}\n",
      "{'model': Lasso(), 'degree': 2, 'description': 'orinary least square'}\n"
     ]
    },
    {
     "name": "stderr",
     "output_type": "stream",
     "text": [
      "c:\\Users\\DELL\\Study\\ML2 2022\\ML2 Assignment1 Car Price Prediction\\car-price-prediction\\venv_car_price_pred\\lib\\site-packages\\sklearn\\linear_model\\_coordinate_descent.py:648: ConvergenceWarning: Objective did not converge. You might want to increase the number of iterations, check the scale of the features or consider increasing regularisation. Duality gap: 2.476e+12, tolerance: 1.674e+09\n",
      "  model = cd_fast.enet_coordinate_descent(\n"
     ]
    },
    {
     "name": "stdout",
     "output_type": "stream",
     "text": [
      "{'model': KNeighborsClassifier(n_neighbors=3), 'description': 'KNN with k=3'}\n",
      "{'model': DecisionTreeRegressor(), 'description': 'Decision Tree Regressor'}\n",
      "{'model': RandomForestRegressor(n_estimators=15), 'description': 'Random Forest Regressor'}\n",
      "{'model': GradientBoostingRegressor(), 'description': 'Gradient Boosting Regressor'}\n"
     ]
    }
   ],
   "source": [
    "train_model(models, X_train, y_train)"
   ]
  },
  {
   "cell_type": "code",
   "execution_count": 91,
   "metadata": {},
   "outputs": [],
   "source": [
    "eval_models(models, X_test, y_test, 'test')"
   ]
  },
  {
   "cell_type": "code",
   "execution_count": 94,
   "metadata": {},
   "outputs": [],
   "source": [
    "eval_models(models, X_train, y_train, 'train')"
   ]
  },
  {
   "cell_type": "code",
   "execution_count": 99,
   "metadata": {},
   "outputs": [
    {
     "data": {
      "text/html": [
       "<div>\n",
       "<style scoped>\n",
       "    .dataframe tbody tr th:only-of-type {\n",
       "        vertical-align: middle;\n",
       "    }\n",
       "\n",
       "    .dataframe tbody tr th {\n",
       "        vertical-align: top;\n",
       "    }\n",
       "\n",
       "    .dataframe thead th {\n",
       "        text-align: right;\n",
       "    }\n",
       "</style>\n",
       "<table border=\"1\" class=\"dataframe\">\n",
       "  <thead>\n",
       "    <tr style=\"text-align: right;\">\n",
       "      <th></th>\n",
       "      <th>model</th>\n",
       "      <th>description</th>\n",
       "      <th>test_RMSE</th>\n",
       "      <th>test_R2_score</th>\n",
       "      <th>train_RMSE</th>\n",
       "      <th>train_R2_score</th>\n",
       "      <th>degree</th>\n",
       "    </tr>\n",
       "  </thead>\n",
       "  <tbody>\n",
       "    <tr>\n",
       "      <th>ols</th>\n",
       "      <td>LinearRegression()</td>\n",
       "      <td>orinary least square</td>\n",
       "      <td>4.904144e+04</td>\n",
       "      <td>2.596994e-01</td>\n",
       "      <td>49003.404843</td>\n",
       "      <td>0.261542</td>\n",
       "      <td>NaN</td>\n",
       "    </tr>\n",
       "    <tr>\n",
       "      <th>sgd1</th>\n",
       "      <td>SGDRegressor()</td>\n",
       "      <td>gradient descent with 1000 iteration</td>\n",
       "      <td>4.896399e+04</td>\n",
       "      <td>2.620358e-01</td>\n",
       "      <td>49055.157190</td>\n",
       "      <td>0.259982</td>\n",
       "      <td>NaN</td>\n",
       "    </tr>\n",
       "    <tr>\n",
       "      <th>sgd2</th>\n",
       "      <td>SGDRegressor(max_iter=10)</td>\n",
       "      <td>gradient descent with 10 iteration</td>\n",
       "      <td>4.893300e+04</td>\n",
       "      <td>2.629696e-01</td>\n",
       "      <td>49212.814200</td>\n",
       "      <td>0.255217</td>\n",
       "      <td>NaN</td>\n",
       "    </tr>\n",
       "    <tr>\n",
       "      <th>ply2</th>\n",
       "      <td>LinearRegression()</td>\n",
       "      <td>Polynomial with 2 degree</td>\n",
       "      <td>9.348140e+12</td>\n",
       "      <td>-2.689875e+16</td>\n",
       "      <td>45166.412707</td>\n",
       "      <td>0.372658</td>\n",
       "      <td>2.0</td>\n",
       "    </tr>\n",
       "    <tr>\n",
       "      <th>ply2_ridge</th>\n",
       "      <td>Ridge()</td>\n",
       "      <td>orinary least square</td>\n",
       "      <td>4.901041e+04</td>\n",
       "      <td>2.606358e-01</td>\n",
       "      <td>45325.005570</td>\n",
       "      <td>0.368245</td>\n",
       "      <td>2.0</td>\n",
       "    </tr>\n",
       "    <tr>\n",
       "      <th>ply2_lasso</th>\n",
       "      <td>Lasso()</td>\n",
       "      <td>orinary least square</td>\n",
       "      <td>4.970858e+04</td>\n",
       "      <td>2.394207e-01</td>\n",
       "      <td>45191.688533</td>\n",
       "      <td>0.371956</td>\n",
       "      <td>2.0</td>\n",
       "    </tr>\n",
       "    <tr>\n",
       "      <th>3nn</th>\n",
       "      <td>KNeighborsClassifier(n_neighbors=3)</td>\n",
       "      <td>KNN with k=3</td>\n",
       "      <td>5.585759e+04</td>\n",
       "      <td>3.961339e-02</td>\n",
       "      <td>51336.139662</td>\n",
       "      <td>0.189563</td>\n",
       "      <td>NaN</td>\n",
       "    </tr>\n",
       "    <tr>\n",
       "      <th>DT</th>\n",
       "      <td>DecisionTreeRegressor()</td>\n",
       "      <td>Decision Tree Regressor</td>\n",
       "      <td>6.899300e+04</td>\n",
       "      <td>-4.651825e-01</td>\n",
       "      <td>5544.078355</td>\n",
       "      <td>0.990548</td>\n",
       "      <td>NaN</td>\n",
       "    </tr>\n",
       "    <tr>\n",
       "      <th>rfr</th>\n",
       "      <td>(DecisionTreeRegressor(max_features=1.0, rando...</td>\n",
       "      <td>Random Forest Regressor</td>\n",
       "      <td>4.983191e+04</td>\n",
       "      <td>2.356421e-01</td>\n",
       "      <td>21599.493423</td>\n",
       "      <td>0.856530</td>\n",
       "      <td>NaN</td>\n",
       "    </tr>\n",
       "    <tr>\n",
       "      <th>GBR</th>\n",
       "      <td>([DecisionTreeRegressor(criterion='friedman_ms...</td>\n",
       "      <td>Gradient Boosting Regressor</td>\n",
       "      <td>4.709193e+04</td>\n",
       "      <td>3.173868e-01</td>\n",
       "      <td>42773.852571</td>\n",
       "      <td>0.437361</td>\n",
       "      <td>NaN</td>\n",
       "    </tr>\n",
       "  </tbody>\n",
       "</table>\n",
       "</div>"
      ],
      "text/plain": [
       "                                                        model  \\\n",
       "ols                                        LinearRegression()   \n",
       "sgd1                                           SGDRegressor()   \n",
       "sgd2                                SGDRegressor(max_iter=10)   \n",
       "ply2                                       LinearRegression()   \n",
       "ply2_ridge                                            Ridge()   \n",
       "ply2_lasso                                            Lasso()   \n",
       "3nn                       KNeighborsClassifier(n_neighbors=3)   \n",
       "DT                                    DecisionTreeRegressor()   \n",
       "rfr         (DecisionTreeRegressor(max_features=1.0, rando...   \n",
       "GBR         ([DecisionTreeRegressor(criterion='friedman_ms...   \n",
       "\n",
       "                                     description     test_RMSE  test_R2_score  \\\n",
       "ols                         orinary least square  4.904144e+04   2.596994e-01   \n",
       "sgd1        gradient descent with 1000 iteration  4.896399e+04   2.620358e-01   \n",
       "sgd2          gradient descent with 10 iteration  4.893300e+04   2.629696e-01   \n",
       "ply2                    Polynomial with 2 degree  9.348140e+12  -2.689875e+16   \n",
       "ply2_ridge                  orinary least square  4.901041e+04   2.606358e-01   \n",
       "ply2_lasso                  orinary least square  4.970858e+04   2.394207e-01   \n",
       "3nn                                 KNN with k=3  5.585759e+04   3.961339e-02   \n",
       "DT                       Decision Tree Regressor  6.899300e+04  -4.651825e-01   \n",
       "rfr                      Random Forest Regressor  4.983191e+04   2.356421e-01   \n",
       "GBR                  Gradient Boosting Regressor  4.709193e+04   3.173868e-01   \n",
       "\n",
       "              train_RMSE  train_R2_score  degree  \n",
       "ols         49003.404843        0.261542     NaN  \n",
       "sgd1        49055.157190        0.259982     NaN  \n",
       "sgd2        49212.814200        0.255217     NaN  \n",
       "ply2        45166.412707        0.372658     2.0  \n",
       "ply2_ridge  45325.005570        0.368245     2.0  \n",
       "ply2_lasso  45191.688533        0.371956     2.0  \n",
       "3nn         51336.139662        0.189563     NaN  \n",
       "DT           5544.078355        0.990548     NaN  \n",
       "rfr         21599.493423        0.856530     NaN  \n",
       "GBR         42773.852571        0.437361     NaN  "
      ]
     },
     "execution_count": 99,
     "metadata": {},
     "output_type": "execute_result"
    }
   ],
   "source": [
    "# Observe scores in a neat way\n",
    "pd.DataFrame.from_dict(models,orient='index')"
   ]
  },
  {
   "cell_type": "code",
   "execution_count": 122,
   "metadata": {},
   "outputs": [],
   "source": [
    "def models_evaluation_test_train(models):\n",
    "    \"\"\"Present Model name, R2 train score, and R2 test score for each model neatly\n",
    "\n",
    "    Args:\n",
    "        models (Dict): dictionary of models trained and evaluated, along with \n",
    "                a description for each model and its train score and test score\n",
    "    \"\"\"\n",
    "    for model in models:\n",
    "        print(model)\n",
    "        print(f\"train_R2_score = {models[model]['train_R2_score']}\")\n",
    "        print(f\"test_R2_score = {models[model]['test_R2_score']}\")\n",
    "        print('-----------------------------------------------')\n",
    "        "
   ]
  },
  {
   "cell_type": "code",
   "execution_count": 123,
   "metadata": {},
   "outputs": [
    {
     "name": "stdout",
     "output_type": "stream",
     "text": [
      "ols\n",
      "train_R2_score = 0.261542333398054\n",
      "test_R2_score = 0.25969942320951633\n",
      "-----------------------------------------------\n",
      "sgd1\n",
      "train_R2_score = 0.25998174397307183\n",
      "test_R2_score = 0.2620357747626767\n",
      "-----------------------------------------------\n",
      "sgd2\n",
      "train_R2_score = 0.25521745203901636\n",
      "test_R2_score = 0.26296955630947916\n",
      "-----------------------------------------------\n",
      "ply2\n",
      "train_R2_score = 0.37265811067963694\n",
      "test_R2_score = -2.6898751741365708e+16\n",
      "-----------------------------------------------\n",
      "ply2_ridge\n",
      "train_R2_score = 0.3682448038262921\n",
      "test_R2_score = 0.2606357748093837\n",
      "-----------------------------------------------\n",
      "ply2_lasso\n",
      "train_R2_score = 0.3719557736839182\n",
      "test_R2_score = 0.23942069792260268\n",
      "-----------------------------------------------\n",
      "3nn\n",
      "train_R2_score = 0.1895625413876112\n",
      "test_R2_score = 0.03961338651088231\n",
      "-----------------------------------------------\n",
      "DT\n",
      "train_R2_score = 0.990547823784261\n",
      "test_R2_score = -0.46518252610868105\n",
      "-----------------------------------------------\n",
      "rfr\n",
      "train_R2_score = 0.8565302895633624\n",
      "test_R2_score = 0.23564211466023766\n",
      "-----------------------------------------------\n",
      "GBR\n",
      "train_R2_score = 0.4373610073618789\n",
      "test_R2_score = 0.31738684441314746\n",
      "-----------------------------------------------\n"
     ]
    }
   ],
   "source": [
    "models_evaluation_test_train(models)"
   ]
  },
  {
   "attachments": {},
   "cell_type": "markdown",
   "metadata": {},
   "source": [
    "* GradientBoostingRegressor() scored the highest. Then tune its hyperparameters to get better score"
   ]
  },
  {
   "attachments": {},
   "cell_type": "markdown",
   "metadata": {},
   "source": [
    "### Hyper Parameter Tuning"
   ]
  },
  {
   "attachments": {},
   "cell_type": "markdown",
   "metadata": {},
   "source": [
    "##### Show GradientBoostingRegressor() parameters to choose which to tune "
   ]
  },
  {
   "cell_type": "code",
   "execution_count": 201,
   "metadata": {},
   "outputs": [
    {
     "data": {
      "text/plain": [
       "{'alpha': 0.9,\n",
       " 'ccp_alpha': 0.0,\n",
       " 'criterion': 'friedman_mse',\n",
       " 'init': None,\n",
       " 'learning_rate': 0.1,\n",
       " 'loss': 'squared_error',\n",
       " 'max_depth': 3,\n",
       " 'max_features': None,\n",
       " 'max_leaf_nodes': None,\n",
       " 'min_impurity_decrease': 0.0,\n",
       " 'min_samples_leaf': 1,\n",
       " 'min_samples_split': 2,\n",
       " 'min_weight_fraction_leaf': 0.0,\n",
       " 'n_estimators': 100,\n",
       " 'n_iter_no_change': None,\n",
       " 'random_state': 42,\n",
       " 'subsample': 1.0,\n",
       " 'tol': 0.0001,\n",
       " 'validation_fraction': 0.1,\n",
       " 'verbose': 0,\n",
       " 'warm_start': False}"
      ]
     },
     "execution_count": 201,
     "metadata": {},
     "output_type": "execute_result"
    }
   ],
   "source": [
    "gradient_boosting = GradientBoostingRegressor(random_state=42)\n",
    "gradient_boosting.get_params()"
   ]
  },
  {
   "attachments": {},
   "cell_type": "markdown",
   "metadata": {},
   "source": [
    "#### Define the Grid for GBT\n",
    "##### Set up the parameter distribution for the random search"
   ]
  },
  {
   "cell_type": "code",
   "execution_count": 220,
   "metadata": {},
   "outputs": [
    {
     "name": "stdout",
     "output_type": "stream",
     "text": [
      "{'learning_rate': [0.01, 0.1],\n",
      " 'max_depth': [5, 12, 20, 28, 35, 43, 51, 58, 66, 74, None],\n",
      " 'min_samples_leaf': [2, 4, 7],\n",
      " 'min_samples_split': [5, 10, 16],\n",
      " 'n_estimators': [100, 200, 300, 400, 500]}\n"
     ]
    }
   ],
   "source": [
    "# Number of trees in Gradient Boosting Trees \n",
    "n_estimators = [int(x) for x in np.linspace(start = 100, stop = 500, num = 5)]\n",
    "# Maximum number of levels in tree\n",
    "max_depth = [int(x) for x in np.linspace(5, 74, num = 10)]\n",
    "max_depth.append(None)\n",
    "# Minimum number of samples required to split a node\n",
    "min_samples_split = [5, 10, 16]\n",
    "# Minimum number of samples required at each leaf node\n",
    "min_samples_leaf = [2, 4, 7]\n",
    "# Method of selecting samples for training each tree\n",
    "learning_rate = [0.01, 0.1]\n",
    "\n",
    "# Create the random grid\n",
    "random_grid = {'n_estimators': n_estimators,\n",
    "               'max_depth': max_depth,\n",
    "               'min_samples_split': min_samples_split,\n",
    "               'min_samples_leaf': min_samples_leaf,\n",
    "               'learning_rate': learning_rate}\n",
    "pprint(random_grid)"
   ]
  },
  {
   "attachments": {},
   "cell_type": "markdown",
   "metadata": {},
   "source": [
    "#### Create the random search object with desired options for best hyperparameters"
   ]
  },
  {
   "attachments": {},
   "cell_type": "markdown",
   "metadata": {},
   "source": [
    "* 5 fold cross validation\n",
    "* Search across 10 different combinations\n",
    "* Use all available cores\n",
    "* R Squared evaluation metric"
   ]
  },
  {
   "cell_type": "code",
   "execution_count": 222,
   "metadata": {},
   "outputs": [],
   "source": [
    "gbt_random_search = RandomizedSearchCV(\n",
    "    estimator=GradientBoostingRegressor(), # the base model\n",
    "    param_distributions=random_grid, # grid of hyper parameters\n",
    "    n_iter=10,  # Number of parameter combinations to try\n",
    "    cv=5,  # Number of folds for cross-validation\n",
    "    scoring='r2',  # Evaluation metric\n",
    "    verbose=2,  # print some logs while evaluating the different combinations\n",
    "    random_state=42,  # Random seed for reproducibility\n",
    "    n_jobs = 1 # use all cores in the machine to train (parallel)\n",
    ")"
   ]
  },
  {
   "attachments": {},
   "cell_type": "markdown",
   "metadata": {},
   "source": [
    "##### Fit the random search object to the training data"
   ]
  },
  {
   "cell_type": "code",
   "execution_count": 223,
   "metadata": {},
   "outputs": [
    {
     "name": "stdout",
     "output_type": "stream",
     "text": [
      "Fitting 5 folds for each of 10 candidates, totalling 50 fits\n",
      "[CV] END learning_rate=0.01, max_depth=35, min_samples_leaf=7, min_samples_split=5, n_estimators=400; total time=   8.7s\n",
      "[CV] END learning_rate=0.01, max_depth=35, min_samples_leaf=7, min_samples_split=5, n_estimators=400; total time=   8.2s\n",
      "[CV] END learning_rate=0.01, max_depth=35, min_samples_leaf=7, min_samples_split=5, n_estimators=400; total time=   8.0s\n",
      "[CV] END learning_rate=0.01, max_depth=35, min_samples_leaf=7, min_samples_split=5, n_estimators=400; total time=   8.1s\n",
      "[CV] END learning_rate=0.01, max_depth=35, min_samples_leaf=7, min_samples_split=5, n_estimators=400; total time=   8.2s\n",
      "[CV] END learning_rate=0.01, max_depth=58, min_samples_leaf=4, min_samples_split=5, n_estimators=200; total time=   3.7s\n",
      "[CV] END learning_rate=0.01, max_depth=58, min_samples_leaf=4, min_samples_split=5, n_estimators=200; total time=   3.6s\n",
      "[CV] END learning_rate=0.01, max_depth=58, min_samples_leaf=4, min_samples_split=5, n_estimators=200; total time=   3.9s\n",
      "[CV] END learning_rate=0.01, max_depth=58, min_samples_leaf=4, min_samples_split=5, n_estimators=200; total time=   3.9s\n",
      "[CV] END learning_rate=0.01, max_depth=58, min_samples_leaf=4, min_samples_split=5, n_estimators=200; total time=   3.7s\n",
      "[CV] END learning_rate=0.1, max_depth=5, min_samples_leaf=2, min_samples_split=10, n_estimators=200; total time=   1.4s\n",
      "[CV] END learning_rate=0.1, max_depth=5, min_samples_leaf=2, min_samples_split=10, n_estimators=200; total time=   1.3s\n",
      "[CV] END learning_rate=0.1, max_depth=5, min_samples_leaf=2, min_samples_split=10, n_estimators=200; total time=   1.3s\n",
      "[CV] END learning_rate=0.1, max_depth=5, min_samples_leaf=2, min_samples_split=10, n_estimators=200; total time=   1.3s\n",
      "[CV] END learning_rate=0.1, max_depth=5, min_samples_leaf=2, min_samples_split=10, n_estimators=200; total time=   1.3s\n",
      "[CV] END learning_rate=0.01, max_depth=51, min_samples_leaf=7, min_samples_split=10, n_estimators=500; total time=  12.4s\n",
      "[CV] END learning_rate=0.01, max_depth=51, min_samples_leaf=7, min_samples_split=10, n_estimators=500; total time=  11.8s\n",
      "[CV] END learning_rate=0.01, max_depth=51, min_samples_leaf=7, min_samples_split=10, n_estimators=500; total time=  11.5s\n",
      "[CV] END learning_rate=0.01, max_depth=51, min_samples_leaf=7, min_samples_split=10, n_estimators=500; total time=  11.2s\n",
      "[CV] END learning_rate=0.01, max_depth=51, min_samples_leaf=7, min_samples_split=10, n_estimators=500; total time=  12.0s\n",
      "[CV] END learning_rate=0.01, max_depth=12, min_samples_leaf=7, min_samples_split=16, n_estimators=400; total time=   6.4s\n",
      "[CV] END learning_rate=0.01, max_depth=12, min_samples_leaf=7, min_samples_split=16, n_estimators=400; total time=   6.2s\n",
      "[CV] END learning_rate=0.01, max_depth=12, min_samples_leaf=7, min_samples_split=16, n_estimators=400; total time=   5.6s\n",
      "[CV] END learning_rate=0.01, max_depth=12, min_samples_leaf=7, min_samples_split=16, n_estimators=400; total time=   5.4s\n",
      "[CV] END learning_rate=0.01, max_depth=12, min_samples_leaf=7, min_samples_split=16, n_estimators=400; total time=   5.3s\n",
      "[CV] END learning_rate=0.1, max_depth=5, min_samples_leaf=7, min_samples_split=16, n_estimators=100; total time=   0.6s\n",
      "[CV] END learning_rate=0.1, max_depth=5, min_samples_leaf=7, min_samples_split=16, n_estimators=100; total time=   0.6s\n",
      "[CV] END learning_rate=0.1, max_depth=5, min_samples_leaf=7, min_samples_split=16, n_estimators=100; total time=   0.6s\n",
      "[CV] END learning_rate=0.1, max_depth=5, min_samples_leaf=7, min_samples_split=16, n_estimators=100; total time=   0.6s\n",
      "[CV] END learning_rate=0.1, max_depth=5, min_samples_leaf=7, min_samples_split=16, n_estimators=100; total time=   0.6s\n",
      "[CV] END learning_rate=0.01, max_depth=51, min_samples_leaf=2, min_samples_split=16, n_estimators=100; total time=   1.6s\n",
      "[CV] END learning_rate=0.01, max_depth=51, min_samples_leaf=2, min_samples_split=16, n_estimators=100; total time=   1.6s\n",
      "[CV] END learning_rate=0.01, max_depth=51, min_samples_leaf=2, min_samples_split=16, n_estimators=100; total time=   1.6s\n",
      "[CV] END learning_rate=0.01, max_depth=51, min_samples_leaf=2, min_samples_split=16, n_estimators=100; total time=   1.6s\n",
      "[CV] END learning_rate=0.01, max_depth=51, min_samples_leaf=2, min_samples_split=16, n_estimators=100; total time=   1.6s\n",
      "[CV] END learning_rate=0.01, max_depth=20, min_samples_leaf=4, min_samples_split=5, n_estimators=300; total time=   5.5s\n",
      "[CV] END learning_rate=0.01, max_depth=20, min_samples_leaf=4, min_samples_split=5, n_estimators=300; total time=   5.4s\n",
      "[CV] END learning_rate=0.01, max_depth=20, min_samples_leaf=4, min_samples_split=5, n_estimators=300; total time=   5.3s\n",
      "[CV] END learning_rate=0.01, max_depth=20, min_samples_leaf=4, min_samples_split=5, n_estimators=300; total time=   5.4s\n",
      "[CV] END learning_rate=0.01, max_depth=20, min_samples_leaf=4, min_samples_split=5, n_estimators=300; total time=   5.4s\n",
      "[CV] END learning_rate=0.01, max_depth=12, min_samples_leaf=2, min_samples_split=16, n_estimators=500; total time=   6.8s\n",
      "[CV] END learning_rate=0.01, max_depth=12, min_samples_leaf=2, min_samples_split=16, n_estimators=500; total time=   7.2s\n",
      "[CV] END learning_rate=0.01, max_depth=12, min_samples_leaf=2, min_samples_split=16, n_estimators=500; total time=   7.1s\n",
      "[CV] END learning_rate=0.01, max_depth=12, min_samples_leaf=2, min_samples_split=16, n_estimators=500; total time=   7.0s\n",
      "[CV] END learning_rate=0.01, max_depth=12, min_samples_leaf=2, min_samples_split=16, n_estimators=500; total time=   6.8s\n",
      "[CV] END learning_rate=0.1, max_depth=5, min_samples_leaf=2, min_samples_split=16, n_estimators=200; total time=   1.2s\n",
      "[CV] END learning_rate=0.1, max_depth=5, min_samples_leaf=2, min_samples_split=16, n_estimators=200; total time=   1.3s\n",
      "[CV] END learning_rate=0.1, max_depth=5, min_samples_leaf=2, min_samples_split=16, n_estimators=200; total time=   1.3s\n",
      "[CV] END learning_rate=0.1, max_depth=5, min_samples_leaf=2, min_samples_split=16, n_estimators=200; total time=   1.2s\n",
      "[CV] END learning_rate=0.1, max_depth=5, min_samples_leaf=2, min_samples_split=16, n_estimators=200; total time=   1.2s\n"
     ]
    },
    {
     "data": {
      "text/html": [
       "<style>#sk-container-id-17 {color: black;background-color: white;}#sk-container-id-17 pre{padding: 0;}#sk-container-id-17 div.sk-toggleable {background-color: white;}#sk-container-id-17 label.sk-toggleable__label {cursor: pointer;display: block;width: 100%;margin-bottom: 0;padding: 0.3em;box-sizing: border-box;text-align: center;}#sk-container-id-17 label.sk-toggleable__label-arrow:before {content: \"▸\";float: left;margin-right: 0.25em;color: #696969;}#sk-container-id-17 label.sk-toggleable__label-arrow:hover:before {color: black;}#sk-container-id-17 div.sk-estimator:hover label.sk-toggleable__label-arrow:before {color: black;}#sk-container-id-17 div.sk-toggleable__content {max-height: 0;max-width: 0;overflow: hidden;text-align: left;background-color: #f0f8ff;}#sk-container-id-17 div.sk-toggleable__content pre {margin: 0.2em;color: black;border-radius: 0.25em;background-color: #f0f8ff;}#sk-container-id-17 input.sk-toggleable__control:checked~div.sk-toggleable__content {max-height: 200px;max-width: 100%;overflow: auto;}#sk-container-id-17 input.sk-toggleable__control:checked~label.sk-toggleable__label-arrow:before {content: \"▾\";}#sk-container-id-17 div.sk-estimator input.sk-toggleable__control:checked~label.sk-toggleable__label {background-color: #d4ebff;}#sk-container-id-17 div.sk-label input.sk-toggleable__control:checked~label.sk-toggleable__label {background-color: #d4ebff;}#sk-container-id-17 input.sk-hidden--visually {border: 0;clip: rect(1px 1px 1px 1px);clip: rect(1px, 1px, 1px, 1px);height: 1px;margin: -1px;overflow: hidden;padding: 0;position: absolute;width: 1px;}#sk-container-id-17 div.sk-estimator {font-family: monospace;background-color: #f0f8ff;border: 1px dotted black;border-radius: 0.25em;box-sizing: border-box;margin-bottom: 0.5em;}#sk-container-id-17 div.sk-estimator:hover {background-color: #d4ebff;}#sk-container-id-17 div.sk-parallel-item::after {content: \"\";width: 100%;border-bottom: 1px solid gray;flex-grow: 1;}#sk-container-id-17 div.sk-label:hover label.sk-toggleable__label {background-color: #d4ebff;}#sk-container-id-17 div.sk-serial::before {content: \"\";position: absolute;border-left: 1px solid gray;box-sizing: border-box;top: 0;bottom: 0;left: 50%;z-index: 0;}#sk-container-id-17 div.sk-serial {display: flex;flex-direction: column;align-items: center;background-color: white;padding-right: 0.2em;padding-left: 0.2em;position: relative;}#sk-container-id-17 div.sk-item {position: relative;z-index: 1;}#sk-container-id-17 div.sk-parallel {display: flex;align-items: stretch;justify-content: center;background-color: white;position: relative;}#sk-container-id-17 div.sk-item::before, #sk-container-id-17 div.sk-parallel-item::before {content: \"\";position: absolute;border-left: 1px solid gray;box-sizing: border-box;top: 0;bottom: 0;left: 50%;z-index: -1;}#sk-container-id-17 div.sk-parallel-item {display: flex;flex-direction: column;z-index: 1;position: relative;background-color: white;}#sk-container-id-17 div.sk-parallel-item:first-child::after {align-self: flex-end;width: 50%;}#sk-container-id-17 div.sk-parallel-item:last-child::after {align-self: flex-start;width: 50%;}#sk-container-id-17 div.sk-parallel-item:only-child::after {width: 0;}#sk-container-id-17 div.sk-dashed-wrapped {border: 1px dashed gray;margin: 0 0.4em 0.5em 0.4em;box-sizing: border-box;padding-bottom: 0.4em;background-color: white;}#sk-container-id-17 div.sk-label label {font-family: monospace;font-weight: bold;display: inline-block;line-height: 1.2em;}#sk-container-id-17 div.sk-label-container {text-align: center;}#sk-container-id-17 div.sk-container {/* jupyter's `normalize.less` sets `[hidden] { display: none; }` but bootstrap.min.css set `[hidden] { display: none !important; }` so we also need the `!important` here to be able to override the default hidden behavior on the sphinx rendered scikit-learn.org. See: https://github.com/scikit-learn/scikit-learn/issues/21755 */display: inline-block !important;position: relative;}#sk-container-id-17 div.sk-text-repr-fallback {display: none;}</style><div id=\"sk-container-id-17\" class=\"sk-top-container\"><div class=\"sk-text-repr-fallback\"><pre>RandomizedSearchCV(cv=5, estimator=GradientBoostingRegressor(), n_jobs=1,\n",
       "                   param_distributions={&#x27;learning_rate&#x27;: [0.01, 0.1],\n",
       "                                        &#x27;max_depth&#x27;: [5, 12, 20, 28, 35, 43, 51,\n",
       "                                                      58, 66, 74, None],\n",
       "                                        &#x27;min_samples_leaf&#x27;: [2, 4, 7],\n",
       "                                        &#x27;min_samples_split&#x27;: [5, 10, 16],\n",
       "                                        &#x27;n_estimators&#x27;: [100, 200, 300, 400,\n",
       "                                                         500]},\n",
       "                   random_state=42, scoring=&#x27;r2&#x27;, verbose=2)</pre><b>In a Jupyter environment, please rerun this cell to show the HTML representation or trust the notebook. <br />On GitHub, the HTML representation is unable to render, please try loading this page with nbviewer.org.</b></div><div class=\"sk-container\" hidden><div class=\"sk-item sk-dashed-wrapped\"><div class=\"sk-label-container\"><div class=\"sk-label sk-toggleable\"><input class=\"sk-toggleable__control sk-hidden--visually\" id=\"sk-estimator-id-63\" type=\"checkbox\" ><label for=\"sk-estimator-id-63\" class=\"sk-toggleable__label sk-toggleable__label-arrow\">RandomizedSearchCV</label><div class=\"sk-toggleable__content\"><pre>RandomizedSearchCV(cv=5, estimator=GradientBoostingRegressor(), n_jobs=1,\n",
       "                   param_distributions={&#x27;learning_rate&#x27;: [0.01, 0.1],\n",
       "                                        &#x27;max_depth&#x27;: [5, 12, 20, 28, 35, 43, 51,\n",
       "                                                      58, 66, 74, None],\n",
       "                                        &#x27;min_samples_leaf&#x27;: [2, 4, 7],\n",
       "                                        &#x27;min_samples_split&#x27;: [5, 10, 16],\n",
       "                                        &#x27;n_estimators&#x27;: [100, 200, 300, 400,\n",
       "                                                         500]},\n",
       "                   random_state=42, scoring=&#x27;r2&#x27;, verbose=2)</pre></div></div></div><div class=\"sk-parallel\"><div class=\"sk-parallel-item\"><div class=\"sk-item\"><div class=\"sk-label-container\"><div class=\"sk-label sk-toggleable\"><input class=\"sk-toggleable__control sk-hidden--visually\" id=\"sk-estimator-id-64\" type=\"checkbox\" ><label for=\"sk-estimator-id-64\" class=\"sk-toggleable__label sk-toggleable__label-arrow\">estimator: GradientBoostingRegressor</label><div class=\"sk-toggleable__content\"><pre>GradientBoostingRegressor()</pre></div></div></div><div class=\"sk-serial\"><div class=\"sk-item\"><div class=\"sk-estimator sk-toggleable\"><input class=\"sk-toggleable__control sk-hidden--visually\" id=\"sk-estimator-id-65\" type=\"checkbox\" ><label for=\"sk-estimator-id-65\" class=\"sk-toggleable__label sk-toggleable__label-arrow\">GradientBoostingRegressor</label><div class=\"sk-toggleable__content\"><pre>GradientBoostingRegressor()</pre></div></div></div></div></div></div></div></div></div></div>"
      ],
      "text/plain": [
       "RandomizedSearchCV(cv=5, estimator=GradientBoostingRegressor(), n_jobs=1,\n",
       "                   param_distributions={'learning_rate': [0.01, 0.1],\n",
       "                                        'max_depth': [5, 12, 20, 28, 35, 43, 51,\n",
       "                                                      58, 66, 74, None],\n",
       "                                        'min_samples_leaf': [2, 4, 7],\n",
       "                                        'min_samples_split': [5, 10, 16],\n",
       "                                        'n_estimators': [100, 200, 300, 400,\n",
       "                                                         500]},\n",
       "                   random_state=42, scoring='r2', verbose=2)"
      ]
     },
     "execution_count": 223,
     "metadata": {},
     "output_type": "execute_result"
    }
   ],
   "source": [
    "gbt_random_search.fit(X_train, y_train)"
   ]
  },
  {
   "cell_type": "code",
   "execution_count": 225,
   "metadata": {},
   "outputs": [
    {
     "data": {
      "text/plain": [
       "{'n_estimators': 100,\n",
       " 'min_samples_split': 16,\n",
       " 'min_samples_leaf': 7,\n",
       " 'max_depth': 5,\n",
       " 'learning_rate': 0.1}"
      ]
     },
     "execution_count": 225,
     "metadata": {},
     "output_type": "execute_result"
    }
   ],
   "source": [
    "# Get the best hyperparameters from the search\n",
    "gbt_best_params = gbt_random_search.best_params_\n",
    "gbt_best_params"
   ]
  },
  {
   "cell_type": "code",
   "execution_count": 226,
   "metadata": {},
   "outputs": [
    {
     "data": {
      "text/plain": [
       "0.3415376529703741"
      ]
     },
     "execution_count": 226,
     "metadata": {},
     "output_type": "execute_result"
    }
   ],
   "source": [
    "# Get the best score from the random search\n",
    "gbt_random_search.best_score_"
   ]
  },
  {
   "cell_type": "code",
   "execution_count": 289,
   "metadata": {},
   "outputs": [],
   "source": [
    "cross_validation_scores = {}"
   ]
  },
  {
   "cell_type": "code",
   "execution_count": 290,
   "metadata": {},
   "outputs": [],
   "source": [
    "cross_validation_scores['Best score for RandomSearch on GradientBoostingRegressor() model = '] = gbt_random_search.best_score_"
   ]
  },
  {
   "attachments": {},
   "cell_type": "markdown",
   "metadata": {},
   "source": [
    "#### Get the model with the best hyper parameters and observe its score"
   ]
  },
  {
   "cell_type": "code",
   "execution_count": 227,
   "metadata": {},
   "outputs": [
    {
     "data": {
      "text/html": [
       "<style>#sk-container-id-18 {color: black;background-color: white;}#sk-container-id-18 pre{padding: 0;}#sk-container-id-18 div.sk-toggleable {background-color: white;}#sk-container-id-18 label.sk-toggleable__label {cursor: pointer;display: block;width: 100%;margin-bottom: 0;padding: 0.3em;box-sizing: border-box;text-align: center;}#sk-container-id-18 label.sk-toggleable__label-arrow:before {content: \"▸\";float: left;margin-right: 0.25em;color: #696969;}#sk-container-id-18 label.sk-toggleable__label-arrow:hover:before {color: black;}#sk-container-id-18 div.sk-estimator:hover label.sk-toggleable__label-arrow:before {color: black;}#sk-container-id-18 div.sk-toggleable__content {max-height: 0;max-width: 0;overflow: hidden;text-align: left;background-color: #f0f8ff;}#sk-container-id-18 div.sk-toggleable__content pre {margin: 0.2em;color: black;border-radius: 0.25em;background-color: #f0f8ff;}#sk-container-id-18 input.sk-toggleable__control:checked~div.sk-toggleable__content {max-height: 200px;max-width: 100%;overflow: auto;}#sk-container-id-18 input.sk-toggleable__control:checked~label.sk-toggleable__label-arrow:before {content: \"▾\";}#sk-container-id-18 div.sk-estimator input.sk-toggleable__control:checked~label.sk-toggleable__label {background-color: #d4ebff;}#sk-container-id-18 div.sk-label input.sk-toggleable__control:checked~label.sk-toggleable__label {background-color: #d4ebff;}#sk-container-id-18 input.sk-hidden--visually {border: 0;clip: rect(1px 1px 1px 1px);clip: rect(1px, 1px, 1px, 1px);height: 1px;margin: -1px;overflow: hidden;padding: 0;position: absolute;width: 1px;}#sk-container-id-18 div.sk-estimator {font-family: monospace;background-color: #f0f8ff;border: 1px dotted black;border-radius: 0.25em;box-sizing: border-box;margin-bottom: 0.5em;}#sk-container-id-18 div.sk-estimator:hover {background-color: #d4ebff;}#sk-container-id-18 div.sk-parallel-item::after {content: \"\";width: 100%;border-bottom: 1px solid gray;flex-grow: 1;}#sk-container-id-18 div.sk-label:hover label.sk-toggleable__label {background-color: #d4ebff;}#sk-container-id-18 div.sk-serial::before {content: \"\";position: absolute;border-left: 1px solid gray;box-sizing: border-box;top: 0;bottom: 0;left: 50%;z-index: 0;}#sk-container-id-18 div.sk-serial {display: flex;flex-direction: column;align-items: center;background-color: white;padding-right: 0.2em;padding-left: 0.2em;position: relative;}#sk-container-id-18 div.sk-item {position: relative;z-index: 1;}#sk-container-id-18 div.sk-parallel {display: flex;align-items: stretch;justify-content: center;background-color: white;position: relative;}#sk-container-id-18 div.sk-item::before, #sk-container-id-18 div.sk-parallel-item::before {content: \"\";position: absolute;border-left: 1px solid gray;box-sizing: border-box;top: 0;bottom: 0;left: 50%;z-index: -1;}#sk-container-id-18 div.sk-parallel-item {display: flex;flex-direction: column;z-index: 1;position: relative;background-color: white;}#sk-container-id-18 div.sk-parallel-item:first-child::after {align-self: flex-end;width: 50%;}#sk-container-id-18 div.sk-parallel-item:last-child::after {align-self: flex-start;width: 50%;}#sk-container-id-18 div.sk-parallel-item:only-child::after {width: 0;}#sk-container-id-18 div.sk-dashed-wrapped {border: 1px dashed gray;margin: 0 0.4em 0.5em 0.4em;box-sizing: border-box;padding-bottom: 0.4em;background-color: white;}#sk-container-id-18 div.sk-label label {font-family: monospace;font-weight: bold;display: inline-block;line-height: 1.2em;}#sk-container-id-18 div.sk-label-container {text-align: center;}#sk-container-id-18 div.sk-container {/* jupyter's `normalize.less` sets `[hidden] { display: none; }` but bootstrap.min.css set `[hidden] { display: none !important; }` so we also need the `!important` here to be able to override the default hidden behavior on the sphinx rendered scikit-learn.org. See: https://github.com/scikit-learn/scikit-learn/issues/21755 */display: inline-block !important;position: relative;}#sk-container-id-18 div.sk-text-repr-fallback {display: none;}</style><div id=\"sk-container-id-18\" class=\"sk-top-container\"><div class=\"sk-text-repr-fallback\"><pre>GradientBoostingRegressor(max_depth=5, min_samples_leaf=7, min_samples_split=16)</pre><b>In a Jupyter environment, please rerun this cell to show the HTML representation or trust the notebook. <br />On GitHub, the HTML representation is unable to render, please try loading this page with nbviewer.org.</b></div><div class=\"sk-container\" hidden><div class=\"sk-item\"><div class=\"sk-estimator sk-toggleable\"><input class=\"sk-toggleable__control sk-hidden--visually\" id=\"sk-estimator-id-66\" type=\"checkbox\" checked><label for=\"sk-estimator-id-66\" class=\"sk-toggleable__label sk-toggleable__label-arrow\">GradientBoostingRegressor</label><div class=\"sk-toggleable__content\"><pre>GradientBoostingRegressor(max_depth=5, min_samples_leaf=7, min_samples_split=16)</pre></div></div></div></div></div>"
      ],
      "text/plain": [
       "GradientBoostingRegressor(max_depth=5, min_samples_leaf=7, min_samples_split=16)"
      ]
     },
     "execution_count": 227,
     "metadata": {},
     "output_type": "execute_result"
    }
   ],
   "source": [
    "best_gbt_model = gbt_random_search.best_estimator_\n",
    "best_gbt_model"
   ]
  },
  {
   "cell_type": "code",
   "execution_count": 228,
   "metadata": {},
   "outputs": [
    {
     "data": {
      "text/plain": [
       "0.31315937181750797"
      ]
     },
     "execution_count": 228,
     "metadata": {},
     "output_type": "execute_result"
    }
   ],
   "source": [
    "best_gbt_model.score(X_test, y_test)"
   ]
  },
  {
   "attachments": {},
   "cell_type": "markdown",
   "metadata": {},
   "source": [
    "* gbt_random_search scored higher than best_gbt_model"
   ]
  },
  {
   "cell_type": "code",
   "execution_count": 292,
   "metadata": {},
   "outputs": [],
   "source": [
    "cross_validation_scores['test score for {best_estimator_} resulted from RandomSearch on GradientBoostingRegressor() model = '] = best_gbt_model.score(X_test, y_test)"
   ]
  },
  {
   "cell_type": "code",
   "execution_count": 293,
   "metadata": {},
   "outputs": [
    {
     "data": {
      "text/plain": [
       "{'Best score for RandomSearch on GradientBoostingRegressor() model = ': 0.30951744511893564,\n",
       " 'test score for {best_estimator_} resulted from RandomSearch on GradientBoostingRegressor() model = ': 0.31315937181750797}"
      ]
     },
     "execution_count": 293,
     "metadata": {},
     "output_type": "execute_result"
    }
   ],
   "source": [
    "cross_validation_scores"
   ]
  },
  {
   "attachments": {},
   "cell_type": "markdown",
   "metadata": {},
   "source": [
    "#### Use the best hyperparameters to create a new model to make predictions"
   ]
  },
  {
   "cell_type": "code",
   "execution_count": 251,
   "metadata": {},
   "outputs": [],
   "source": [
    "best_model_gbt = GradientBoostingRegressor(**gbt_best_params)"
   ]
  },
  {
   "attachments": {},
   "cell_type": "markdown",
   "metadata": {},
   "source": [
    "#### Create model pipeline to utilize it in microservice for prediction"
   ]
  },
  {
   "cell_type": "code",
   "execution_count": 252,
   "metadata": {},
   "outputs": [],
   "source": [
    "pipeline = Pipeline(\n",
    "    steps = [\n",
    "        (\"transformer\", transformer),\n",
    "        (\"model\", best_model_gbt)\n",
    "    ]\n",
    ")"
   ]
  },
  {
   "cell_type": "code",
   "execution_count": 239,
   "metadata": {},
   "outputs": [
    {
     "name": "stderr",
     "output_type": "stream",
     "text": [
      "c:\\Users\\DELL\\Study\\ML2 2022\\ML2 Assignment1 Car Price Prediction\\car-price-prediction\\venv_car_price_pred\\lib\\site-packages\\category_encoders\\one_hot.py:145: FutureWarning: iteritems is deprecated and will be removed in a future version. Use .items instead.\n",
      "  for cat_name, class_ in values.iteritems():\n",
      "c:\\Users\\DELL\\Study\\ML2 2022\\ML2 Assignment1 Car Price Prediction\\car-price-prediction\\venv_car_price_pred\\lib\\site-packages\\category_encoders\\one_hot.py:145: FutureWarning: iteritems is deprecated and will be removed in a future version. Use .items instead.\n",
      "  for cat_name, class_ in values.iteritems():\n",
      "c:\\Users\\DELL\\Study\\ML2 2022\\ML2 Assignment1 Car Price Prediction\\car-price-prediction\\venv_car_price_pred\\lib\\site-packages\\category_encoders\\one_hot.py:145: FutureWarning: iteritems is deprecated and will be removed in a future version. Use .items instead.\n",
      "  for cat_name, class_ in values.iteritems():\n",
      "c:\\Users\\DELL\\Study\\ML2 2022\\ML2 Assignment1 Car Price Prediction\\car-price-prediction\\venv_car_price_pred\\lib\\site-packages\\category_encoders\\one_hot.py:145: FutureWarning: iteritems is deprecated and will be removed in a future version. Use .items instead.\n",
      "  for cat_name, class_ in values.iteritems():\n",
      "c:\\Users\\DELL\\Study\\ML2 2022\\ML2 Assignment1 Car Price Prediction\\car-price-prediction\\venv_car_price_pred\\lib\\site-packages\\category_encoders\\one_hot.py:145: FutureWarning: iteritems is deprecated and will be removed in a future version. Use .items instead.\n",
      "  for cat_name, class_ in values.iteritems():\n",
      "c:\\Users\\DELL\\Study\\ML2 2022\\ML2 Assignment1 Car Price Prediction\\car-price-prediction\\venv_car_price_pred\\lib\\site-packages\\category_encoders\\one_hot.py:145: FutureWarning: iteritems is deprecated and will be removed in a future version. Use .items instead.\n",
      "  for cat_name, class_ in values.iteritems():\n",
      "c:\\Users\\DELL\\Study\\ML2 2022\\ML2 Assignment1 Car Price Prediction\\car-price-prediction\\venv_car_price_pred\\lib\\site-packages\\category_encoders\\one_hot.py:145: FutureWarning: iteritems is deprecated and will be removed in a future version. Use .items instead.\n",
      "  for cat_name, class_ in values.iteritems():\n",
      "c:\\Users\\DELL\\Study\\ML2 2022\\ML2 Assignment1 Car Price Prediction\\car-price-prediction\\venv_car_price_pred\\lib\\site-packages\\category_encoders\\one_hot.py:145: FutureWarning: iteritems is deprecated and will be removed in a future version. Use .items instead.\n",
      "  for cat_name, class_ in values.iteritems():\n"
     ]
    },
    {
     "data": {
      "text/html": [
       "<style>#sk-container-id-22 {color: black;background-color: white;}#sk-container-id-22 pre{padding: 0;}#sk-container-id-22 div.sk-toggleable {background-color: white;}#sk-container-id-22 label.sk-toggleable__label {cursor: pointer;display: block;width: 100%;margin-bottom: 0;padding: 0.3em;box-sizing: border-box;text-align: center;}#sk-container-id-22 label.sk-toggleable__label-arrow:before {content: \"▸\";float: left;margin-right: 0.25em;color: #696969;}#sk-container-id-22 label.sk-toggleable__label-arrow:hover:before {color: black;}#sk-container-id-22 div.sk-estimator:hover label.sk-toggleable__label-arrow:before {color: black;}#sk-container-id-22 div.sk-toggleable__content {max-height: 0;max-width: 0;overflow: hidden;text-align: left;background-color: #f0f8ff;}#sk-container-id-22 div.sk-toggleable__content pre {margin: 0.2em;color: black;border-radius: 0.25em;background-color: #f0f8ff;}#sk-container-id-22 input.sk-toggleable__control:checked~div.sk-toggleable__content {max-height: 200px;max-width: 100%;overflow: auto;}#sk-container-id-22 input.sk-toggleable__control:checked~label.sk-toggleable__label-arrow:before {content: \"▾\";}#sk-container-id-22 div.sk-estimator input.sk-toggleable__control:checked~label.sk-toggleable__label {background-color: #d4ebff;}#sk-container-id-22 div.sk-label input.sk-toggleable__control:checked~label.sk-toggleable__label {background-color: #d4ebff;}#sk-container-id-22 input.sk-hidden--visually {border: 0;clip: rect(1px 1px 1px 1px);clip: rect(1px, 1px, 1px, 1px);height: 1px;margin: -1px;overflow: hidden;padding: 0;position: absolute;width: 1px;}#sk-container-id-22 div.sk-estimator {font-family: monospace;background-color: #f0f8ff;border: 1px dotted black;border-radius: 0.25em;box-sizing: border-box;margin-bottom: 0.5em;}#sk-container-id-22 div.sk-estimator:hover {background-color: #d4ebff;}#sk-container-id-22 div.sk-parallel-item::after {content: \"\";width: 100%;border-bottom: 1px solid gray;flex-grow: 1;}#sk-container-id-22 div.sk-label:hover label.sk-toggleable__label {background-color: #d4ebff;}#sk-container-id-22 div.sk-serial::before {content: \"\";position: absolute;border-left: 1px solid gray;box-sizing: border-box;top: 0;bottom: 0;left: 50%;z-index: 0;}#sk-container-id-22 div.sk-serial {display: flex;flex-direction: column;align-items: center;background-color: white;padding-right: 0.2em;padding-left: 0.2em;position: relative;}#sk-container-id-22 div.sk-item {position: relative;z-index: 1;}#sk-container-id-22 div.sk-parallel {display: flex;align-items: stretch;justify-content: center;background-color: white;position: relative;}#sk-container-id-22 div.sk-item::before, #sk-container-id-22 div.sk-parallel-item::before {content: \"\";position: absolute;border-left: 1px solid gray;box-sizing: border-box;top: 0;bottom: 0;left: 50%;z-index: -1;}#sk-container-id-22 div.sk-parallel-item {display: flex;flex-direction: column;z-index: 1;position: relative;background-color: white;}#sk-container-id-22 div.sk-parallel-item:first-child::after {align-self: flex-end;width: 50%;}#sk-container-id-22 div.sk-parallel-item:last-child::after {align-self: flex-start;width: 50%;}#sk-container-id-22 div.sk-parallel-item:only-child::after {width: 0;}#sk-container-id-22 div.sk-dashed-wrapped {border: 1px dashed gray;margin: 0 0.4em 0.5em 0.4em;box-sizing: border-box;padding-bottom: 0.4em;background-color: white;}#sk-container-id-22 div.sk-label label {font-family: monospace;font-weight: bold;display: inline-block;line-height: 1.2em;}#sk-container-id-22 div.sk-label-container {text-align: center;}#sk-container-id-22 div.sk-container {/* jupyter's `normalize.less` sets `[hidden] { display: none; }` but bootstrap.min.css set `[hidden] { display: none !important; }` so we also need the `!important` here to be able to override the default hidden behavior on the sphinx rendered scikit-learn.org. See: https://github.com/scikit-learn/scikit-learn/issues/21755 */display: inline-block !important;position: relative;}#sk-container-id-22 div.sk-text-repr-fallback {display: none;}</style><div id=\"sk-container-id-22\" class=\"sk-top-container\"><div class=\"sk-text-repr-fallback\"><pre>Pipeline(steps=[(&#x27;transformer&#x27;,\n",
       "                 ColumnTransformer(remainder=&#x27;passthrough&#x27;,\n",
       "                                   transformers=[(&#x27;categorical&#x27;,\n",
       "                                                  OneHotEncoder(),\n",
       "                                                  [&#x27;car_color&#x27;, &#x27;fuel_type&#x27;,\n",
       "                                                   &#x27;car_type&#x27;, &#x27;car_license&#x27;,\n",
       "                                                   &#x27;gear_type&#x27;, &#x27;windows&#x27;,\n",
       "                                                   &#x27;payment_method&#x27;,\n",
       "                                                   &#x27;car_state&#x27;]),\n",
       "                                                 (&#x27;numerical&#x27;,\n",
       "                                                  PowerTransformer(),\n",
       "                                                  [&#x27;motor_power&#x27;, &#x27;speedometer&#x27;,\n",
       "                                                   &#x27;passengers_number&#x27;,\n",
       "                                                   &#x27;ex_owners&#x27;])])),\n",
       "                (&#x27;model&#x27;,\n",
       "                 GradientBoostingRegressor(max_depth=5, min_samples_leaf=7,\n",
       "                                           min_samples_split=16))])</pre><b>In a Jupyter environment, please rerun this cell to show the HTML representation or trust the notebook. <br />On GitHub, the HTML representation is unable to render, please try loading this page with nbviewer.org.</b></div><div class=\"sk-container\" hidden><div class=\"sk-item sk-dashed-wrapped\"><div class=\"sk-label-container\"><div class=\"sk-label sk-toggleable\"><input class=\"sk-toggleable__control sk-hidden--visually\" id=\"sk-estimator-id-80\" type=\"checkbox\" ><label for=\"sk-estimator-id-80\" class=\"sk-toggleable__label sk-toggleable__label-arrow\">Pipeline</label><div class=\"sk-toggleable__content\"><pre>Pipeline(steps=[(&#x27;transformer&#x27;,\n",
       "                 ColumnTransformer(remainder=&#x27;passthrough&#x27;,\n",
       "                                   transformers=[(&#x27;categorical&#x27;,\n",
       "                                                  OneHotEncoder(),\n",
       "                                                  [&#x27;car_color&#x27;, &#x27;fuel_type&#x27;,\n",
       "                                                   &#x27;car_type&#x27;, &#x27;car_license&#x27;,\n",
       "                                                   &#x27;gear_type&#x27;, &#x27;windows&#x27;,\n",
       "                                                   &#x27;payment_method&#x27;,\n",
       "                                                   &#x27;car_state&#x27;]),\n",
       "                                                 (&#x27;numerical&#x27;,\n",
       "                                                  PowerTransformer(),\n",
       "                                                  [&#x27;motor_power&#x27;, &#x27;speedometer&#x27;,\n",
       "                                                   &#x27;passengers_number&#x27;,\n",
       "                                                   &#x27;ex_owners&#x27;])])),\n",
       "                (&#x27;model&#x27;,\n",
       "                 GradientBoostingRegressor(max_depth=5, min_samples_leaf=7,\n",
       "                                           min_samples_split=16))])</pre></div></div></div><div class=\"sk-serial\"><div class=\"sk-item sk-dashed-wrapped\"><div class=\"sk-label-container\"><div class=\"sk-label sk-toggleable\"><input class=\"sk-toggleable__control sk-hidden--visually\" id=\"sk-estimator-id-81\" type=\"checkbox\" ><label for=\"sk-estimator-id-81\" class=\"sk-toggleable__label sk-toggleable__label-arrow\">transformer: ColumnTransformer</label><div class=\"sk-toggleable__content\"><pre>ColumnTransformer(remainder=&#x27;passthrough&#x27;,\n",
       "                  transformers=[(&#x27;categorical&#x27;, OneHotEncoder(),\n",
       "                                 [&#x27;car_color&#x27;, &#x27;fuel_type&#x27;, &#x27;car_type&#x27;,\n",
       "                                  &#x27;car_license&#x27;, &#x27;gear_type&#x27;, &#x27;windows&#x27;,\n",
       "                                  &#x27;payment_method&#x27;, &#x27;car_state&#x27;]),\n",
       "                                (&#x27;numerical&#x27;, PowerTransformer(),\n",
       "                                 [&#x27;motor_power&#x27;, &#x27;speedometer&#x27;,\n",
       "                                  &#x27;passengers_number&#x27;, &#x27;ex_owners&#x27;])])</pre></div></div></div><div class=\"sk-parallel\"><div class=\"sk-parallel-item\"><div class=\"sk-item\"><div class=\"sk-label-container\"><div class=\"sk-label sk-toggleable\"><input class=\"sk-toggleable__control sk-hidden--visually\" id=\"sk-estimator-id-82\" type=\"checkbox\" ><label for=\"sk-estimator-id-82\" class=\"sk-toggleable__label sk-toggleable__label-arrow\">categorical</label><div class=\"sk-toggleable__content\"><pre>[&#x27;car_color&#x27;, &#x27;fuel_type&#x27;, &#x27;car_type&#x27;, &#x27;car_license&#x27;, &#x27;gear_type&#x27;, &#x27;windows&#x27;, &#x27;payment_method&#x27;, &#x27;car_state&#x27;]</pre></div></div></div><div class=\"sk-serial\"><div class=\"sk-item\"><div class=\"sk-estimator sk-toggleable\"><input class=\"sk-toggleable__control sk-hidden--visually\" id=\"sk-estimator-id-83\" type=\"checkbox\" ><label for=\"sk-estimator-id-83\" class=\"sk-toggleable__label sk-toggleable__label-arrow\">OneHotEncoder</label><div class=\"sk-toggleable__content\"><pre>OneHotEncoder()</pre></div></div></div></div></div></div><div class=\"sk-parallel-item\"><div class=\"sk-item\"><div class=\"sk-label-container\"><div class=\"sk-label sk-toggleable\"><input class=\"sk-toggleable__control sk-hidden--visually\" id=\"sk-estimator-id-84\" type=\"checkbox\" ><label for=\"sk-estimator-id-84\" class=\"sk-toggleable__label sk-toggleable__label-arrow\">numerical</label><div class=\"sk-toggleable__content\"><pre>[&#x27;motor_power&#x27;, &#x27;speedometer&#x27;, &#x27;passengers_number&#x27;, &#x27;ex_owners&#x27;]</pre></div></div></div><div class=\"sk-serial\"><div class=\"sk-item\"><div class=\"sk-estimator sk-toggleable\"><input class=\"sk-toggleable__control sk-hidden--visually\" id=\"sk-estimator-id-85\" type=\"checkbox\" ><label for=\"sk-estimator-id-85\" class=\"sk-toggleable__label sk-toggleable__label-arrow\">PowerTransformer</label><div class=\"sk-toggleable__content\"><pre>PowerTransformer()</pre></div></div></div></div></div></div><div class=\"sk-parallel-item\"><div class=\"sk-item\"><div class=\"sk-label-container\"><div class=\"sk-label sk-toggleable\"><input class=\"sk-toggleable__control sk-hidden--visually\" id=\"sk-estimator-id-86\" type=\"checkbox\" ><label for=\"sk-estimator-id-86\" class=\"sk-toggleable__label sk-toggleable__label-arrow\">remainder</label><div class=\"sk-toggleable__content\"><pre>[]</pre></div></div></div><div class=\"sk-serial\"><div class=\"sk-item\"><div class=\"sk-estimator sk-toggleable\"><input class=\"sk-toggleable__control sk-hidden--visually\" id=\"sk-estimator-id-87\" type=\"checkbox\" ><label for=\"sk-estimator-id-87\" class=\"sk-toggleable__label sk-toggleable__label-arrow\">passthrough</label><div class=\"sk-toggleable__content\"><pre>passthrough</pre></div></div></div></div></div></div></div></div><div class=\"sk-item\"><div class=\"sk-estimator sk-toggleable\"><input class=\"sk-toggleable__control sk-hidden--visually\" id=\"sk-estimator-id-88\" type=\"checkbox\" ><label for=\"sk-estimator-id-88\" class=\"sk-toggleable__label sk-toggleable__label-arrow\">GradientBoostingRegressor</label><div class=\"sk-toggleable__content\"><pre>GradientBoostingRegressor(max_depth=5, min_samples_leaf=7, min_samples_split=16)</pre></div></div></div></div></div></div></div>"
      ],
      "text/plain": [
       "Pipeline(steps=[('transformer',\n",
       "                 ColumnTransformer(remainder='passthrough',\n",
       "                                   transformers=[('categorical',\n",
       "                                                  OneHotEncoder(),\n",
       "                                                  ['car_color', 'fuel_type',\n",
       "                                                   'car_type', 'car_license',\n",
       "                                                   'gear_type', 'windows',\n",
       "                                                   'payment_method',\n",
       "                                                   'car_state']),\n",
       "                                                 ('numerical',\n",
       "                                                  PowerTransformer(),\n",
       "                                                  ['motor_power', 'speedometer',\n",
       "                                                   'passengers_number',\n",
       "                                                   'ex_owners'])])),\n",
       "                ('model',\n",
       "                 GradientBoostingRegressor(max_depth=5, min_samples_leaf=7,\n",
       "                                           min_samples_split=16))])"
      ]
     },
     "execution_count": 239,
     "metadata": {},
     "output_type": "execute_result"
    }
   ],
   "source": [
    "# fit the pipeline on the all the dataset\n",
    "pipeline.fit(X, y) "
   ]
  },
  {
   "cell_type": "code",
   "execution_count": 241,
   "metadata": {},
   "outputs": [],
   "source": [
    "pickle.dump(pipeline,\n",
    "            open('../pkls/best_model_gbt_random_search.pkl',\n",
    "            'wb'))"
   ]
  },
  {
   "attachments": {},
   "cell_type": "markdown",
   "metadata": {},
   "source": [
    "### Cross Validation"
   ]
  },
  {
   "attachments": {},
   "cell_type": "markdown",
   "metadata": {},
   "source": [
    "##### Cross Validaiton on GradientBoostingRegressor() with best hyperparameters resulted from Random Search hyperparameters tuning"
   ]
  },
  {
   "cell_type": "code",
   "execution_count": null,
   "metadata": {},
   "outputs": [],
   "source": [
    "scores_best_model_gbt_cv = cross_val_score(best_model_gbt, X_transformed, y, cv=10, scoring='r2')"
   ]
  },
  {
   "cell_type": "code",
   "execution_count": null,
   "metadata": {},
   "outputs": [
    {
     "name": "stdout",
     "output_type": "stream",
     "text": [
      "0.33665947277710984\n",
      "0.4924454753398648\n"
     ]
    }
   ],
   "source": [
    "print(scores_best_model_gbt_cv.mean())\n",
    "print(scores_best_model_gbt_cv.max())"
   ]
  },
  {
   "cell_type": "code",
   "execution_count": 297,
   "metadata": {},
   "outputs": [],
   "source": [
    "cross_validation_scores['mean score for Gradient Boosting with best hyperparameters resulted from Random Search = '] = scores_best_model_gbt_cv.mean()\n",
    "cross_validation_scores['max score for Gradient Boosting with best hyperparameters resulted from Random Search = '] = scores_best_model_gbt_cv.max()"
   ]
  },
  {
   "attachments": {},
   "cell_type": "markdown",
   "metadata": {},
   "source": [
    "##### Cross Validaiton on base GradientBoostingRegressor() without choosing hyperparameters"
   ]
  },
  {
   "cell_type": "code",
   "execution_count": 242,
   "metadata": {},
   "outputs": [],
   "source": [
    "base_gbt = GradientBoostingRegressor(random_state = 42)"
   ]
  },
  {
   "cell_type": "code",
   "execution_count": 244,
   "metadata": {},
   "outputs": [],
   "source": [
    "# it will return the 10 testing r2 scores as a numpy array\n",
    "scores_base_gbt = cross_val_score(base_gbt, X_transformed, y, cv=10, scoring='r2')"
   ]
  },
  {
   "cell_type": "code",
   "execution_count": 249,
   "metadata": {},
   "outputs": [
    {
     "name": "stdout",
     "output_type": "stream",
     "text": [
      "0.32575315389124043\n",
      "0.49057323870988356\n"
     ]
    }
   ],
   "source": [
    "# use average as an estimate of out-of-sample score\n",
    "print(scores_base_gbt.mean())\n",
    "print(scores_base_gbt.max())"
   ]
  },
  {
   "cell_type": "code",
   "execution_count": 294,
   "metadata": {},
   "outputs": [],
   "source": [
    "cross_validation_scores['mean score 10 folds cross validation Base Gradient Boosting without Hyperparameters = '] = scores_base_gbt.mean()\n",
    "cross_validation_scores['max score 10 folds cross validation Base Gradient Boosting without Hyperparameters = '] = scores_base_gbt.max()"
   ]
  },
  {
   "attachments": {},
   "cell_type": "markdown",
   "metadata": {},
   "source": [
    "##### Cross Validaiton on GradientBoostingRegressor() with {n_estimators} hyperparameter"
   ]
  },
  {
   "cell_type": "code",
   "execution_count": 257,
   "metadata": {},
   "outputs": [],
   "source": [
    "gbt_with_n_estimators = GradientBoostingRegressor(n_estimators = 10, random_state = 42)"
   ]
  },
  {
   "cell_type": "code",
   "execution_count": 258,
   "metadata": {},
   "outputs": [],
   "source": [
    "# it will return the 10 testing r2 scores as a numpy array\n",
    "scores_gbt_with_n_estimators = cross_val_score(gbt_with_n_estimators, X_transformed, y, cv=10, scoring='r2')"
   ]
  },
  {
   "cell_type": "code",
   "execution_count": 259,
   "metadata": {},
   "outputs": [
    {
     "name": "stdout",
     "output_type": "stream",
     "text": [
      "0.20593386116484474\n",
      "0.31236456900332066\n"
     ]
    }
   ],
   "source": [
    "# use average accuracy as an estimate of out-of-sample accuracy\n",
    "print(scores_gbt_with_n_estimators.mean())\n",
    "print(scores_gbt_with_n_estimators.max())"
   ]
  },
  {
   "cell_type": "code",
   "execution_count": 301,
   "metadata": {},
   "outputs": [],
   "source": [
    "cross_validation_scores['mean score 10 folds cross validation Base Gradient Boosting with 10 estimators hyperparameter = '] = scores_gbt_with_n_estimators.mean()\n",
    "cross_validation_scores['max score 10 folds cross validation Base Gradient Boosting with 10 estimators hyperparameter = '] = scores_gbt_with_n_estimators.max()"
   ]
  },
  {
   "attachments": {},
   "cell_type": "markdown",
   "metadata": {},
   "source": [
    "#### Cross validation on different values of {n_estimators} hyperparameter"
   ]
  },
  {
   "cell_type": "code",
   "execution_count": 262,
   "metadata": {},
   "outputs": [
    {
     "name": "stdout",
     "output_type": "stream",
     "text": [
      "[0.32575315389124043, 0.3228666231095151, 0.3192883249834837, 0.3124168543561406, 0.3003395619407253]\n"
     ]
    }
   ],
   "source": [
    "# Number of trees in Gradient Boosting Trees \n",
    "n_estimators = [int(x) for x in np.linspace(start = 100, stop = 500, num = 5)]\n",
    "# empty list to store scores\n",
    "n_scores = []\n",
    "\n",
    "# 1. loop through reasonable values of n\n",
    "for estimator in n_estimators:\n",
    "    # 2. run GradientBoostingRegressor with n estimators\n",
    "    gbt = GradientBoostingRegressor(n_estimators = estimator, random_state = 42)\n",
    "    # 3. obtain cross_val_score for GradientBoostingRegressor with n estimators\n",
    "    scores = cross_val_score(gbt, X_transformed, y, cv=10, scoring='r2')\n",
    "    # 4. append mean of scores for n estimators to n_scores list\n",
    "    n_scores.append(scores.mean())\n",
    "    \n",
    "\n",
    "print(n_scores)"
   ]
  },
  {
   "cell_type": "code",
   "execution_count": 272,
   "metadata": {},
   "outputs": [
    {
     "name": "stdout",
     "output_type": "stream",
     "text": [
      "Highest score =  0.32575315389124043\n",
      "Avg score =  0.31613290365622104\n"
     ]
    }
   ],
   "source": [
    "print('Highest score = ', max(n_scores))\n",
    "print('Avg score = ', mean(n_scores))"
   ]
  },
  {
   "cell_type": "code",
   "execution_count": 300,
   "metadata": {},
   "outputs": [],
   "source": [
    "cross_validation_scores['mean score 10 folds cross validation Gradient Boosting with 5 different values of mean cross validation for 5 different values of estimators hyperparameter = '] = mean(n_scores)\n",
    "cross_validation_scores['max score 10 folds cross validation Gradient Boosting with 5 different values of mean cross validation for 5 different values of estimators hyperparameter = '] = max(n_scores)"
   ]
  },
  {
   "cell_type": "code",
   "execution_count": 267,
   "metadata": {},
   "outputs": [
    {
     "data": {
      "text/plain": [
       "Text(0, 0.5, 'Cross-validated score')"
      ]
     },
     "execution_count": 267,
     "metadata": {},
     "output_type": "execute_result"
    },
    {
     "data": {
      "image/png": "[encoded data removed]",
      "text/plain": [
       "<Figure size 640x480 with 1 Axes>"
      ]
     },
     "metadata": {},
     "output_type": "display_data"
    }
   ],
   "source": [
    "# plot how score changes as we vary {n}\n",
    "# plot the value of n for n_estimators (x-axis) versus the cross-validated r2 score (y-axis)\n",
    "plt.plot(n_estimators, n_scores)\n",
    "plt.xlabel('Value of n for n_estimators')\n",
    "plt.ylabel('Cross-validated score')"
   ]
  },
  {
   "attachments": {},
   "cell_type": "markdown",
   "metadata": {},
   "source": [
    "#### Cross Validation with another different values of n_estimators"
   ]
  },
  {
   "cell_type": "code",
   "execution_count": 273,
   "metadata": {},
   "outputs": [
    {
     "name": "stdout",
     "output_type": "stream",
     "text": [
      "[0.20593386116484474, 0.2709339687182683, 0.3155739416070961, 0.32575315389124043, 0.3228666231095151, 0.3192883249834837, 0.3124168543561406]\n"
     ]
    }
   ],
   "source": [
    "# Number of trees in Gradient Boosting Trees \n",
    "n_estimators = [10,20,50,100,200,300,400]\n",
    "# empty list to store scores\n",
    "n_scores = []\n",
    "\n",
    "# 1. loop through reasonable values of n\n",
    "for estimator in n_estimators:\n",
    "    # 2. run GradientBoostingRegressor with n estimators\n",
    "    gbt = GradientBoostingRegressor(n_estimators = estimator, random_state = 42)\n",
    "    # 3. obtain cross_val_score for GradientBoostingRegressor with n estimators\n",
    "    scores = cross_val_score(gbt, X_transformed, y, cv=10, scoring='r2')\n",
    "    # 4. append mean of scores for n estimators to n_scores list\n",
    "    n_scores.append(scores.mean())\n",
    "    \n",
    "\n",
    "print(n_scores)"
   ]
  },
  {
   "cell_type": "code",
   "execution_count": 274,
   "metadata": {},
   "outputs": [
    {
     "name": "stdout",
     "output_type": "stream",
     "text": [
      "Highest score =  0.32575315389124043\n",
      "Avg score =  0.296109532547227\n"
     ]
    }
   ],
   "source": [
    "print('Highest score = ', max(n_scores))\n",
    "print('Avg score = ', mean(n_scores))"
   ]
  },
  {
   "cell_type": "code",
   "execution_count": 303,
   "metadata": {},
   "outputs": [],
   "source": [
    "cross_validation_scores['mean score 10 folds cross validation Gradient Boosting with 7 different values of mean cross validation for 7 different values of estimators hyperparameter = '] = mean(n_scores)\n",
    "cross_validation_scores['max score 10 folds cross validation Gradient Boosting with 7 different values of mean cross validation for 7 different values of estimators hyperparameter = '] = max(n_scores)"
   ]
  },
  {
   "cell_type": "code",
   "execution_count": 275,
   "metadata": {},
   "outputs": [
    {
     "data": {
      "text/plain": [
       "Text(0, 0.5, 'Cross-validated score')"
      ]
     },
     "execution_count": 275,
     "metadata": {},
     "output_type": "execute_result"
    },
    {
     "data": {
      "image/png": "[encoded data removed]",
      "text/plain": [
       "<Figure size 640x480 with 1 Axes>"
      ]
     },
     "metadata": {},
     "output_type": "display_data"
    }
   ],
   "source": [
    "# plot how score changes as we vary {n}\n",
    "# plot the value of n for n_estimators (x-axis) versus the cross-validated r2 score (y-axis)\n",
    "plt.plot(n_estimators, n_scores)\n",
    "plt.xlabel('Value of n for n_estimators')\n",
    "plt.ylabel('Cross-validated score')"
   ]
  },
  {
   "cell_type": "code",
   "execution_count": null,
   "metadata": {},
   "outputs": [],
   "source": []
  },
  {
   "cell_type": "code",
   "execution_count": 276,
   "metadata": {},
   "outputs": [
    {
     "name": "stdout",
     "output_type": "stream",
     "text": [
      "[0.30185294078076075, 0.05647223615785464, -0.15147703536196405, -0.16042151370291052, -0.1674647554428482, -0.18844452563040964, -0.18844452563040964, -0.18844452563040964, -0.18844452563040964, -0.18844452563040964]\n"
     ]
    }
   ],
   "source": [
    "# maximum depth in Gradient Boosting Trees \n",
    "max_depth = [int(x) for x in np.linspace(5, 74, num = 10)]\n",
    "\n",
    "# empty list to store scores\n",
    "n_scores = []\n",
    "\n",
    "# 1. loop through reasonable values of max_depth\n",
    "for max_depth_tree in max_depth:\n",
    "    # 2. run GradientBoostingRegressor with max_depth\n",
    "    gbt = GradientBoostingRegressor(max_depth = max_depth_tree, random_state = 42)\n",
    "    # 3. obtain cross_val_score for GradientBoostingRegressor with n estimators\n",
    "    scores = cross_val_score(gbt, X_transformed, y, cv=10, scoring='r2')\n",
    "    # 4. append mean of scores for n estimators to n_scores list\n",
    "    n_scores.append(scores.mean())\n",
    "    \n",
    "\n",
    "print(n_scores)"
   ]
  },
  {
   "cell_type": "code",
   "execution_count": 277,
   "metadata": {},
   "outputs": [
    {
     "name": "stdout",
     "output_type": "stream",
     "text": [
      "Highest score =  0.30185294078076075\n",
      "Avg score =  -0.10632607557211556\n"
     ]
    }
   ],
   "source": [
    "print('Highest score = ', max(n_scores))\n",
    "print('Avg score = ', mean(n_scores))"
   ]
  },
  {
   "cell_type": "code",
   "execution_count": 304,
   "metadata": {},
   "outputs": [],
   "source": [
    "cross_validation_scores['mean score 10 folds cross validation Gradient Boosting with 10 different values of mean cross validation for 10 different values of max_depth hyperparameter = '] = mean(n_scores)\n",
    "cross_validation_scores['max score 10 folds cross validation Gradient Boosting with 10 different values of mean cross validation for 10 different values of max_depth hyperparameter = '] = max(n_scores)"
   ]
  },
  {
   "cell_type": "code",
   "execution_count": 302,
   "metadata": {},
   "outputs": [
    {
     "data": {
      "text/plain": [
       "Text(0, 0.5, 'Cross-validated score')"
      ]
     },
     "execution_count": 302,
     "metadata": {},
     "output_type": "execute_result"
    },
    {
     "data": {
      "image/png": "[encoded data removed]",
      "text/plain": [
       "<Figure size 640x480 with 1 Axes>"
      ]
     },
     "metadata": {},
     "output_type": "display_data"
    }
   ],
   "source": [
    "# plot how score changes as we vary {n}\n",
    "# plot the value of n for n_estimators (x-axis) versus the cross-validated r2 score (y-axis)\n",
    "plt.plot(max_depth, n_scores)\n",
    "plt.xlabel('Value of max_depth for each tree')\n",
    "plt.ylabel('Cross-validated score')"
   ]
  },
  {
   "cell_type": "code",
   "execution_count": 305,
   "metadata": {},
   "outputs": [
    {
     "data": {
      "text/plain": [
       "{'Best score for RandomSearch on GradientBoostingRegressor() model = ': 0.30951744511893564,\n",
       " 'test score for {best_estimator_} resulted from RandomSearch on GradientBoostingRegressor() model = ': 0.31315937181750797,\n",
       " 'mean score 10 folds cross validation Base Gradient Boosting without Hyperparameters = ': 0.32575315389124043,\n",
       " 'max score 10 folds cross validation Base Gradient Boosting without Hyperparameters = ': 0.49057323870988356,\n",
       " 'mean score 10 folds cross validation Base Gradient Boosting with 10 estimators hyperparameter = ': 0.20593386116484474,\n",
       " 'max score 10 folds cross validation Base Gradient Boosting with 10 estimators hyperparameter = ': 0.31236456900332066,\n",
       " 'mean score for Gradient Boosting with best hyperparameters resulted from Random Search = ': 0.33665947277710984,\n",
       " 'max score for Gradient Boosting with best hyperparameters resulted from Random Search = ': 0.4924454753398648,\n",
       " 'mean score 10 folds cross validation Gradient Boosting with 5 different values of mean cross validation for 5 different values of estimators hyperparameter = ': 0.31613290365622104,\n",
       " 'max score 10 folds cross validation Gradient Boosting with 10 estimators hyperparameter = ': 0.31613290365622104,\n",
       " 'max score 10 folds cross validation Gradient Boosting with 5 different values of mean cross validation for 5 different values of estimators hyperparameter = ': 0.32575315389124043,\n",
       " 'mean score 10 folds cross validation Gradient Boosting with 7 different values of mean cross validation for 7 different values of estimators hyperparameter = ': 0.296109532547227,\n",
       " 'max score 10 folds cross validation Gradient Boosting with 7 different values of mean cross validation for 7 different values of estimators hyperparameter = ': 0.32575315389124043,\n",
       " 'mean score 10 folds cross validation Gradient Boosting with 10 different values of mean cross validation for 10 different values of max_depth hyperparameter = ': -0.10632607557211556,\n",
       " 'max score 10 folds cross validation Gradient Boosting with 10 different values of mean cross validation for 10 different values of max_depth hyperparameter = ': 0.30185294078076075}"
      ]
     },
     "execution_count": 305,
     "metadata": {},
     "output_type": "execute_result"
    }
   ],
   "source": [
    "cross_validation_scores"
   ]
  },
  {
   "cell_type": "code",
   "execution_count": 310,
   "metadata": {},
   "outputs": [
    {
     "name": "stdout",
     "output_type": "stream",
     "text": [
      "0.30951744511893564 \t Best score for RandomSearch on GradientBoostingRegressor() model = \n",
      "0.31315937181750797 \t test score for {best_estimator_} resulted from RandomSearch on GradientBoostingRegressor() model = \n",
      "0.32575315389124043 \t mean score 10 folds cross validation Base Gradient Boosting without Hyperparameters = \n",
      "0.49057323870988356 \t max score 10 folds cross validation Base Gradient Boosting without Hyperparameters = \n",
      "0.20593386116484474 \t mean score 10 folds cross validation Base Gradient Boosting with 10 estimators hyperparameter = \n",
      "0.31236456900332066 \t max score 10 folds cross validation Base Gradient Boosting with 10 estimators hyperparameter = \n",
      "0.33665947277710984 \t mean score for Gradient Boosting with best hyperparameters resulted from Random Search = \n",
      "0.4924454753398648 \t max score for Gradient Boosting with best hyperparameters resulted from Random Search = \n",
      "0.31613290365622104 \t mean score 10 folds cross validation Gradient Boosting with 5 different values of mean cross validation for 5 different values of estimators hyperparameter = \n",
      "0.31613290365622104 \t max score 10 folds cross validation Gradient Boosting with 10 estimators hyperparameter = \n",
      "0.32575315389124043 \t max score 10 folds cross validation Gradient Boosting with 5 different values of mean cross validation for 5 different values of estimators hyperparameter = \n",
      "0.296109532547227 \t mean score 10 folds cross validation Gradient Boosting with 7 different values of mean cross validation for 7 different values of estimators hyperparameter = \n",
      "0.32575315389124043 \t max score 10 folds cross validation Gradient Boosting with 7 different values of mean cross validation for 7 different values of estimators hyperparameter = \n",
      "-0.10632607557211556 \t mean score 10 folds cross validation Gradient Boosting with 10 different values of mean cross validation for 10 different values of max_depth hyperparameter = \n",
      "0.30185294078076075 \t max score 10 folds cross validation Gradient Boosting with 10 different values of mean cross validation for 10 different values of max_depth hyperparameter = \n"
     ]
    }
   ],
   "source": [
    "for description, score in cross_validation_scores.items():\n",
    "    print(score, '\\t', description)\n"
   ]
  },
  {
   "attachments": {},
   "cell_type": "markdown",
   "metadata": {},
   "source": [
    "* Observe that mean score of 10 different max_depth resulted in the lowest score\n",
    "* Obeserve that mean score for Gradient Boosting with best hyperparameters resulted from Random Search is the highest"
   ]
  }
 ],
 "metadata": {
  "kernelspec": {
   "display_name": "Python 3 (ipykernel)",
   "language": "python",
   "name": "python3"
  },
  "language_info": {
   "codemirror_mode": {
    "name": "ipython",
    "version": 3
   },
   "file_extension": ".py",
   "mimetype": "text/x-python",
   "name": "python",
   "nbconvert_exporter": "python",
   "pygments_lexer": "ipython3",
   "version": "3.10.9"
  },
  "vscode": {
   "interpreter": {
    "hash": "35593e51b4ce14723bf766f164ae734becbb9dd9e36b261e438ccc9705ab8552"
   }
  }
 },
 "nbformat": 4,
 "nbformat_minor": 2
}

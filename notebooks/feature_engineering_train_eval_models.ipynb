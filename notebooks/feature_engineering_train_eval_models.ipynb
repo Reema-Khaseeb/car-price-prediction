{
 "cells": [
  {
   "cell_type": "code",
   "execution_count": 136,
   "metadata": {},
   "outputs": [],
   "source": [
    "# standard library imports\n",
    "import re\n",
    "import pickle\n",
    "\n",
    "# third-party library imports\n",
    "import numpy as np\n",
    "import pandas as pd\n",
    "import matplotlib.pyplot as plt\n",
    "import seaborn as sns\n",
    "\n",
    "# custom imports\n",
    "from pprint import pprint\n",
    "from sklearn.impute import KNNImputer\n",
    "from sklearn.model_selection import cross_val_score\n",
    "from sklearn.model_selection import train_test_split\n",
    "from category_encoders.one_hot import OneHotEncoder\n",
    "from sklearn.metrics import mean_squared_error, r2_score\n",
    "from sklearn.preprocessing import StandardScaler\n",
    "from sklearn.preprocessing import PolynomialFeatures\n",
    "from sklearn.linear_model import LinearRegression\n",
    "from sklearn.linear_model import Ridge\n",
    "from sklearn.linear_model import Lasso\n",
    "from sklearn.linear_model import SGDRegressor\n",
    "from sklearn.linear_model import LogisticRegression\n",
    "from sklearn.neighbors import KNeighborsClassifier\n",
    "from sklearn.tree import DecisionTreeRegressor\n",
    "from sklearn.ensemble import GradientBoostingRegressor\n",
    "from sklearn.ensemble import RandomForestRegressor\n",
    "from sklearn.compose import ColumnTransformer\n",
    "from sklearn.pipeline import Pipeline\n",
    "from sklearn.preprocessing import PowerTransformer"
   ]
  },
  {
   "cell_type": "code",
   "execution_count": 137,
   "metadata": {},
   "outputs": [],
   "source": [
    "dataset = pd.read_csv(\"../data/data_enriched.csv\")"
   ]
  },
  {
   "cell_type": "code",
   "execution_count": 138,
   "metadata": {},
   "outputs": [
    {
     "data": {
      "text/html": [
       "<div>\n",
       "<style scoped>\n",
       "    .dataframe tbody tr th:only-of-type {\n",
       "        vertical-align: middle;\n",
       "    }\n",
       "\n",
       "    .dataframe tbody tr th {\n",
       "        vertical-align: top;\n",
       "    }\n",
       "\n",
       "    .dataframe thead th {\n",
       "        text-align: right;\n",
       "    }\n",
       "</style>\n",
       "<table border=\"1\" class=\"dataframe\">\n",
       "  <thead>\n",
       "    <tr style=\"text-align: right;\">\n",
       "      <th></th>\n",
       "      <th>car_color</th>\n",
       "      <th>fuel_type</th>\n",
       "      <th>car_type</th>\n",
       "      <th>car_license</th>\n",
       "      <th>gear_type</th>\n",
       "      <th>windows</th>\n",
       "      <th>motor_power</th>\n",
       "      <th>speedometer</th>\n",
       "      <th>passengers_number</th>\n",
       "      <th>payment_method</th>\n",
       "      <th>car_state</th>\n",
       "      <th>ex_owners</th>\n",
       "      <th>additions</th>\n",
       "      <th>price</th>\n",
       "    </tr>\n",
       "  </thead>\n",
       "  <tbody>\n",
       "    <tr>\n",
       "      <th>0</th>\n",
       "      <td>أبيض عاجي</td>\n",
       "      <td>بنزين</td>\n",
       "      <td>خصوصي</td>\n",
       "      <td>فلسطينية</td>\n",
       "      <td>اوتوماتيك</td>\n",
       "      <td>الكتروني</td>\n",
       "      <td>2000</td>\n",
       "      <td>75000</td>\n",
       "      <td>5.0</td>\n",
       "      <td>نقدا فقط</td>\n",
       "      <td>للبيع فقط</td>\n",
       "      <td>1.0</td>\n",
       "      <td>\\n\\nمُكيّف\\nإغلاق مركزي\\nجهاز إنذار\\nمسجل CD\\n...</td>\n",
       "      <td>100000</td>\n",
       "    </tr>\n",
       "    <tr>\n",
       "      <th>1</th>\n",
       "      <td>سكني</td>\n",
       "      <td>ديزل</td>\n",
       "      <td>خصوصي</td>\n",
       "      <td>فلسطينية</td>\n",
       "      <td>نصف اوتوماتيك</td>\n",
       "      <td>الكتروني</td>\n",
       "      <td>2500</td>\n",
       "      <td>130000</td>\n",
       "      <td>8.0</td>\n",
       "      <td>إمكانية التقسيط</td>\n",
       "      <td>للبيع أو التبديل</td>\n",
       "      <td>2.0</td>\n",
       "      <td>\\n\\nمُكيّف\\nإغلاق مركزي\\nجهاز إنذار\\nمسجل CD\\n...</td>\n",
       "      <td>60000</td>\n",
       "    </tr>\n",
       "    <tr>\n",
       "      <th>2</th>\n",
       "      <td>سكني</td>\n",
       "      <td>بنزين</td>\n",
       "      <td>خصوصي</td>\n",
       "      <td>فلسطينية</td>\n",
       "      <td>اوتوماتيك</td>\n",
       "      <td>الكتروني</td>\n",
       "      <td>1600</td>\n",
       "      <td>NaN</td>\n",
       "      <td>NaN</td>\n",
       "      <td>نقدا فقط</td>\n",
       "      <td>للبيع فقط</td>\n",
       "      <td>NaN</td>\n",
       "      <td>\\n\\nمُكيّف\\nإغلاق مركزي\\nجهاز إنذار\\nمسجل CD\\n...</td>\n",
       "      <td>43500</td>\n",
       "    </tr>\n",
       "    <tr>\n",
       "      <th>3</th>\n",
       "      <td>بيج</td>\n",
       "      <td>بنزين</td>\n",
       "      <td>خصوصي</td>\n",
       "      <td>فلسطينية</td>\n",
       "      <td>عادي</td>\n",
       "      <td>يدوي</td>\n",
       "      <td>906</td>\n",
       "      <td>NaN</td>\n",
       "      <td>5.0</td>\n",
       "      <td>إمكانية التقسيط</td>\n",
       "      <td>للبيع فقط</td>\n",
       "      <td>0.0</td>\n",
       "      <td>\\n\\nمُكيّف\\nمسجل CD\\n\\n</td>\n",
       "      <td>5500</td>\n",
       "    </tr>\n",
       "    <tr>\n",
       "      <th>4</th>\n",
       "      <td>فضي</td>\n",
       "      <td>بنزين</td>\n",
       "      <td>خصوصي</td>\n",
       "      <td>فلسطينية</td>\n",
       "      <td>اوتوماتيك</td>\n",
       "      <td>الكتروني</td>\n",
       "      <td>1200</td>\n",
       "      <td>38000</td>\n",
       "      <td>5.0</td>\n",
       "      <td>نقدا فقط</td>\n",
       "      <td>للبيع فقط</td>\n",
       "      <td>NaN</td>\n",
       "      <td>\\n\\nمُكيّف\\nإغلاق مركزي\\nجهاز إنذار\\nجنطات مغن...</td>\n",
       "      <td>54000</td>\n",
       "    </tr>\n",
       "  </tbody>\n",
       "</table>\n",
       "</div>"
      ],
      "text/plain": [
       "    car_color fuel_type car_type car_license       gear_type    windows  \\\n",
       "0  أبيض عاجي     بنزين    خصوصي    فلسطينية       اوتوماتيك   الكتروني    \n",
       "1       سكني      ديزل    خصوصي    فلسطينية   نصف اوتوماتيك   الكتروني    \n",
       "2       سكني     بنزين    خصوصي    فلسطينية       اوتوماتيك   الكتروني    \n",
       "3        بيج     بنزين    خصوصي    فلسطينية            عادي       يدوي    \n",
       "4        فضي     بنزين    خصوصي    فلسطينية       اوتوماتيك   الكتروني    \n",
       "\n",
       "   motor_power speedometer  passengers_number    payment_method  \\\n",
       "0         2000       75000                5.0         نقدا فقط    \n",
       "1         2500      130000                8.0  إمكانية التقسيط    \n",
       "2         1600         NaN                NaN         نقدا فقط    \n",
       "3          906         NaN                5.0  إمكانية التقسيط    \n",
       "4         1200       38000                5.0         نقدا فقط    \n",
       "\n",
       "           car_state  ex_owners  \\\n",
       "0         للبيع فقط         1.0   \n",
       "1  للبيع أو التبديل         2.0   \n",
       "2         للبيع فقط         NaN   \n",
       "3         للبيع فقط         0.0   \n",
       "4         للبيع فقط         NaN   \n",
       "\n",
       "                                           additions   price  \n",
       "0  \\n\\nمُكيّف\\nإغلاق مركزي\\nجهاز إنذار\\nمسجل CD\\n...  100000  \n",
       "1  \\n\\nمُكيّف\\nإغلاق مركزي\\nجهاز إنذار\\nمسجل CD\\n...   60000  \n",
       "2  \\n\\nمُكيّف\\nإغلاق مركزي\\nجهاز إنذار\\nمسجل CD\\n...   43500  \n",
       "3                            \\n\\nمُكيّف\\nمسجل CD\\n\\n    5500  \n",
       "4  \\n\\nمُكيّف\\nإغلاق مركزي\\nجهاز إنذار\\nجنطات مغن...   54000  "
      ]
     },
     "execution_count": 138,
     "metadata": {},
     "output_type": "execute_result"
    }
   ],
   "source": [
    "dataset.head()"
   ]
  },
  {
   "cell_type": "code",
   "execution_count": 139,
   "metadata": {},
   "outputs": [
    {
     "data": {
      "text/plain": [
       "(6864, 14)"
      ]
     },
     "execution_count": 139,
     "metadata": {},
     "output_type": "execute_result"
    }
   ],
   "source": [
    "dataset.shape"
   ]
  },
  {
   "cell_type": "markdown",
   "metadata": {},
   "source": [
    "## Feature Engineering"
   ]
  },
  {
   "cell_type": "markdown",
   "metadata": {},
   "source": [
    "### Handle outliers"
   ]
  },
  {
   "cell_type": "code",
   "execution_count": 146,
   "metadata": {},
   "outputs": [],
   "source": [
    "def handle_outliers(data, feature):\n",
    "    upper_lim = data[feature].quantile(.999)\n",
    "    lower_lim = data[feature].quantile(.0000001)\n",
    "\n",
    "    return data[(data[feature] < upper_lim) & (data[feature] > lower_lim)]\n",
    "dataset = handle_outliers(dataset, 'speedometer')"
   ]
  },
  {
   "cell_type": "code",
   "execution_count": 142,
   "metadata": {},
   "outputs": [
    {
     "data": {
      "text/plain": [
       "(6864, 14)"
      ]
     },
     "execution_count": 142,
     "metadata": {},
     "output_type": "execute_result"
    }
   ],
   "source": [
    "dataset.shape"
   ]
  },
  {
   "cell_type": "markdown",
   "metadata": {},
   "source": [
    "### Handle missing data"
   ]
  },
  {
   "cell_type": "code",
   "execution_count": 143,
   "metadata": {},
   "outputs": [],
   "source": [
    "def imputer_transform(data_columns):\n",
    "    return transform\n",
    "\n",
    "\n",
    "def knn_imputer(data_columns):\n",
    "    KNNImputer(n_neighbors=3).fit(data_columns)"
   ]
  },
  {
   "cell_type": "code",
   "execution_count": 144,
   "metadata": {},
   "outputs": [],
   "source": [
    "def handle_missing_data(data):\n",
    "    nan_columns = data.columns[data.isna().any()].tolist()\n",
    "    if nan_columns:\n",
    "        model = KNNImputer(n_neighbors=3)\n",
    "        after_imputation = model.fit_transform(data[nan_columns])\n",
    "        for indx, feature in enumerate(nan_columns):\n",
    "            data[feature] = after_imputation[:,indx].round().astype(int)\n"
   ]
  },
  {
   "cell_type": "code",
   "execution_count": 145,
   "metadata": {},
   "outputs": [],
   "source": [
    "handle_missing_data(dataset)"
   ]
  },
  {
   "attachments": {},
   "cell_type": "markdown",
   "metadata": {},
   "source": [
    "#### Feature Selection"
   ]
  },
  {
   "cell_type": "code",
   "execution_count": 58,
   "metadata": {},
   "outputs": [],
   "source": [
    "dataset.drop(['additions'], axis=1, inplace=True) "
   ]
  },
  {
   "attachments": {},
   "cell_type": "markdown",
   "metadata": {},
   "source": [
    "#### Split data into features and target variable"
   ]
  },
  {
   "cell_type": "code",
   "execution_count": 59,
   "metadata": {},
   "outputs": [],
   "source": [
    "X = dataset.drop(columns = 'price')\n",
    "y = dataset['price'] "
   ]
  },
  {
   "cell_type": "code",
   "execution_count": 60,
   "metadata": {},
   "outputs": [],
   "source": [
    "categorical_features = dataset.select_dtypes(['object']).columns.to_list()"
   ]
  },
  {
   "cell_type": "code",
   "execution_count": 61,
   "metadata": {},
   "outputs": [],
   "source": [
    "numeric_features = X.select_dtypes('number').columns.to_list()"
   ]
  },
  {
   "cell_type": "code",
   "execution_count": 67,
   "metadata": {},
   "outputs": [],
   "source": [
    "# Apply different preprocessing steps to different columns of the data\n",
    "transformer = ColumnTransformer( \n",
    "    transformers = [  \n",
    "        # encode categorical features using OneHotEncoder()\n",
    "        ('categorical', OneHotEncoder(), categorical_features),\n",
    "        # feature scaling using log transformation\n",
    "        ('numerical', PowerTransformer(), numeric_features),\n",
    "    ],\n",
    "    remainder='passthrough'\n",
    "    )"
   ]
  },
  {
   "attachments": {},
   "cell_type": "markdown",
   "metadata": {},
   "source": [
    "#### Feature Transformation\n",
    "###### transform features applying ColumnTransformer() pipeline"
   ]
  },
  {
   "cell_type": "code",
   "execution_count": 68,
   "metadata": {},
   "outputs": [
    {
     "name": "stderr",
     "output_type": "stream",
     "text": [
      "c:\\Users\\DELL\\Study\\ML2 2022\\ML2 Assignment1 Car Price Prediction\\car-price-prediction\\venv_car_price_pred\\lib\\site-packages\\category_encoders\\one_hot.py:145: FutureWarning: iteritems is deprecated and will be removed in a future version. Use .items instead.\n",
      "  for cat_name, class_ in values.iteritems():\n",
      "c:\\Users\\DELL\\Study\\ML2 2022\\ML2 Assignment1 Car Price Prediction\\car-price-prediction\\venv_car_price_pred\\lib\\site-packages\\category_encoders\\one_hot.py:145: FutureWarning: iteritems is deprecated and will be removed in a future version. Use .items instead.\n",
      "  for cat_name, class_ in values.iteritems():\n",
      "c:\\Users\\DELL\\Study\\ML2 2022\\ML2 Assignment1 Car Price Prediction\\car-price-prediction\\venv_car_price_pred\\lib\\site-packages\\category_encoders\\one_hot.py:145: FutureWarning: iteritems is deprecated and will be removed in a future version. Use .items instead.\n",
      "  for cat_name, class_ in values.iteritems():\n",
      "c:\\Users\\DELL\\Study\\ML2 2022\\ML2 Assignment1 Car Price Prediction\\car-price-prediction\\venv_car_price_pred\\lib\\site-packages\\category_encoders\\one_hot.py:145: FutureWarning: iteritems is deprecated and will be removed in a future version. Use .items instead.\n",
      "  for cat_name, class_ in values.iteritems():\n",
      "c:\\Users\\DELL\\Study\\ML2 2022\\ML2 Assignment1 Car Price Prediction\\car-price-prediction\\venv_car_price_pred\\lib\\site-packages\\category_encoders\\one_hot.py:145: FutureWarning: iteritems is deprecated and will be removed in a future version. Use .items instead.\n",
      "  for cat_name, class_ in values.iteritems():\n",
      "c:\\Users\\DELL\\Study\\ML2 2022\\ML2 Assignment1 Car Price Prediction\\car-price-prediction\\venv_car_price_pred\\lib\\site-packages\\category_encoders\\one_hot.py:145: FutureWarning: iteritems is deprecated and will be removed in a future version. Use .items instead.\n",
      "  for cat_name, class_ in values.iteritems():\n",
      "c:\\Users\\DELL\\Study\\ML2 2022\\ML2 Assignment1 Car Price Prediction\\car-price-prediction\\venv_car_price_pred\\lib\\site-packages\\category_encoders\\one_hot.py:145: FutureWarning: iteritems is deprecated and will be removed in a future version. Use .items instead.\n",
      "  for cat_name, class_ in values.iteritems():\n",
      "c:\\Users\\DELL\\Study\\ML2 2022\\ML2 Assignment1 Car Price Prediction\\car-price-prediction\\venv_car_price_pred\\lib\\site-packages\\category_encoders\\one_hot.py:145: FutureWarning: iteritems is deprecated and will be removed in a future version. Use .items instead.\n",
      "  for cat_name, class_ in values.iteritems():\n"
     ]
    }
   ],
   "source": [
    "# transform the data (without the target variable) \n",
    "X_transformed = transformer.fit_transform(X)"
   ]
  },
  {
   "cell_type": "markdown",
   "metadata": {},
   "source": [
    "Split the data"
   ]
  },
  {
   "cell_type": "code",
   "execution_count": 70,
   "metadata": {},
   "outputs": [],
   "source": [
    "X_train, X_test, y_train, y_test = train_test_split(X_transformed, y, test_size=.25, random_state=42)"
   ]
  },
  {
   "cell_type": "code",
   "execution_count": 71,
   "metadata": {},
   "outputs": [
    {
     "data": {
      "text/plain": [
       "(5148,)"
      ]
     },
     "execution_count": 71,
     "metadata": {},
     "output_type": "execute_result"
    }
   ],
   "source": [
    "y_train.shape"
   ]
  },
  {
   "cell_type": "code",
   "execution_count": 72,
   "metadata": {},
   "outputs": [
    {
     "data": {
      "text/plain": [
       "(1716,)"
      ]
     },
     "execution_count": 72,
     "metadata": {},
     "output_type": "execute_result"
    }
   ],
   "source": [
    "y_test.shape"
   ]
  },
  {
   "cell_type": "code",
   "execution_count": 85,
   "metadata": {},
   "outputs": [],
   "source": [
    "models = {'ols': {'model': LinearRegression(), \n",
    "                  'description': 'orinary least square'\n",
    "                  },\n",
    "        'sgd1': {'model': SGDRegressor(),\n",
    "                  'description': 'gradient descent with 1000 iteration'\n",
    "                  },\n",
    "        'sgd2': {'model': SGDRegressor(max_iter=10),\n",
    "                  'description': 'gradient descent with 10 iteration'\n",
    "                  },\n",
    "        'ply2': {'model': LinearRegression(),\n",
    "                  'degree': 2,\n",
    "                  'description': 'Polynomial with 2 degree'\n",
    "                  },\n",
    "        'ply2_ridge': {'model': Ridge(),\n",
    "                  'degree': 2,\n",
    "                  'description': 'orinary least square'\n",
    "                  },\n",
    "        'ply2_lasso': {'model': Lasso(),\n",
    "                  'degree': 2,\n",
    "                  'description': 'orinary least square'\n",
    "                  },\n",
    "        '3nn': {'model': KNeighborsClassifier(n_neighbors=3),\n",
    "                  'description': 'KNN with k=3'\n",
    "                  },\n",
    "        'DT': {'model': DecisionTreeRegressor(),\n",
    "                  'description': 'Decision Tree Regressor'\n",
    "                  },\n",
    "        \"rfr\": {\"model\": RandomForestRegressor(n_estimators = 15),\n",
    "                  \"description\":\"Random Forest Regressor\"\n",
    "                  },\n",
    "        'GBR': {'model': GradientBoostingRegressor(),\n",
    "                  'description': 'Gradient Boosting Regressor'\n",
    "                  }\n",
    "  }"
   ]
  },
  {
   "cell_type": "markdown",
   "metadata": {},
   "source": [
    "Train the data"
   ]
  },
  {
   "cell_type": "code",
   "execution_count": 75,
   "metadata": {},
   "outputs": [],
   "source": [
    "def train_plynomial_model(model, degree, X_train, y_train):\n",
    "    \"\"\"\n",
    "    returns polynomial model with the given degree\n",
    "    \"\"\"\n",
    "    poly = PolynomialFeatures(degree)\n",
    "    poly_x_train = poly.fit_transform(X_train)\n",
    "    model.fit(poly_x_train, y_train)"
   ]
  },
  {
   "cell_type": "code",
   "execution_count": 76,
   "metadata": {},
   "outputs": [],
   "source": [
    "def train_model(models, X_train, y_train):\n",
    "    \"\"\"\n",
    "    models: dictionary\n",
    "    {\"model_id\":{\"model\":which model, \"description\":\"\"}}\n",
    "    \"\"\"\n",
    "    \n",
    "    # go over all models\n",
    "    for model_id in models:\n",
    "        # train if polynomial\n",
    "        print(models[model_id])\n",
    "        if models[model_id].get(\"degree\"):\n",
    "            train_plynomial_model(models[model_id]['model'],\\\n",
    "                                  models[model_id]['degree'],\\\n",
    "                                  X_train,\\\n",
    "                                  y_train)\n",
    "            \n",
    "        else:  \n",
    "            models[model_id]['model'].fit(X_train, y_train)\n",
    "        #print(models[model_id]['model'].coef_)\n",
    "        #print(models[model_id]['model'].intercept_)\n",
    "        \n",
    "    # return the new dictionary\n",
    "    return models"
   ]
  },
  {
   "cell_type": "code",
   "execution_count": 77,
   "metadata": {},
   "outputs": [],
   "source": [
    "def predict_plynomial_model(model, degree, X_test):\n",
    "    poly = PolynomialFeatures(degree)\n",
    "    poly_x_test = poly.fit_transform(X_test)   \n",
    "    return model.predict(poly_x_test)"
   ]
  },
  {
   "cell_type": "code",
   "execution_count": 86,
   "metadata": {},
   "outputs": [],
   "source": [
    "def eval_models(models, X_test, y_test, train_test):\n",
    "    \"\"\"\n",
    "    models: dictionary\n",
    "    {\"model_id\":{\"model\":which model, \"description\":\"\", \"RMSE\":<value>, \"R2_score\":<value>}}\n",
    "    \"\"\"\n",
    "    # go over all models\n",
    "    for model_id in models:\n",
    "        # predict them\n",
    "        if models[model_id].get(\"degree\"): #if not (models[model_id].get(\"degree\") is None):\n",
    "            y_predict= predict_plynomial_model(models[model_id]['model'],\\\n",
    "                                  models[model_id]['degree'],\\\n",
    "                                  X_test)\n",
    "            \n",
    "        else: \n",
    "            y_predict = models[model_id]['model'].predict(X_test)\n",
    "\n",
    "        # evaluate models using 'RMSE' evaluation metric\n",
    "        rmse = mean_squared_error(y_test, y_predict, squared=False) # np.sqrt(mean_squared_error())\n",
    "\n",
    "        if train_test == 'train':\n",
    "            models[model_id][\"train_RMSE\"] = rmse\n",
    "            \n",
    "            # evaluate models using 'R square' evaluation metric\n",
    "            models[model_id][\"train_R2_score\"] = r2_score(y_test, y_predict)\n",
    "        \n",
    "        else:\n",
    "            models[model_id][\"test_RMSE\"] = rmse\n",
    "            \n",
    "            # evaluate models using 'R square' evaluation metric\n",
    "            models[model_id][\"test_R2_score\"] = r2_score(y_test, y_predict)\n",
    "\n",
    "    # return models dictionary adjusted attached with evaluation metric\n",
    "    return models"
   ]
  },
  {
   "cell_type": "code",
   "execution_count": 88,
   "metadata": {},
   "outputs": [
    {
     "name": "stdout",
     "output_type": "stream",
     "text": [
      "{'model': LinearRegression(), 'description': 'orinary least square'}\n",
      "{'model': SGDRegressor(), 'description': 'gradient descent with 1000 iteration'}\n",
      "{'model': SGDRegressor(max_iter=10), 'description': 'gradient descent with 10 iteration'}\n",
      "{'model': LinearRegression(), 'degree': 2, 'description': 'Polynomial with 2 degree'}\n"
     ]
    },
    {
     "name": "stderr",
     "output_type": "stream",
     "text": [
      "c:\\Users\\DELL\\Study\\ML2 2022\\ML2 Assignment1 Car Price Prediction\\car-price-prediction\\venv_car_price_pred\\lib\\site-packages\\sklearn\\linear_model\\_stochastic_gradient.py:1527: ConvergenceWarning: Maximum number of iteration reached before convergence. Consider increasing max_iter to improve the fit.\n",
      "  warnings.warn(\n"
     ]
    },
    {
     "name": "stdout",
     "output_type": "stream",
     "text": [
      "{'model': Ridge(), 'degree': 2, 'description': 'orinary least square'}\n",
      "{'model': Lasso(), 'degree': 2, 'description': 'orinary least square'}\n"
     ]
    },
    {
     "name": "stderr",
     "output_type": "stream",
     "text": [
      "c:\\Users\\DELL\\Study\\ML2 2022\\ML2 Assignment1 Car Price Prediction\\car-price-prediction\\venv_car_price_pred\\lib\\site-packages\\sklearn\\linear_model\\_coordinate_descent.py:648: ConvergenceWarning: Objective did not converge. You might want to increase the number of iterations, check the scale of the features or consider increasing regularisation. Duality gap: 2.476e+12, tolerance: 1.674e+09\n",
      "  model = cd_fast.enet_coordinate_descent(\n"
     ]
    },
    {
     "name": "stdout",
     "output_type": "stream",
     "text": [
      "{'model': KNeighborsClassifier(n_neighbors=3), 'description': 'KNN with k=3'}\n",
      "{'model': DecisionTreeRegressor(), 'description': 'Decision Tree Regressor'}\n",
      "{'model': RandomForestRegressor(n_estimators=15), 'description': 'Random Forest Regressor'}\n",
      "{'model': GradientBoostingRegressor(), 'description': 'Gradient Boosting Regressor'}\n"
     ]
    }
   ],
   "source": [
    "train_models_res = train_model(models, X_train, y_train)"
   ]
  },
  {
   "cell_type": "code",
   "execution_count": 91,
   "metadata": {},
   "outputs": [],
   "source": [
    "eval_models_test = eval_models(models, X_test, y_test, 'test')"
   ]
  },
  {
   "cell_type": "code",
   "execution_count": 94,
   "metadata": {},
   "outputs": [],
   "source": [
    "eval_models_tain = eval_models(models, X_train, y_train, 'train')"
   ]
  },
  {
   "cell_type": "code",
   "execution_count": 99,
   "metadata": {},
   "outputs": [
    {
     "data": {
      "text/html": [
       "<div>\n",
       "<style scoped>\n",
       "    .dataframe tbody tr th:only-of-type {\n",
       "        vertical-align: middle;\n",
       "    }\n",
       "\n",
       "    .dataframe tbody tr th {\n",
       "        vertical-align: top;\n",
       "    }\n",
       "\n",
       "    .dataframe thead th {\n",
       "        text-align: right;\n",
       "    }\n",
       "</style>\n",
       "<table border=\"1\" class=\"dataframe\">\n",
       "  <thead>\n",
       "    <tr style=\"text-align: right;\">\n",
       "      <th></th>\n",
       "      <th>model</th>\n",
       "      <th>description</th>\n",
       "      <th>test_RMSE</th>\n",
       "      <th>test_R2_score</th>\n",
       "      <th>train_RMSE</th>\n",
       "      <th>train_R2_score</th>\n",
       "      <th>degree</th>\n",
       "    </tr>\n",
       "  </thead>\n",
       "  <tbody>\n",
       "    <tr>\n",
       "      <th>ols</th>\n",
       "      <td>LinearRegression()</td>\n",
       "      <td>orinary least square</td>\n",
       "      <td>4.904144e+04</td>\n",
       "      <td>2.596994e-01</td>\n",
       "      <td>49003.404843</td>\n",
       "      <td>0.261542</td>\n",
       "      <td>NaN</td>\n",
       "    </tr>\n",
       "    <tr>\n",
       "      <th>sgd1</th>\n",
       "      <td>SGDRegressor()</td>\n",
       "      <td>gradient descent with 1000 iteration</td>\n",
       "      <td>4.896399e+04</td>\n",
       "      <td>2.620358e-01</td>\n",
       "      <td>49055.157190</td>\n",
       "      <td>0.259982</td>\n",
       "      <td>NaN</td>\n",
       "    </tr>\n",
       "    <tr>\n",
       "      <th>sgd2</th>\n",
       "      <td>SGDRegressor(max_iter=10)</td>\n",
       "      <td>gradient descent with 10 iteration</td>\n",
       "      <td>4.893300e+04</td>\n",
       "      <td>2.629696e-01</td>\n",
       "      <td>49212.814200</td>\n",
       "      <td>0.255217</td>\n",
       "      <td>NaN</td>\n",
       "    </tr>\n",
       "    <tr>\n",
       "      <th>ply2</th>\n",
       "      <td>LinearRegression()</td>\n",
       "      <td>Polynomial with 2 degree</td>\n",
       "      <td>9.348140e+12</td>\n",
       "      <td>-2.689875e+16</td>\n",
       "      <td>45166.412707</td>\n",
       "      <td>0.372658</td>\n",
       "      <td>2.0</td>\n",
       "    </tr>\n",
       "    <tr>\n",
       "      <th>ply2_ridge</th>\n",
       "      <td>Ridge()</td>\n",
       "      <td>orinary least square</td>\n",
       "      <td>4.901041e+04</td>\n",
       "      <td>2.606358e-01</td>\n",
       "      <td>45325.005570</td>\n",
       "      <td>0.368245</td>\n",
       "      <td>2.0</td>\n",
       "    </tr>\n",
       "    <tr>\n",
       "      <th>ply2_lasso</th>\n",
       "      <td>Lasso()</td>\n",
       "      <td>orinary least square</td>\n",
       "      <td>4.970858e+04</td>\n",
       "      <td>2.394207e-01</td>\n",
       "      <td>45191.688533</td>\n",
       "      <td>0.371956</td>\n",
       "      <td>2.0</td>\n",
       "    </tr>\n",
       "    <tr>\n",
       "      <th>3nn</th>\n",
       "      <td>KNeighborsClassifier(n_neighbors=3)</td>\n",
       "      <td>KNN with k=3</td>\n",
       "      <td>5.585759e+04</td>\n",
       "      <td>3.961339e-02</td>\n",
       "      <td>51336.139662</td>\n",
       "      <td>0.189563</td>\n",
       "      <td>NaN</td>\n",
       "    </tr>\n",
       "    <tr>\n",
       "      <th>DT</th>\n",
       "      <td>DecisionTreeRegressor()</td>\n",
       "      <td>Decision Tree Regressor</td>\n",
       "      <td>6.899300e+04</td>\n",
       "      <td>-4.651825e-01</td>\n",
       "      <td>5544.078355</td>\n",
       "      <td>0.990548</td>\n",
       "      <td>NaN</td>\n",
       "    </tr>\n",
       "    <tr>\n",
       "      <th>rfr</th>\n",
       "      <td>(DecisionTreeRegressor(max_features=1.0, rando...</td>\n",
       "      <td>Random Forest Regressor</td>\n",
       "      <td>4.983191e+04</td>\n",
       "      <td>2.356421e-01</td>\n",
       "      <td>21599.493423</td>\n",
       "      <td>0.856530</td>\n",
       "      <td>NaN</td>\n",
       "    </tr>\n",
       "    <tr>\n",
       "      <th>GBR</th>\n",
       "      <td>([DecisionTreeRegressor(criterion='friedman_ms...</td>\n",
       "      <td>Gradient Boosting Regressor</td>\n",
       "      <td>4.709193e+04</td>\n",
       "      <td>3.173868e-01</td>\n",
       "      <td>42773.852571</td>\n",
       "      <td>0.437361</td>\n",
       "      <td>NaN</td>\n",
       "    </tr>\n",
       "  </tbody>\n",
       "</table>\n",
       "</div>"
      ],
      "text/plain": [
       "                                                        model  \\\n",
       "ols                                        LinearRegression()   \n",
       "sgd1                                           SGDRegressor()   \n",
       "sgd2                                SGDRegressor(max_iter=10)   \n",
       "ply2                                       LinearRegression()   \n",
       "ply2_ridge                                            Ridge()   \n",
       "ply2_lasso                                            Lasso()   \n",
       "3nn                       KNeighborsClassifier(n_neighbors=3)   \n",
       "DT                                    DecisionTreeRegressor()   \n",
       "rfr         (DecisionTreeRegressor(max_features=1.0, rando...   \n",
       "GBR         ([DecisionTreeRegressor(criterion='friedman_ms...   \n",
       "\n",
       "                                     description     test_RMSE  test_R2_score  \\\n",
       "ols                         orinary least square  4.904144e+04   2.596994e-01   \n",
       "sgd1        gradient descent with 1000 iteration  4.896399e+04   2.620358e-01   \n",
       "sgd2          gradient descent with 10 iteration  4.893300e+04   2.629696e-01   \n",
       "ply2                    Polynomial with 2 degree  9.348140e+12  -2.689875e+16   \n",
       "ply2_ridge                  orinary least square  4.901041e+04   2.606358e-01   \n",
       "ply2_lasso                  orinary least square  4.970858e+04   2.394207e-01   \n",
       "3nn                                 KNN with k=3  5.585759e+04   3.961339e-02   \n",
       "DT                       Decision Tree Regressor  6.899300e+04  -4.651825e-01   \n",
       "rfr                      Random Forest Regressor  4.983191e+04   2.356421e-01   \n",
       "GBR                  Gradient Boosting Regressor  4.709193e+04   3.173868e-01   \n",
       "\n",
       "              train_RMSE  train_R2_score  degree  \n",
       "ols         49003.404843        0.261542     NaN  \n",
       "sgd1        49055.157190        0.259982     NaN  \n",
       "sgd2        49212.814200        0.255217     NaN  \n",
       "ply2        45166.412707        0.372658     2.0  \n",
       "ply2_ridge  45325.005570        0.368245     2.0  \n",
       "ply2_lasso  45191.688533        0.371956     2.0  \n",
       "3nn         51336.139662        0.189563     NaN  \n",
       "DT           5544.078355        0.990548     NaN  \n",
       "rfr         21599.493423        0.856530     NaN  \n",
       "GBR         42773.852571        0.437361     NaN  "
      ]
     },
     "execution_count": 99,
     "metadata": {},
     "output_type": "execute_result"
    }
   ],
   "source": [
    "pd.DataFrame.from_dict(models,orient='index')"
   ]
  },
  {
   "cell_type": "code",
   "execution_count": 122,
   "metadata": {},
   "outputs": [],
   "source": [
    "def models_evaluation_test_train():\n",
    "    for model in models:\n",
    "        # print((eval_models_tain[model[0]], '\\n', eval_models_test[model[1]], '\\n\\n'))\n",
    "        print(model)\n",
    "        print(f\"train_R2_score = {models[model]['train_R2_score']}\")\n",
    "        print(f\"test_R2_score = {models[model]['test_R2_score']}\")\n",
    "        print('-----------------------------------------------')\n",
    "        "
   ]
  },
  {
   "cell_type": "code",
   "execution_count": 123,
   "metadata": {},
   "outputs": [
    {
     "name": "stdout",
     "output_type": "stream",
     "text": [
      "ols\n",
      "train_R2_score = 0.261542333398054\n",
      "test_R2_score = 0.25969942320951633\n",
      "-----------------------------------------------\n",
      "sgd1\n",
      "train_R2_score = 0.25998174397307183\n",
      "test_R2_score = 0.2620357747626767\n",
      "-----------------------------------------------\n",
      "sgd2\n",
      "train_R2_score = 0.25521745203901636\n",
      "test_R2_score = 0.26296955630947916\n",
      "-----------------------------------------------\n",
      "ply2\n",
      "train_R2_score = 0.37265811067963694\n",
      "test_R2_score = -2.6898751741365708e+16\n",
      "-----------------------------------------------\n",
      "ply2_ridge\n",
      "train_R2_score = 0.3682448038262921\n",
      "test_R2_score = 0.2606357748093837\n",
      "-----------------------------------------------\n",
      "ply2_lasso\n",
      "train_R2_score = 0.3719557736839182\n",
      "test_R2_score = 0.23942069792260268\n",
      "-----------------------------------------------\n",
      "3nn\n",
      "train_R2_score = 0.1895625413876112\n",
      "test_R2_score = 0.03961338651088231\n",
      "-----------------------------------------------\n",
      "DT\n",
      "train_R2_score = 0.990547823784261\n",
      "test_R2_score = -0.46518252610868105\n",
      "-----------------------------------------------\n",
      "rfr\n",
      "train_R2_score = 0.8565302895633624\n",
      "test_R2_score = 0.23564211466023766\n",
      "-----------------------------------------------\n",
      "GBR\n",
      "train_R2_score = 0.4373610073618789\n",
      "test_R2_score = 0.31738684441314746\n",
      "-----------------------------------------------\n"
     ]
    }
   ],
   "source": [
    "models_evaluation_test_train()"
   ]
  },
  {
   "attachments": {},
   "cell_type": "markdown",
   "metadata": {},
   "source": [
    "* GradientBoostingRegressor() scored the highest, pickle that model pipeline"
   ]
  },
  {
   "cell_type": "code",
   "execution_count": 133,
   "metadata": {},
   "outputs": [],
   "source": [
    "pipeline = Pipeline( \n",
    "    steps = [\n",
    "        (\"transformer\", transformer),\n",
    "        (\"model\", GradientBoostingRegressor())\n",
    "    ]\n",
    ")"
   ]
  },
  {
   "cell_type": "code",
   "execution_count": 134,
   "metadata": {},
   "outputs": [
    {
     "name": "stderr",
     "output_type": "stream",
     "text": [
      "c:\\Users\\DELL\\Study\\ML2 2022\\ML2 Assignment1 Car Price Prediction\\car-price-prediction\\venv_car_price_pred\\lib\\site-packages\\category_encoders\\one_hot.py:145: FutureWarning: iteritems is deprecated and will be removed in a future version. Use .items instead.\n",
      "  for cat_name, class_ in values.iteritems():\n",
      "c:\\Users\\DELL\\Study\\ML2 2022\\ML2 Assignment1 Car Price Prediction\\car-price-prediction\\venv_car_price_pred\\lib\\site-packages\\category_encoders\\one_hot.py:145: FutureWarning: iteritems is deprecated and will be removed in a future version. Use .items instead.\n",
      "  for cat_name, class_ in values.iteritems():\n",
      "c:\\Users\\DELL\\Study\\ML2 2022\\ML2 Assignment1 Car Price Prediction\\car-price-prediction\\venv_car_price_pred\\lib\\site-packages\\category_encoders\\one_hot.py:145: FutureWarning: iteritems is deprecated and will be removed in a future version. Use .items instead.\n",
      "  for cat_name, class_ in values.iteritems():\n",
      "c:\\Users\\DELL\\Study\\ML2 2022\\ML2 Assignment1 Car Price Prediction\\car-price-prediction\\venv_car_price_pred\\lib\\site-packages\\category_encoders\\one_hot.py:145: FutureWarning: iteritems is deprecated and will be removed in a future version. Use .items instead.\n",
      "  for cat_name, class_ in values.iteritems():\n",
      "c:\\Users\\DELL\\Study\\ML2 2022\\ML2 Assignment1 Car Price Prediction\\car-price-prediction\\venv_car_price_pred\\lib\\site-packages\\category_encoders\\one_hot.py:145: FutureWarning: iteritems is deprecated and will be removed in a future version. Use .items instead.\n",
      "  for cat_name, class_ in values.iteritems():\n",
      "c:\\Users\\DELL\\Study\\ML2 2022\\ML2 Assignment1 Car Price Prediction\\car-price-prediction\\venv_car_price_pred\\lib\\site-packages\\category_encoders\\one_hot.py:145: FutureWarning: iteritems is deprecated and will be removed in a future version. Use .items instead.\n",
      "  for cat_name, class_ in values.iteritems():\n",
      "c:\\Users\\DELL\\Study\\ML2 2022\\ML2 Assignment1 Car Price Prediction\\car-price-prediction\\venv_car_price_pred\\lib\\site-packages\\category_encoders\\one_hot.py:145: FutureWarning: iteritems is deprecated and will be removed in a future version. Use .items instead.\n",
      "  for cat_name, class_ in values.iteritems():\n",
      "c:\\Users\\DELL\\Study\\ML2 2022\\ML2 Assignment1 Car Price Prediction\\car-price-prediction\\venv_car_price_pred\\lib\\site-packages\\category_encoders\\one_hot.py:145: FutureWarning: iteritems is deprecated and will be removed in a future version. Use .items instead.\n",
      "  for cat_name, class_ in values.iteritems():\n"
     ]
    },
    {
     "data": {
      "text/html": [
       "<style>#sk-container-id-3 {color: black;background-color: white;}#sk-container-id-3 pre{padding: 0;}#sk-container-id-3 div.sk-toggleable {background-color: white;}#sk-container-id-3 label.sk-toggleable__label {cursor: pointer;display: block;width: 100%;margin-bottom: 0;padding: 0.3em;box-sizing: border-box;text-align: center;}#sk-container-id-3 label.sk-toggleable__label-arrow:before {content: \"▸\";float: left;margin-right: 0.25em;color: #696969;}#sk-container-id-3 label.sk-toggleable__label-arrow:hover:before {color: black;}#sk-container-id-3 div.sk-estimator:hover label.sk-toggleable__label-arrow:before {color: black;}#sk-container-id-3 div.sk-toggleable__content {max-height: 0;max-width: 0;overflow: hidden;text-align: left;background-color: #f0f8ff;}#sk-container-id-3 div.sk-toggleable__content pre {margin: 0.2em;color: black;border-radius: 0.25em;background-color: #f0f8ff;}#sk-container-id-3 input.sk-toggleable__control:checked~div.sk-toggleable__content {max-height: 200px;max-width: 100%;overflow: auto;}#sk-container-id-3 input.sk-toggleable__control:checked~label.sk-toggleable__label-arrow:before {content: \"▾\";}#sk-container-id-3 div.sk-estimator input.sk-toggleable__control:checked~label.sk-toggleable__label {background-color: #d4ebff;}#sk-container-id-3 div.sk-label input.sk-toggleable__control:checked~label.sk-toggleable__label {background-color: #d4ebff;}#sk-container-id-3 input.sk-hidden--visually {border: 0;clip: rect(1px 1px 1px 1px);clip: rect(1px, 1px, 1px, 1px);height: 1px;margin: -1px;overflow: hidden;padding: 0;position: absolute;width: 1px;}#sk-container-id-3 div.sk-estimator {font-family: monospace;background-color: #f0f8ff;border: 1px dotted black;border-radius: 0.25em;box-sizing: border-box;margin-bottom: 0.5em;}#sk-container-id-3 div.sk-estimator:hover {background-color: #d4ebff;}#sk-container-id-3 div.sk-parallel-item::after {content: \"\";width: 100%;border-bottom: 1px solid gray;flex-grow: 1;}#sk-container-id-3 div.sk-label:hover label.sk-toggleable__label {background-color: #d4ebff;}#sk-container-id-3 div.sk-serial::before {content: \"\";position: absolute;border-left: 1px solid gray;box-sizing: border-box;top: 0;bottom: 0;left: 50%;z-index: 0;}#sk-container-id-3 div.sk-serial {display: flex;flex-direction: column;align-items: center;background-color: white;padding-right: 0.2em;padding-left: 0.2em;position: relative;}#sk-container-id-3 div.sk-item {position: relative;z-index: 1;}#sk-container-id-3 div.sk-parallel {display: flex;align-items: stretch;justify-content: center;background-color: white;position: relative;}#sk-container-id-3 div.sk-item::before, #sk-container-id-3 div.sk-parallel-item::before {content: \"\";position: absolute;border-left: 1px solid gray;box-sizing: border-box;top: 0;bottom: 0;left: 50%;z-index: -1;}#sk-container-id-3 div.sk-parallel-item {display: flex;flex-direction: column;z-index: 1;position: relative;background-color: white;}#sk-container-id-3 div.sk-parallel-item:first-child::after {align-self: flex-end;width: 50%;}#sk-container-id-3 div.sk-parallel-item:last-child::after {align-self: flex-start;width: 50%;}#sk-container-id-3 div.sk-parallel-item:only-child::after {width: 0;}#sk-container-id-3 div.sk-dashed-wrapped {border: 1px dashed gray;margin: 0 0.4em 0.5em 0.4em;box-sizing: border-box;padding-bottom: 0.4em;background-color: white;}#sk-container-id-3 div.sk-label label {font-family: monospace;font-weight: bold;display: inline-block;line-height: 1.2em;}#sk-container-id-3 div.sk-label-container {text-align: center;}#sk-container-id-3 div.sk-container {/* jupyter's `normalize.less` sets `[hidden] { display: none; }` but bootstrap.min.css set `[hidden] { display: none !important; }` so we also need the `!important` here to be able to override the default hidden behavior on the sphinx rendered scikit-learn.org. See: https://github.com/scikit-learn/scikit-learn/issues/21755 */display: inline-block !important;position: relative;}#sk-container-id-3 div.sk-text-repr-fallback {display: none;}</style><div id=\"sk-container-id-3\" class=\"sk-top-container\"><div class=\"sk-text-repr-fallback\"><pre>Pipeline(steps=[(&#x27;transformer&#x27;,\n",
       "                 ColumnTransformer(remainder=&#x27;passthrough&#x27;,\n",
       "                                   transformers=[(&#x27;categorical&#x27;,\n",
       "                                                  OneHotEncoder(),\n",
       "                                                  [&#x27;car_color&#x27;, &#x27;fuel_type&#x27;,\n",
       "                                                   &#x27;car_type&#x27;, &#x27;car_license&#x27;,\n",
       "                                                   &#x27;gear_type&#x27;, &#x27;windows&#x27;,\n",
       "                                                   &#x27;payment_method&#x27;,\n",
       "                                                   &#x27;car_state&#x27;]),\n",
       "                                                 (&#x27;numerical&#x27;,\n",
       "                                                  PowerTransformer(),\n",
       "                                                  [&#x27;motor_power&#x27;, &#x27;speedometer&#x27;,\n",
       "                                                   &#x27;passengers_number&#x27;,\n",
       "                                                   &#x27;ex_owners&#x27;])])),\n",
       "                (&#x27;model&#x27;, GradientBoostingRegressor())])</pre><b>In a Jupyter environment, please rerun this cell to show the HTML representation or trust the notebook. <br />On GitHub, the HTML representation is unable to render, please try loading this page with nbviewer.org.</b></div><div class=\"sk-container\" hidden><div class=\"sk-item sk-dashed-wrapped\"><div class=\"sk-label-container\"><div class=\"sk-label sk-toggleable\"><input class=\"sk-toggleable__control sk-hidden--visually\" id=\"sk-estimator-id-17\" type=\"checkbox\" ><label for=\"sk-estimator-id-17\" class=\"sk-toggleable__label sk-toggleable__label-arrow\">Pipeline</label><div class=\"sk-toggleable__content\"><pre>Pipeline(steps=[(&#x27;transformer&#x27;,\n",
       "                 ColumnTransformer(remainder=&#x27;passthrough&#x27;,\n",
       "                                   transformers=[(&#x27;categorical&#x27;,\n",
       "                                                  OneHotEncoder(),\n",
       "                                                  [&#x27;car_color&#x27;, &#x27;fuel_type&#x27;,\n",
       "                                                   &#x27;car_type&#x27;, &#x27;car_license&#x27;,\n",
       "                                                   &#x27;gear_type&#x27;, &#x27;windows&#x27;,\n",
       "                                                   &#x27;payment_method&#x27;,\n",
       "                                                   &#x27;car_state&#x27;]),\n",
       "                                                 (&#x27;numerical&#x27;,\n",
       "                                                  PowerTransformer(),\n",
       "                                                  [&#x27;motor_power&#x27;, &#x27;speedometer&#x27;,\n",
       "                                                   &#x27;passengers_number&#x27;,\n",
       "                                                   &#x27;ex_owners&#x27;])])),\n",
       "                (&#x27;model&#x27;, GradientBoostingRegressor())])</pre></div></div></div><div class=\"sk-serial\"><div class=\"sk-item sk-dashed-wrapped\"><div class=\"sk-label-container\"><div class=\"sk-label sk-toggleable\"><input class=\"sk-toggleable__control sk-hidden--visually\" id=\"sk-estimator-id-18\" type=\"checkbox\" ><label for=\"sk-estimator-id-18\" class=\"sk-toggleable__label sk-toggleable__label-arrow\">transformer: ColumnTransformer</label><div class=\"sk-toggleable__content\"><pre>ColumnTransformer(remainder=&#x27;passthrough&#x27;,\n",
       "                  transformers=[(&#x27;categorical&#x27;, OneHotEncoder(),\n",
       "                                 [&#x27;car_color&#x27;, &#x27;fuel_type&#x27;, &#x27;car_type&#x27;,\n",
       "                                  &#x27;car_license&#x27;, &#x27;gear_type&#x27;, &#x27;windows&#x27;,\n",
       "                                  &#x27;payment_method&#x27;, &#x27;car_state&#x27;]),\n",
       "                                (&#x27;numerical&#x27;, PowerTransformer(),\n",
       "                                 [&#x27;motor_power&#x27;, &#x27;speedometer&#x27;,\n",
       "                                  &#x27;passengers_number&#x27;, &#x27;ex_owners&#x27;])])</pre></div></div></div><div class=\"sk-parallel\"><div class=\"sk-parallel-item\"><div class=\"sk-item\"><div class=\"sk-label-container\"><div class=\"sk-label sk-toggleable\"><input class=\"sk-toggleable__control sk-hidden--visually\" id=\"sk-estimator-id-19\" type=\"checkbox\" ><label for=\"sk-estimator-id-19\" class=\"sk-toggleable__label sk-toggleable__label-arrow\">categorical</label><div class=\"sk-toggleable__content\"><pre>[&#x27;car_color&#x27;, &#x27;fuel_type&#x27;, &#x27;car_type&#x27;, &#x27;car_license&#x27;, &#x27;gear_type&#x27;, &#x27;windows&#x27;, &#x27;payment_method&#x27;, &#x27;car_state&#x27;]</pre></div></div></div><div class=\"sk-serial\"><div class=\"sk-item\"><div class=\"sk-estimator sk-toggleable\"><input class=\"sk-toggleable__control sk-hidden--visually\" id=\"sk-estimator-id-20\" type=\"checkbox\" ><label for=\"sk-estimator-id-20\" class=\"sk-toggleable__label sk-toggleable__label-arrow\">OneHotEncoder</label><div class=\"sk-toggleable__content\"><pre>OneHotEncoder()</pre></div></div></div></div></div></div><div class=\"sk-parallel-item\"><div class=\"sk-item\"><div class=\"sk-label-container\"><div class=\"sk-label sk-toggleable\"><input class=\"sk-toggleable__control sk-hidden--visually\" id=\"sk-estimator-id-21\" type=\"checkbox\" ><label for=\"sk-estimator-id-21\" class=\"sk-toggleable__label sk-toggleable__label-arrow\">numerical</label><div class=\"sk-toggleable__content\"><pre>[&#x27;motor_power&#x27;, &#x27;speedometer&#x27;, &#x27;passengers_number&#x27;, &#x27;ex_owners&#x27;]</pre></div></div></div><div class=\"sk-serial\"><div class=\"sk-item\"><div class=\"sk-estimator sk-toggleable\"><input class=\"sk-toggleable__control sk-hidden--visually\" id=\"sk-estimator-id-22\" type=\"checkbox\" ><label for=\"sk-estimator-id-22\" class=\"sk-toggleable__label sk-toggleable__label-arrow\">PowerTransformer</label><div class=\"sk-toggleable__content\"><pre>PowerTransformer()</pre></div></div></div></div></div></div><div class=\"sk-parallel-item\"><div class=\"sk-item\"><div class=\"sk-label-container\"><div class=\"sk-label sk-toggleable\"><input class=\"sk-toggleable__control sk-hidden--visually\" id=\"sk-estimator-id-23\" type=\"checkbox\" ><label for=\"sk-estimator-id-23\" class=\"sk-toggleable__label sk-toggleable__label-arrow\">remainder</label><div class=\"sk-toggleable__content\"><pre>[]</pre></div></div></div><div class=\"sk-serial\"><div class=\"sk-item\"><div class=\"sk-estimator sk-toggleable\"><input class=\"sk-toggleable__control sk-hidden--visually\" id=\"sk-estimator-id-24\" type=\"checkbox\" ><label for=\"sk-estimator-id-24\" class=\"sk-toggleable__label sk-toggleable__label-arrow\">passthrough</label><div class=\"sk-toggleable__content\"><pre>passthrough</pre></div></div></div></div></div></div></div></div><div class=\"sk-item\"><div class=\"sk-estimator sk-toggleable\"><input class=\"sk-toggleable__control sk-hidden--visually\" id=\"sk-estimator-id-25\" type=\"checkbox\" ><label for=\"sk-estimator-id-25\" class=\"sk-toggleable__label sk-toggleable__label-arrow\">GradientBoostingRegressor</label><div class=\"sk-toggleable__content\"><pre>GradientBoostingRegressor()</pre></div></div></div></div></div></div></div>"
      ],
      "text/plain": [
       "Pipeline(steps=[('transformer',\n",
       "                 ColumnTransformer(remainder='passthrough',\n",
       "                                   transformers=[('categorical',\n",
       "                                                  OneHotEncoder(),\n",
       "                                                  ['car_color', 'fuel_type',\n",
       "                                                   'car_type', 'car_license',\n",
       "                                                   'gear_type', 'windows',\n",
       "                                                   'payment_method',\n",
       "                                                   'car_state']),\n",
       "                                                 ('numerical',\n",
       "                                                  PowerTransformer(),\n",
       "                                                  ['motor_power', 'speedometer',\n",
       "                                                   'passengers_number',\n",
       "                                                   'ex_owners'])])),\n",
       "                ('model', GradientBoostingRegressor())])"
      ]
     },
     "execution_count": 134,
     "metadata": {},
     "output_type": "execute_result"
    }
   ],
   "source": [
    "# fit the pipeline on the all the dataset\n",
    "pipeline.fit(X, y) "
   ]
  },
  {
   "cell_type": "code",
   "execution_count": 135,
   "metadata": {},
   "outputs": [],
   "source": [
    "pickle.dump(pipeline,\n",
    "            open('../pkls/gbr_model_pipeline.pkl',\n",
    "            'wb'))"
   ]
  }
 ],
 "metadata": {
  "kernelspec": {
   "display_name": "Python 3 (ipykernel)",
   "language": "python",
   "name": "python3"
  },
  "language_info": {
   "codemirror_mode": {
    "name": "ipython",
    "version": 3
   },
   "file_extension": ".py",
   "mimetype": "text/x-python",
   "name": "python",
   "nbconvert_exporter": "python",
   "pygments_lexer": "ipython3",
   "version": "3.10.9"
  },
  "vscode": {
   "interpreter": {
    "hash": "35593e51b4ce14723bf766f164ae734becbb9dd9e36b261e438ccc9705ab8552"
   }
  }
 },
 "nbformat": 4,
 "nbformat_minor": 2
}
